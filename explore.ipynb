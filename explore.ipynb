{
 "cells": [
  {
   "cell_type": "code",
   "execution_count": 10,
   "id": "db6b9ac4-13a7-4795-8a47-1156bc3d0974",
   "metadata": {
    "tags": []
   },
   "outputs": [],
   "source": [
    "import pandas as pd\n",
    "import seaborn as sns\n",
    "from Bio.Seq import Seq\n",
    "import re"
   ]
  },
  {
   "cell_type": "code",
   "execution_count": 17,
   "id": "e5f6cb17-03de-428f-897e-ec9ef538b759",
   "metadata": {
    "tags": []
   },
   "outputs": [
    {
     "data": {
      "text/plain": [
       "False"
      ]
     },
     "execution_count": 17,
     "metadata": {},
     "output_type": "execute_result"
    }
   ],
   "source": [
    "df_42 = pd.read_csv(\"./data/airrship_shm_seed42_100_000.tsv\", sep=\"\\t\")\n",
    "df_24 = pd.read_csv(\"./data/airrship_shm_seed24_100_000.tsv\", sep=\"\\t\")\n",
    "df_all = pd.concat([df_42[\"sequence\"], df_24[\"sequence\"]])\n",
    "df_all.duplicated().any()"
   ]
  },
  {
   "cell_type": "code",
   "execution_count": 21,
   "id": "ed687542-c6a4-499f-8eda-b19fb84f4aec",
   "metadata": {
    "tags": []
   },
   "outputs": [
    {
     "data": {
      "text/plain": [
       "421"
      ]
     },
     "execution_count": 21,
     "metadata": {},
     "output_type": "execute_result"
    }
   ],
   "source": [
    "pos_names = [ f\"{seg}_sequence_{pos}\" for seg in \"vdj\" for pos in (\"start\", \"end\") ]\n",
    "pos_names.append(\"sequence\")\n",
    "df_implant = pd.read_csv(\"./data/implant_shm_seed24_100_000.tsv\", sep=\"\\t\", index_col=0)\n",
    "df_all = pd.concat([df_42[pos_names], df_implant[pos_names]])\n",
    "df_all.duplicated().sum()"
   ]
  },
  {
   "cell_type": "code",
   "execution_count": 2,
   "id": "d850f788-0143-4325-89f5-d4eb3bf35c73",
   "metadata": {
    "tags": []
   },
   "outputs": [
    {
     "data": {
      "text/plain": [
       "True"
      ]
     },
     "execution_count": 2,
     "metadata": {},
     "output_type": "execute_result"
    }
   ],
   "source": [
    "# df_small = pd.read_csv(\"./data/airrship_shm_seed42_10_000.tsv\", sep=\"\\t\")\n",
    "# df_medium = pd.read_csv(\"./data/airrship_shm_seed42_50_000.tsv\", sep=\"\\t\")\n",
    "# df_large = pd.read_csv(\"./data/airrship_shm_seed42_100_000.tsv\", sep=\"\\t\")\n",
    "# df_all = pd.concat([df_small, df_medium, df_large])\n",
    "# df_all.duplicated().any()"
   ]
  },
  {
   "cell_type": "code",
   "execution_count": 3,
   "id": "d5a54741-bd40-4eeb-9d44-2ff1c1be20c7",
   "metadata": {
    "tags": []
   },
   "outputs": [
    {
     "data": {
      "text/plain": [
       "True"
      ]
     },
     "execution_count": 3,
     "metadata": {},
     "output_type": "execute_result"
    }
   ],
   "source": [
    "# (df_medium[\"sequence\"] == df_large[\"sequence\"][:50000]).all()"
   ]
  },
  {
   "cell_type": "code",
   "execution_count": 4,
   "id": "643cbba3-a3f0-4130-94dc-d4639d8cbd30",
   "metadata": {
    "tags": []
   },
   "outputs": [
    {
     "data": {
      "text/html": [
       "<div>\n",
       "<style scoped>\n",
       "    .dataframe tbody tr th:only-of-type {\n",
       "        vertical-align: middle;\n",
       "    }\n",
       "\n",
       "    .dataframe tbody tr th {\n",
       "        vertical-align: top;\n",
       "    }\n",
       "\n",
       "    .dataframe thead th {\n",
       "        text-align: right;\n",
       "    }\n",
       "</style>\n",
       "<table border=\"1\" class=\"dataframe\">\n",
       "  <thead>\n",
       "    <tr style=\"text-align: right;\">\n",
       "      <th></th>\n",
       "      <th>sequence_id</th>\n",
       "      <th>sequence</th>\n",
       "      <th>productive</th>\n",
       "      <th>stop_codon</th>\n",
       "      <th>vj_in_frame</th>\n",
       "      <th>v_call</th>\n",
       "      <th>d_call</th>\n",
       "      <th>j_call</th>\n",
       "      <th>junction</th>\n",
       "      <th>junction_aa</th>\n",
       "      <th>...</th>\n",
       "      <th>d_sequence_start</th>\n",
       "      <th>d_sequence_end</th>\n",
       "      <th>j_sequence_start</th>\n",
       "      <th>j_sequence_end</th>\n",
       "      <th>shm_events</th>\n",
       "      <th>shm_count</th>\n",
       "      <th>shm_freq</th>\n",
       "      <th>unmutated_sequence</th>\n",
       "      <th>gapped_unmutated_sequence</th>\n",
       "      <th>gapped_mutated_sequence</th>\n",
       "    </tr>\n",
       "  </thead>\n",
       "  <tbody>\n",
       "    <tr>\n",
       "      <th>0</th>\n",
       "      <td>0</td>\n",
       "      <td>CAGGTGCAGCTGCGGGAGTCGGGCCCAGGGCTGGTGAAGCCTTTGG...</td>\n",
       "      <td>T</td>\n",
       "      <td>T</td>\n",
       "      <td>F</td>\n",
       "      <td>IGHV4-61*08</td>\n",
       "      <td>IGHD3-3*02</td>\n",
       "      <td>IGHJ4*01</td>\n",
       "      <td>TGCGCGAGGCCGCCAGGTGTATCAGCATTTAGGAGGACACCCGCTT...</td>\n",
       "      <td>CARPPGVSAFRRTPAWDFDPW</td>\n",
       "      <td>...</td>\n",
       "      <td>307</td>\n",
       "      <td>318</td>\n",
       "      <td>338</td>\n",
       "      <td>382</td>\n",
       "      <td>14:A&gt;G,30:A&gt;G,44:C&gt;T,68:C&gt;A,84:C&gt;T,89:G&gt;C,90:C...</td>\n",
       "      <td>28</td>\n",
       "      <td>0.073298</td>\n",
       "      <td>CAGGTGCAGCTGCAGGAGTCGGGCCCAGGACTGGTGAAGCCTTCGG...</td>\n",
       "      <td>CAGGTGCAGCTGCAGGAGTCGGGCCCA...GGACTGGTGAAGCCTT...</td>\n",
       "      <td>CAGGTGCAGCTGCGGGAGTCGGGCCCA...GGGCTGGTGAAGCCTT...</td>\n",
       "    </tr>\n",
       "    <tr>\n",
       "      <th>1</th>\n",
       "      <td>1</td>\n",
       "      <td>CAGGTCACTTTGAGGGAGTCTGGTCCTGCGCTGGTGAAACCCACAC...</td>\n",
       "      <td>T</td>\n",
       "      <td>T</td>\n",
       "      <td>F</td>\n",
       "      <td>IGHV2-70*19</td>\n",
       "      <td>IGHD2-8*02</td>\n",
       "      <td>IGHJ4*01</td>\n",
       "      <td>TGTGCACGGGGGCATGTCCACGATAGGGTCTTTCCGAGAGTTGACT...</td>\n",
       "      <td>CARGHVHDRVFPRVDFW</td>\n",
       "      <td>...</td>\n",
       "      <td>310</td>\n",
       "      <td>313</td>\n",
       "      <td>329</td>\n",
       "      <td>370</td>\n",
       "      <td>9:C&gt;T,72:C&gt;T,82:T&gt;C,85:C&gt;A,88:A&gt;T,100:A&gt;G,105:...</td>\n",
       "      <td>20</td>\n",
       "      <td>0.054054</td>\n",
       "      <td>CAGGTCACCTTGAGGGAGTCTGGTCCTGCGCTGGTGAAACCCACAC...</td>\n",
       "      <td>CAGGTCACCTTGAGGGAGTCTGGTCCT...GCGCTGGTGAAACCCA...</td>\n",
       "      <td>CAGGTCACTTTGAGGGAGTCTGGTCCT...GCGCTGGTGAAACCCA...</td>\n",
       "    </tr>\n",
       "    <tr>\n",
       "      <th>2</th>\n",
       "      <td>2</td>\n",
       "      <td>GAGGTGCAGCTCCCGGAGTCTGGGGGCGGCCTGGTACAGCCTGGGG...</td>\n",
       "      <td>T</td>\n",
       "      <td>T</td>\n",
       "      <td>F</td>\n",
       "      <td>IGHV3-23*03</td>\n",
       "      <td>IGHD5-24*01</td>\n",
       "      <td>IGHJ4*01</td>\n",
       "      <td>TGTGCGAGAGACGGAAAAAAGAGACCCGACTGG</td>\n",
       "      <td>CARDGKKRPDW</td>\n",
       "      <td>...</td>\n",
       "      <td>305</td>\n",
       "      <td>309</td>\n",
       "      <td>314</td>\n",
       "      <td>349</td>\n",
       "      <td>12:G&gt;C,13:T&gt;C,14:T&gt;C,27:A&gt;C,31:T&gt;C,71:C&gt;T,90:C...</td>\n",
       "      <td>34</td>\n",
       "      <td>0.097421</td>\n",
       "      <td>GAGGTGCAGCTGTTGGAGTCTGGGGGAGGCTTGGTACAGCCTGGGG...</td>\n",
       "      <td>GAGGTGCAGCTGTTGGAGTCTGGGGGA...GGCTTGGTACAGCCTG...</td>\n",
       "      <td>GAGGTGCAGCTCCCGGAGTCTGGGGGC...GGCCTGGTACAGCCTG...</td>\n",
       "    </tr>\n",
       "    <tr>\n",
       "      <th>3</th>\n",
       "      <td>3</td>\n",
       "      <td>CAGGTGCAGCTGGTGGAGTCTGGGGGAGGCGTGGACCAGCCTGGGA...</td>\n",
       "      <td>T</td>\n",
       "      <td>T</td>\n",
       "      <td>F</td>\n",
       "      <td>IGHV3-33*05</td>\n",
       "      <td>IGHD3/OR15-3a*01</td>\n",
       "      <td>IGHJ4*01</td>\n",
       "      <td>TGTGCGAGAGACAAAAATTTGGGACTGGCCGGGAACTTCTTTGACT...</td>\n",
       "      <td>CARDKNLGLAGNFFDYW</td>\n",
       "      <td>...</td>\n",
       "      <td>304</td>\n",
       "      <td>313</td>\n",
       "      <td>326</td>\n",
       "      <td>367</td>\n",
       "      <td>35:T&gt;A,72:G&gt;T,92:G&gt;C,98:G&gt;A,132:G&gt;A,151:A&gt;T,15...</td>\n",
       "      <td>17</td>\n",
       "      <td>0.046322</td>\n",
       "      <td>CAGGTGCAGCTGGTGGAGTCTGGGGGAGGCGTGGTCCAGCCTGGGA...</td>\n",
       "      <td>CAGGTGCAGCTGGTGGAGTCTGGGGGA...GGCGTGGTCCAGCCTG...</td>\n",
       "      <td>CAGGTGCAGCTGGTGGAGTCTGGGGGA...GGCGTGGACCAGCCTG...</td>\n",
       "    </tr>\n",
       "    <tr>\n",
       "      <th>4</th>\n",
       "      <td>4</td>\n",
       "      <td>GAGGTGCAGCTGGTGGAGTCTGGGGGAGGCTTAGTTCAGCCTGGGG...</td>\n",
       "      <td>T</td>\n",
       "      <td>T</td>\n",
       "      <td>F</td>\n",
       "      <td>IGHV3-74*02</td>\n",
       "      <td>IGHD1-26*01</td>\n",
       "      <td>IGHJ4*01</td>\n",
       "      <td>TGTGCAAGACAAGTGGGGGGCAATATCGACCACCTTTCGAAATACT...</td>\n",
       "      <td>CARQVGGNIDHLSKYYW</td>\n",
       "      <td>...</td>\n",
       "      <td>298</td>\n",
       "      <td>301</td>\n",
       "      <td>329</td>\n",
       "      <td>367</td>\n",
       "      <td>89:G&gt;C,93:C&gt;T,97:T&gt;C,119:C&gt;T,138:G&gt;A,147:A&gt;C,1...</td>\n",
       "      <td>14</td>\n",
       "      <td>0.038147</td>\n",
       "      <td>GAGGTGCAGCTGGTGGAGTCTGGGGGAGGCTTAGTTCAGCCTGGGG...</td>\n",
       "      <td>GAGGTGCAGCTGGTGGAGTCTGGGGGA...GGCTTAGTTCAGCCTG...</td>\n",
       "      <td>GAGGTGCAGCTGGTGGAGTCTGGGGGA...GGCTTAGTTCAGCCTG...</td>\n",
       "    </tr>\n",
       "  </tbody>\n",
       "</table>\n",
       "<p>5 rows × 34 columns</p>\n",
       "</div>"
      ],
      "text/plain": [
       "   sequence_id                                           sequence productive   \n",
       "0            0  CAGGTGCAGCTGCGGGAGTCGGGCCCAGGGCTGGTGAAGCCTTTGG...          T  \\\n",
       "1            1  CAGGTCACTTTGAGGGAGTCTGGTCCTGCGCTGGTGAAACCCACAC...          T   \n",
       "2            2  GAGGTGCAGCTCCCGGAGTCTGGGGGCGGCCTGGTACAGCCTGGGG...          T   \n",
       "3            3  CAGGTGCAGCTGGTGGAGTCTGGGGGAGGCGTGGACCAGCCTGGGA...          T   \n",
       "4            4  GAGGTGCAGCTGGTGGAGTCTGGGGGAGGCTTAGTTCAGCCTGGGG...          T   \n",
       "\n",
       "  stop_codon vj_in_frame       v_call            d_call    j_call   \n",
       "0          T           F  IGHV4-61*08        IGHD3-3*02  IGHJ4*01  \\\n",
       "1          T           F  IGHV2-70*19        IGHD2-8*02  IGHJ4*01   \n",
       "2          T           F  IGHV3-23*03       IGHD5-24*01  IGHJ4*01   \n",
       "3          T           F  IGHV3-33*05  IGHD3/OR15-3a*01  IGHJ4*01   \n",
       "4          T           F  IGHV3-74*02       IGHD1-26*01  IGHJ4*01   \n",
       "\n",
       "                                            junction            junction_aa   \n",
       "0  TGCGCGAGGCCGCCAGGTGTATCAGCATTTAGGAGGACACCCGCTT...  CARPPGVSAFRRTPAWDFDPW  \\\n",
       "1  TGTGCACGGGGGCATGTCCACGATAGGGTCTTTCCGAGAGTTGACT...      CARGHVHDRVFPRVDFW   \n",
       "2                  TGTGCGAGAGACGGAAAAAAGAGACCCGACTGG            CARDGKKRPDW   \n",
       "3  TGTGCGAGAGACAAAAATTTGGGACTGGCCGGGAACTTCTTTGACT...      CARDKNLGLAGNFFDYW   \n",
       "4  TGTGCAAGACAAGTGGGGGGCAATATCGACCACCTTTCGAAATACT...      CARQVGGNIDHLSKYYW   \n",
       "\n",
       "   ...  d_sequence_start  d_sequence_end j_sequence_start  j_sequence_end   \n",
       "0  ...               307             318              338             382  \\\n",
       "1  ...               310             313              329             370   \n",
       "2  ...               305             309              314             349   \n",
       "3  ...               304             313              326             367   \n",
       "4  ...               298             301              329             367   \n",
       "\n",
       "                                          shm_events  shm_count  shm_freq   \n",
       "0  14:A>G,30:A>G,44:C>T,68:C>A,84:C>T,89:G>C,90:C...         28  0.073298  \\\n",
       "1  9:C>T,72:C>T,82:T>C,85:C>A,88:A>T,100:A>G,105:...         20  0.054054   \n",
       "2  12:G>C,13:T>C,14:T>C,27:A>C,31:T>C,71:C>T,90:C...         34  0.097421   \n",
       "3  35:T>A,72:G>T,92:G>C,98:G>A,132:G>A,151:A>T,15...         17  0.046322   \n",
       "4  89:G>C,93:C>T,97:T>C,119:C>T,138:G>A,147:A>C,1...         14  0.038147   \n",
       "\n",
       "                                  unmutated_sequence   \n",
       "0  CAGGTGCAGCTGCAGGAGTCGGGCCCAGGACTGGTGAAGCCTTCGG...  \\\n",
       "1  CAGGTCACCTTGAGGGAGTCTGGTCCTGCGCTGGTGAAACCCACAC...   \n",
       "2  GAGGTGCAGCTGTTGGAGTCTGGGGGAGGCTTGGTACAGCCTGGGG...   \n",
       "3  CAGGTGCAGCTGGTGGAGTCTGGGGGAGGCGTGGTCCAGCCTGGGA...   \n",
       "4  GAGGTGCAGCTGGTGGAGTCTGGGGGAGGCTTAGTTCAGCCTGGGG...   \n",
       "\n",
       "                           gapped_unmutated_sequence   \n",
       "0  CAGGTGCAGCTGCAGGAGTCGGGCCCA...GGACTGGTGAAGCCTT...  \\\n",
       "1  CAGGTCACCTTGAGGGAGTCTGGTCCT...GCGCTGGTGAAACCCA...   \n",
       "2  GAGGTGCAGCTGTTGGAGTCTGGGGGA...GGCTTGGTACAGCCTG...   \n",
       "3  CAGGTGCAGCTGGTGGAGTCTGGGGGA...GGCGTGGTCCAGCCTG...   \n",
       "4  GAGGTGCAGCTGGTGGAGTCTGGGGGA...GGCTTAGTTCAGCCTG...   \n",
       "\n",
       "                             gapped_mutated_sequence  \n",
       "0  CAGGTGCAGCTGCGGGAGTCGGGCCCA...GGGCTGGTGAAGCCTT...  \n",
       "1  CAGGTCACTTTGAGGGAGTCTGGTCCT...GCGCTGGTGAAACCCA...  \n",
       "2  GAGGTGCAGCTCCCGGAGTCTGGGGGC...GGCCTGGTACAGCCTG...  \n",
       "3  CAGGTGCAGCTGGTGGAGTCTGGGGGA...GGCGTGGACCAGCCTG...  \n",
       "4  GAGGTGCAGCTGGTGGAGTCTGGGGGA...GGCTTAGTTCAGCCTG...  \n",
       "\n",
       "[5 rows x 34 columns]"
      ]
     },
     "execution_count": 4,
     "metadata": {},
     "output_type": "execute_result"
    }
   ],
   "source": [
    "df = pd.read_csv(\"./data/airrship_shm_seed42_100_000.tsv\", sep=\"\\t\")\n",
    "df.head()"
   ]
  },
  {
   "cell_type": "code",
   "execution_count": 5,
   "id": "c5630288-51e1-455f-8d22-88ec5a9e56b6",
   "metadata": {
    "tags": []
   },
   "outputs": [
    {
     "data": {
      "text/plain": [
       "True"
      ]
     },
     "execution_count": 5,
     "metadata": {},
     "output_type": "execute_result"
    }
   ],
   "source": [
    "# check if the sequence, segment boundaries and segments are consistent\n",
    "def check_consistence(row):\n",
    "    pos_names = [ f\"{seg}_sequence_{pos}\" for seg in \"vdj\" for pos in (\"start\", \"end\") ]\n",
    "    seq = row[\"sequence\"]\n",
    "    pos = row[pos_names]\n",
    "    for seg in \"vdj\":\n",
    "        cor_seq = row[seg + \"_sequence\"]\n",
    "        start = pos[seg + \"_sequence_start\"] - 1\n",
    "        end = pos[seg + \"_sequence_end\"]\n",
    "        flag = (seq[start:end] == cor_seq)\n",
    "    return flag\n",
    "\n",
    "df.apply(check_consistence, axis=1).all()"
   ]
  },
  {
   "cell_type": "code",
   "execution_count": 6,
   "id": "09cc0146-99c9-40d6-aad5-52abf88d5716",
   "metadata": {
    "tags": []
   },
   "outputs": [
    {
     "data": {
      "text/plain": [
       "False"
      ]
     },
     "execution_count": 6,
     "metadata": {},
     "output_type": "execute_result"
    }
   ],
   "source": [
    "# check if there is any duplicated sequences\n",
    "df[\"sequence\"].duplicated().any()"
   ]
  },
  {
   "cell_type": "code",
   "execution_count": 7,
   "id": "1ca96d2c-b1be-45b3-8346-27b2a608dfaa",
   "metadata": {
    "tags": []
   },
   "outputs": [
    {
     "data": {
      "text/plain": [
       "True"
      ]
     },
     "execution_count": 7,
     "metadata": {},
     "output_type": "execute_result"
    }
   ],
   "source": [
    "# check if sequence length equals to j_sequence_end\n",
    "seq_len = df[\"sequence\"].str.len()\n",
    "(seq_len == df[\"j_sequence_end\"]).all()"
   ]
  },
  {
   "cell_type": "code",
   "execution_count": 8,
   "id": "551e968c-c1e2-4e7f-95ae-8afe5facfcfe",
   "metadata": {
    "tags": []
   },
   "outputs": [
    {
     "data": {
      "text/plain": [
       "count    100000.000000\n",
       "mean        368.834470\n",
       "std          12.637981\n",
       "min         331.000000\n",
       "25%         361.000000\n",
       "50%         367.000000\n",
       "75%         376.000000\n",
       "max         436.000000\n",
       "Name: sequence, dtype: float64"
      ]
     },
     "execution_count": 8,
     "metadata": {},
     "output_type": "execute_result"
    }
   ],
   "source": [
    "seq_len.describe()"
   ]
  },
  {
   "cell_type": "code",
   "execution_count": 9,
   "id": "177115c2-f741-4f5c-9786-4f0571660327",
   "metadata": {
    "tags": []
   },
   "outputs": [
    {
     "data": {
      "text/plain": [
       "<Axes: xlabel='sequence', ylabel='Count'>"
      ]
     },
     "execution_count": 9,
     "metadata": {},
     "output_type": "execute_result"
    },
    {
     "data": {
      "image/png": "[encoded data removed]",
      "text/plain": [
       "<Figure size 640x480 with 1 Axes>"
      ]
     },
     "metadata": {},
     "output_type": "display_data"
    }
   ],
   "source": [
    "sns.histplot(seq_len)"
   ]
  },
  {
   "cell_type": "code",
   "execution_count": 6,
   "id": "ed478c4e-363d-4c58-a5b0-83e6c61cfe09",
   "metadata": {
    "tags": []
   },
   "outputs": [
    {
     "data": {
      "text/plain": [
       "True"
      ]
     },
     "execution_count": 6,
     "metadata": {},
     "output_type": "execute_result"
    }
   ],
   "source": [
    "(seq_len % 3 == 1).all()"
   ]
  },
  {
   "cell_type": "code",
   "execution_count": 7,
   "id": "1938c5c4-22ac-4611-bcdb-55b4fe30db0d",
   "metadata": {
    "tags": []
   },
   "outputs": [
    {
     "name": "stderr",
     "output_type": "stream",
     "text": [
      "/home/s2449149/.conda/envs/proj_lyf/lib/python3.10/site-packages/Bio/Seq.py:2804: BiopythonWarning: Partial codon, len(sequence) not a multiple of three. Explicitly trim the sequence or add trailing N before translation. This may become an error in future.\n",
      "  warnings.warn(\n"
     ]
    },
    {
     "data": {
      "text/plain": [
       "True"
      ]
     },
     "execution_count": 7,
     "metadata": {},
     "output_type": "execute_result"
    }
   ],
   "source": [
    "seq_a = Seq(df.loc[0, \"sequence\"])\n",
    "seq_a_tran = seq_a.translate()\n",
    "df.loc[0, \"junction_aa\"] in seq_a_tran"
   ]
  },
  {
   "cell_type": "code",
   "execution_count": 8,
   "id": "3172371f-88c4-411f-8bf5-eb7299a23151",
   "metadata": {
    "tags": []
   },
   "outputs": [
    {
     "data": {
      "text/plain": [
       "'CAGGTGCAGCTGCGGGAGTCGGGCCCA...GGGCTGGTGAAGCCTTTGGAGACCCTGTCCCTCACCTGCAATGTCTCTGGTGGCTCTGTCACT......AGTGGTGGTTACTACTGGAGTTGGGTCCGGCTGACCCCAGGGAAGGGACTGGACTGGATTGGTTTTCTTTATTACAGT.........GGGAGTACCAATTACAACCCCTCCCTCGAG...ACTCGAGTCACCATATCAGTAGACACGGCCAAGAACCAGTTCTCTCTGAAGGTGAGCTCTGTGACCGCTGCGGACACGGCCGTGTATTACTGCGCGAGGCCGCCAGGTGTATCAGCATTTAGGAGGACACCCGCTTGGGACTTTGACCCCTGGGGCCATGGAACCCTGGTCACCGTCTCCTCAG'"
      ]
     },
     "execution_count": 8,
     "metadata": {},
     "output_type": "execute_result"
    }
   ],
   "source": [
    "df.loc[0, \"gapped_mutated_sequence\"]"
   ]
  },
  {
   "cell_type": "code",
   "execution_count": 11,
   "id": "d1aa5a6c-c00f-429c-8905-45ac3b08f521",
   "metadata": {},
   "outputs": [
    {
     "data": {
      "text/plain": [
       "v_sequence_start      1.0000\n",
       "v_sequence_end      295.1613\n",
       "d_sequence_start    304.2075\n",
       "d_sequence_end      314.9446\n",
       "j_sequence_start    323.2686\n",
       "j_sequence_end      368.7943\n",
       "dtype: float64"
      ]
     },
     "execution_count": 11,
     "metadata": {},
     "output_type": "execute_result"
    }
   ],
   "source": [
    "pos_names = [ f\"{seg}_sequence_{pos}\" for seg in \"vdj\" for pos in (\"start\", \"end\") ]\n",
    "df_pos = df[pos_names]\n",
    "df_pos.mean()"
   ]
  },
  {
   "cell_type": "code",
   "execution_count": 26,
   "id": "8f8c7ea1-b883-4c6a-9f26-ff8021d0c6d3",
   "metadata": {
    "tags": []
   },
   "outputs": [
    {
     "data": {
      "text/plain": [
       "69.91171640833332"
      ]
     },
     "execution_count": 26,
     "metadata": {},
     "output_type": "execute_result"
    }
   ],
   "source": [
    "pos_array = df_pos.to_numpy()\n",
    "pos_mean = pos_array.mean(axis=0)\n",
    "mean_pred_mse = ((pos_array - pos_mean) ** 2).mean()\n",
    "mean_pred_mse"
   ]
  }
 ],
 "metadata": {
  "kernelspec": {
   "display_name": "proj_lyf",
   "language": "python",
   "name": "proj_lyf"
  },
  "language_info": {
   "codemirror_mode": {
    "name": "ipython",
    "version": 3
   },
   "file_extension": ".py",
   "mimetype": "text/x-python",
   "name": "python",
   "nbconvert_exporter": "python",
   "pygments_lexer": "ipython3",
   "version": "3.10.8"
  }
 },
 "nbformat": 4,
 "nbformat_minor": 5
}
