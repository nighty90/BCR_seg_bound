{
 "cells": [
  {
   "cell_type": "markdown",
   "id": "7e5652e8-1f1a-411c-a2f1-c1ef2d93c55a",
   "metadata": {
    "tags": []
   },
   "source": [
    "### Import and global config"
   ]
  },
  {
   "cell_type": "code",
   "execution_count": 1,
   "id": "943ef651-7fe0-492c-89a9-f665efcc2a0b",
   "metadata": {
    "tags": []
   },
   "outputs": [
    {
     "name": "stdout",
     "output_type": "stream",
     "text": [
      "env: TF_CPP_MIN_LOG_LEVEL=3\n"
     ]
    }
   ],
   "source": [
    "%env TF_CPP_MIN_LOG_LEVEL=3"
   ]
  },
  {
   "cell_type": "code",
   "execution_count": 2,
   "id": "9a6af7db-52e6-46d4-806c-96981841fa31",
   "metadata": {
    "tags": []
   },
   "outputs": [],
   "source": [
    "from datetime import datetime\n",
    "from itertools import product\n",
    "import re\n",
    "import json\n",
    "import math\n",
    "import pandas as pd\n",
    "import numpy as np\n",
    "import tensorflow as tf\n",
    "from tensorflow import keras\n",
    "from tensorflow.data import Dataset\n",
    "from tensorflow.keras import backend\n",
    "import keras_tuner"
   ]
  },
  {
   "cell_type": "code",
   "execution_count": 4,
   "id": "68c5f770-0386-4422-b6e7-ad8fa3dc9ef8",
   "metadata": {
    "tags": []
   },
   "outputs": [
    {
     "name": "stdout",
     "output_type": "stream",
     "text": [
      "Enable VRAM growth\n"
     ]
    }
   ],
   "source": [
    "def check_and_set_gpu():\n",
    "    gpu_list = tf.config.list_physical_devices('GPU')\n",
    "    if len(gpu_list) == 0:\n",
    "        print(\"No available GPU!\")\n",
    "    else:\n",
    "        try:\n",
    "            tf.config.experimental.set_memory_growth(gpu_list[0], True)\n",
    "            print(\"Enable VRAM growth\")\n",
    "        except e:\n",
    "            print(e)\n",
    "check_and_set_gpu()"
   ]
  },
  {
   "cell_type": "code",
   "execution_count": 5,
   "id": "3d8bfa5c-8ab2-419e-ac83-e6cd3c5037ed",
   "metadata": {},
   "outputs": [],
   "source": [
    "# for reproducibility\n",
    "SEED = 42\n",
    "keras.utils.set_random_seed(SEED)\n",
    "tf.config.experimental.enable_op_determinism()\n",
    "\n",
    "# for network debugging\n",
    "# tf.debugging.enable_check_numerics()\n",
    "# tf.debugging.experimental.enable_dump_debug_info(  #  incompatible with enable_op_determinism()\n",
    "#     f\"./logs/tfdbg2_logdir\",\n",
    "#     tensor_debug_mode=\"FULL_HEALTH\",\n",
    "#     circular_buffer_size=-1\n",
    "# )"
   ]
  },
  {
   "cell_type": "markdown",
   "id": "d92a2ca6-d645-48db-b8ee-0867f99257ca",
   "metadata": {},
   "source": [
    "### load data"
   ]
  },
  {
   "cell_type": "code",
   "execution_count": 6,
   "id": "1ed16530-65c3-4aa3-acec-66fbe0d5aa84",
   "metadata": {
    "tags": []
   },
   "outputs": [
    {
     "data": {
      "text/html": [
       "<div>\n",
       "<style scoped>\n",
       "    .dataframe tbody tr th:only-of-type {\n",
       "        vertical-align: middle;\n",
       "    }\n",
       "\n",
       "    .dataframe tbody tr th {\n",
       "        vertical-align: top;\n",
       "    }\n",
       "\n",
       "    .dataframe thead th {\n",
       "        text-align: right;\n",
       "    }\n",
       "</style>\n",
       "<table border=\"1\" class=\"dataframe\">\n",
       "  <thead>\n",
       "    <tr style=\"text-align: right;\">\n",
       "      <th></th>\n",
       "      <th>sequence_id</th>\n",
       "      <th>sequence</th>\n",
       "      <th>productive</th>\n",
       "      <th>stop_codon</th>\n",
       "      <th>vj_in_frame</th>\n",
       "      <th>v_call</th>\n",
       "      <th>d_call</th>\n",
       "      <th>j_call</th>\n",
       "      <th>junction</th>\n",
       "      <th>junction_aa</th>\n",
       "      <th>...</th>\n",
       "      <th>d_sequence_start</th>\n",
       "      <th>d_sequence_end</th>\n",
       "      <th>j_sequence_start</th>\n",
       "      <th>j_sequence_end</th>\n",
       "      <th>shm_events</th>\n",
       "      <th>shm_count</th>\n",
       "      <th>shm_freq</th>\n",
       "      <th>unmutated_sequence</th>\n",
       "      <th>gapped_unmutated_sequence</th>\n",
       "      <th>gapped_mutated_sequence</th>\n",
       "    </tr>\n",
       "  </thead>\n",
       "  <tbody>\n",
       "    <tr>\n",
       "      <th>0</th>\n",
       "      <td>0</td>\n",
       "      <td>CAGGTGCAGCTGCGGGAGTCGGGCCCAGGGCTGGTGAAGCCTTTGG...</td>\n",
       "      <td>T</td>\n",
       "      <td>T</td>\n",
       "      <td>F</td>\n",
       "      <td>IGHV4-61*08</td>\n",
       "      <td>IGHD3-3*02</td>\n",
       "      <td>IGHJ4*01</td>\n",
       "      <td>TGCGCGAGGCCGCCAGGTGTATCAGCATTTAGGAGGACACCCGCTT...</td>\n",
       "      <td>CARPPGVSAFRRTPAWDFDPW</td>\n",
       "      <td>...</td>\n",
       "      <td>307</td>\n",
       "      <td>318</td>\n",
       "      <td>338</td>\n",
       "      <td>382</td>\n",
       "      <td>14:A&gt;G,30:A&gt;G,44:C&gt;T,68:C&gt;A,84:C&gt;T,89:G&gt;C,90:C...</td>\n",
       "      <td>28</td>\n",
       "      <td>0.073298</td>\n",
       "      <td>CAGGTGCAGCTGCAGGAGTCGGGCCCAGGACTGGTGAAGCCTTCGG...</td>\n",
       "      <td>CAGGTGCAGCTGCAGGAGTCGGGCCCA...GGACTGGTGAAGCCTT...</td>\n",
       "      <td>CAGGTGCAGCTGCGGGAGTCGGGCCCA...GGGCTGGTGAAGCCTT...</td>\n",
       "    </tr>\n",
       "    <tr>\n",
       "      <th>1</th>\n",
       "      <td>1</td>\n",
       "      <td>CAGGTCACTTTGAGGGAGTCTGGTCCTGCGCTGGTGAAACCCACAC...</td>\n",
       "      <td>T</td>\n",
       "      <td>T</td>\n",
       "      <td>F</td>\n",
       "      <td>IGHV2-70*19</td>\n",
       "      <td>IGHD2-8*02</td>\n",
       "      <td>IGHJ4*01</td>\n",
       "      <td>TGTGCACGGGGGCATGTCCACGATAGGGTCTTTCCGAGAGTTGACT...</td>\n",
       "      <td>CARGHVHDRVFPRVDFW</td>\n",
       "      <td>...</td>\n",
       "      <td>310</td>\n",
       "      <td>313</td>\n",
       "      <td>329</td>\n",
       "      <td>370</td>\n",
       "      <td>9:C&gt;T,72:C&gt;T,82:T&gt;C,85:C&gt;A,88:A&gt;T,100:A&gt;G,105:...</td>\n",
       "      <td>20</td>\n",
       "      <td>0.054054</td>\n",
       "      <td>CAGGTCACCTTGAGGGAGTCTGGTCCTGCGCTGGTGAAACCCACAC...</td>\n",
       "      <td>CAGGTCACCTTGAGGGAGTCTGGTCCT...GCGCTGGTGAAACCCA...</td>\n",
       "      <td>CAGGTCACTTTGAGGGAGTCTGGTCCT...GCGCTGGTGAAACCCA...</td>\n",
       "    </tr>\n",
       "    <tr>\n",
       "      <th>2</th>\n",
       "      <td>2</td>\n",
       "      <td>GAGGTGCAGCTCCCGGAGTCTGGGGGCGGCCTGGTACAGCCTGGGG...</td>\n",
       "      <td>T</td>\n",
       "      <td>T</td>\n",
       "      <td>F</td>\n",
       "      <td>IGHV3-23*03</td>\n",
       "      <td>IGHD5-24*01</td>\n",
       "      <td>IGHJ4*01</td>\n",
       "      <td>TGTGCGAGAGACGGAAAAAAGAGACCCGACTGG</td>\n",
       "      <td>CARDGKKRPDW</td>\n",
       "      <td>...</td>\n",
       "      <td>305</td>\n",
       "      <td>309</td>\n",
       "      <td>314</td>\n",
       "      <td>349</td>\n",
       "      <td>12:G&gt;C,13:T&gt;C,14:T&gt;C,27:A&gt;C,31:T&gt;C,71:C&gt;T,90:C...</td>\n",
       "      <td>34</td>\n",
       "      <td>0.097421</td>\n",
       "      <td>GAGGTGCAGCTGTTGGAGTCTGGGGGAGGCTTGGTACAGCCTGGGG...</td>\n",
       "      <td>GAGGTGCAGCTGTTGGAGTCTGGGGGA...GGCTTGGTACAGCCTG...</td>\n",
       "      <td>GAGGTGCAGCTCCCGGAGTCTGGGGGC...GGCCTGGTACAGCCTG...</td>\n",
       "    </tr>\n",
       "    <tr>\n",
       "      <th>3</th>\n",
       "      <td>3</td>\n",
       "      <td>CAGGTGCAGCTGGTGGAGTCTGGGGGAGGCGTGGACCAGCCTGGGA...</td>\n",
       "      <td>T</td>\n",
       "      <td>T</td>\n",
       "      <td>F</td>\n",
       "      <td>IGHV3-33*05</td>\n",
       "      <td>IGHD3/OR15-3a*01</td>\n",
       "      <td>IGHJ4*01</td>\n",
       "      <td>TGTGCGAGAGACAAAAATTTGGGACTGGCCGGGAACTTCTTTGACT...</td>\n",
       "      <td>CARDKNLGLAGNFFDYW</td>\n",
       "      <td>...</td>\n",
       "      <td>304</td>\n",
       "      <td>313</td>\n",
       "      <td>326</td>\n",
       "      <td>367</td>\n",
       "      <td>35:T&gt;A,72:G&gt;T,92:G&gt;C,98:G&gt;A,132:G&gt;A,151:A&gt;T,15...</td>\n",
       "      <td>17</td>\n",
       "      <td>0.046322</td>\n",
       "      <td>CAGGTGCAGCTGGTGGAGTCTGGGGGAGGCGTGGTCCAGCCTGGGA...</td>\n",
       "      <td>CAGGTGCAGCTGGTGGAGTCTGGGGGA...GGCGTGGTCCAGCCTG...</td>\n",
       "      <td>CAGGTGCAGCTGGTGGAGTCTGGGGGA...GGCGTGGACCAGCCTG...</td>\n",
       "    </tr>\n",
       "    <tr>\n",
       "      <th>4</th>\n",
       "      <td>4</td>\n",
       "      <td>GAGGTGCAGCTGGTGGAGTCTGGGGGAGGCTTAGTTCAGCCTGGGG...</td>\n",
       "      <td>T</td>\n",
       "      <td>T</td>\n",
       "      <td>F</td>\n",
       "      <td>IGHV3-74*02</td>\n",
       "      <td>IGHD1-26*01</td>\n",
       "      <td>IGHJ4*01</td>\n",
       "      <td>TGTGCAAGACAAGTGGGGGGCAATATCGACCACCTTTCGAAATACT...</td>\n",
       "      <td>CARQVGGNIDHLSKYYW</td>\n",
       "      <td>...</td>\n",
       "      <td>298</td>\n",
       "      <td>301</td>\n",
       "      <td>329</td>\n",
       "      <td>367</td>\n",
       "      <td>89:G&gt;C,93:C&gt;T,97:T&gt;C,119:C&gt;T,138:G&gt;A,147:A&gt;C,1...</td>\n",
       "      <td>14</td>\n",
       "      <td>0.038147</td>\n",
       "      <td>GAGGTGCAGCTGGTGGAGTCTGGGGGAGGCTTAGTTCAGCCTGGGG...</td>\n",
       "      <td>GAGGTGCAGCTGGTGGAGTCTGGGGGA...GGCTTAGTTCAGCCTG...</td>\n",
       "      <td>GAGGTGCAGCTGGTGGAGTCTGGGGGA...GGCTTAGTTCAGCCTG...</td>\n",
       "    </tr>\n",
       "  </tbody>\n",
       "</table>\n",
       "<p>5 rows × 34 columns</p>\n",
       "</div>"
      ],
      "text/plain": [
       "   sequence_id                                           sequence productive  \\\n",
       "0            0  CAGGTGCAGCTGCGGGAGTCGGGCCCAGGGCTGGTGAAGCCTTTGG...          T   \n",
       "1            1  CAGGTCACTTTGAGGGAGTCTGGTCCTGCGCTGGTGAAACCCACAC...          T   \n",
       "2            2  GAGGTGCAGCTCCCGGAGTCTGGGGGCGGCCTGGTACAGCCTGGGG...          T   \n",
       "3            3  CAGGTGCAGCTGGTGGAGTCTGGGGGAGGCGTGGACCAGCCTGGGA...          T   \n",
       "4            4  GAGGTGCAGCTGGTGGAGTCTGGGGGAGGCTTAGTTCAGCCTGGGG...          T   \n",
       "\n",
       "  stop_codon vj_in_frame       v_call            d_call    j_call  \\\n",
       "0          T           F  IGHV4-61*08        IGHD3-3*02  IGHJ4*01   \n",
       "1          T           F  IGHV2-70*19        IGHD2-8*02  IGHJ4*01   \n",
       "2          T           F  IGHV3-23*03       IGHD5-24*01  IGHJ4*01   \n",
       "3          T           F  IGHV3-33*05  IGHD3/OR15-3a*01  IGHJ4*01   \n",
       "4          T           F  IGHV3-74*02       IGHD1-26*01  IGHJ4*01   \n",
       "\n",
       "                                            junction            junction_aa  \\\n",
       "0  TGCGCGAGGCCGCCAGGTGTATCAGCATTTAGGAGGACACCCGCTT...  CARPPGVSAFRRTPAWDFDPW   \n",
       "1  TGTGCACGGGGGCATGTCCACGATAGGGTCTTTCCGAGAGTTGACT...      CARGHVHDRVFPRVDFW   \n",
       "2                  TGTGCGAGAGACGGAAAAAAGAGACCCGACTGG            CARDGKKRPDW   \n",
       "3  TGTGCGAGAGACAAAAATTTGGGACTGGCCGGGAACTTCTTTGACT...      CARDKNLGLAGNFFDYW   \n",
       "4  TGTGCAAGACAAGTGGGGGGCAATATCGACCACCTTTCGAAATACT...      CARQVGGNIDHLSKYYW   \n",
       "\n",
       "   ...  d_sequence_start  d_sequence_end j_sequence_start  j_sequence_end  \\\n",
       "0  ...               307             318              338             382   \n",
       "1  ...               310             313              329             370   \n",
       "2  ...               305             309              314             349   \n",
       "3  ...               304             313              326             367   \n",
       "4  ...               298             301              329             367   \n",
       "\n",
       "                                          shm_events  shm_count  shm_freq  \\\n",
       "0  14:A>G,30:A>G,44:C>T,68:C>A,84:C>T,89:G>C,90:C...         28  0.073298   \n",
       "1  9:C>T,72:C>T,82:T>C,85:C>A,88:A>T,100:A>G,105:...         20  0.054054   \n",
       "2  12:G>C,13:T>C,14:T>C,27:A>C,31:T>C,71:C>T,90:C...         34  0.097421   \n",
       "3  35:T>A,72:G>T,92:G>C,98:G>A,132:G>A,151:A>T,15...         17  0.046322   \n",
       "4  89:G>C,93:C>T,97:T>C,119:C>T,138:G>A,147:A>C,1...         14  0.038147   \n",
       "\n",
       "                                  unmutated_sequence  \\\n",
       "0  CAGGTGCAGCTGCAGGAGTCGGGCCCAGGACTGGTGAAGCCTTCGG...   \n",
       "1  CAGGTCACCTTGAGGGAGTCTGGTCCTGCGCTGGTGAAACCCACAC...   \n",
       "2  GAGGTGCAGCTGTTGGAGTCTGGGGGAGGCTTGGTACAGCCTGGGG...   \n",
       "3  CAGGTGCAGCTGGTGGAGTCTGGGGGAGGCGTGGTCCAGCCTGGGA...   \n",
       "4  GAGGTGCAGCTGGTGGAGTCTGGGGGAGGCTTAGTTCAGCCTGGGG...   \n",
       "\n",
       "                           gapped_unmutated_sequence  \\\n",
       "0  CAGGTGCAGCTGCAGGAGTCGGGCCCA...GGACTGGTGAAGCCTT...   \n",
       "1  CAGGTCACCTTGAGGGAGTCTGGTCCT...GCGCTGGTGAAACCCA...   \n",
       "2  GAGGTGCAGCTGTTGGAGTCTGGGGGA...GGCTTGGTACAGCCTG...   \n",
       "3  CAGGTGCAGCTGGTGGAGTCTGGGGGA...GGCGTGGTCCAGCCTG...   \n",
       "4  GAGGTGCAGCTGGTGGAGTCTGGGGGA...GGCTTAGTTCAGCCTG...   \n",
       "\n",
       "                             gapped_mutated_sequence  \n",
       "0  CAGGTGCAGCTGCGGGAGTCGGGCCCA...GGGCTGGTGAAGCCTT...  \n",
       "1  CAGGTCACTTTGAGGGAGTCTGGTCCT...GCGCTGGTGAAACCCA...  \n",
       "2  GAGGTGCAGCTCCCGGAGTCTGGGGGC...GGCCTGGTACAGCCTG...  \n",
       "3  CAGGTGCAGCTGGTGGAGTCTGGGGGA...GGCGTGGACCAGCCTG...  \n",
       "4  GAGGTGCAGCTGGTGGAGTCTGGGGGA...GGCTTAGTTCAGCCTG...  \n",
       "\n",
       "[5 rows x 34 columns]"
      ]
     },
     "execution_count": 6,
     "metadata": {},
     "output_type": "execute_result"
    }
   ],
   "source": [
    "DATA_PATH = \"./data/airrship_shm_seed42_100_000.tsv\"\n",
    "df_data = pd.read_csv(DATA_PATH, sep=\"\\t\")\n",
    "df_data.head()"
   ]
  },
  {
   "cell_type": "code",
   "execution_count": 7,
   "id": "26ae4531-c3f0-403f-b8b1-5472bd2f3c33",
   "metadata": {
    "tags": []
   },
   "outputs": [
    {
     "data": {
      "text/plain": [
       "True"
      ]
     },
     "metadata": {},
     "output_type": "display_data"
    },
    {
     "data": {
      "text/plain": [
       "v_sequence_start    True\n",
       "v_sequence_end      True\n",
       "d_sequence_start    True\n",
       "d_sequence_end      True\n",
       "j_sequence_start    True\n",
       "j_sequence_end      True\n",
       "dtype: bool"
      ]
     },
     "metadata": {},
     "output_type": "display_data"
    }
   ],
   "source": [
    "pos_names = [f\"{seg}_sequence_{pos}\" for seg in \"vdj\" for pos in (\"start\", \"end\")]\n",
    "sequences = df_data[\"sequence\"]\n",
    "positions = df_data[pos_names]\n",
    "\n",
    "display(sequences.notna().all())\n",
    "display(positions.notna().all())"
   ]
  },
  {
   "cell_type": "code",
   "execution_count": 8,
   "id": "54249d2f-1e4b-478a-98f4-25fbd944aabf",
   "metadata": {
    "tags": []
   },
   "outputs": [
    {
     "data": {
      "text/plain": [
       "(<tf.Tensor: shape=(), dtype=string, numpy=b'CAGGTGCAGCTGCGGGAGTCGGGCCCAGGGCTGGTGAAGCCTTTGGAGACCCTGTCCCTCACCTGCAATGTCTCTGGTGGCTCTGTCACTAGTGGTGGTTACTACTGGAGTTGGGTCCGGCTGACCCCAGGGAAGGGACTGGACTGGATTGGTTTTCTTTATTACAGTGGGAGTACCAATTACAACCCCTCCCTCGAGACTCGAGTCACCATATCAGTAGACACGGCCAAGAACCAGTTCTCTCTGAAGGTGAGCTCTGTGACCGCTGCGGACACGGCCGTGTATTACTGCGCGAGGCCGCCAGGTGTATCAGCATTTAGGAGGACACCCGCTTGGGACTTTGACCCCTGGGGCCATGGAACCCTGGTCACCGTCTCCTCAG'>,\n",
       " <tf.Tensor: shape=(6,), dtype=int64, numpy=array([  1, 296, 307, 318, 338, 382])>)"
      ]
     },
     "metadata": {},
     "output_type": "display_data"
    },
    {
     "data": {
      "text/plain": [
       "100000"
      ]
     },
     "metadata": {},
     "output_type": "display_data"
    }
   ],
   "source": [
    "ds_seq = Dataset.from_tensor_slices(sequences.to_numpy())\n",
    "ds_pos = Dataset.from_tensor_slices(positions.to_numpy())\n",
    "ds_all = Dataset.zip((ds_seq, ds_pos))\n",
    "\n",
    "display(ds_all.take(1).get_single_element())\n",
    "display(ds_all.cardinality().numpy())"
   ]
  },
  {
   "cell_type": "markdown",
   "id": "e26440fe-c4fc-4d68-8bf2-49be52fba8e7",
   "metadata": {},
   "source": [
    "### Functions for encoding"
   ]
  },
  {
   "cell_type": "code",
   "execution_count": 9,
   "id": "2078e6a0-d0ae-4f65-869f-3fe525925a4e",
   "metadata": {
    "tags": []
   },
   "outputs": [],
   "source": [
    "def dna_onehot_tensor(seq):\n",
    "    table = tf.lookup.StaticHashTable(\n",
    "        initializer=tf.lookup.KeyValueTensorInitializer(\n",
    "            keys=tf.constant([\"A\", \"C\", \"G\", \"T\"], dtype=tf.string),\n",
    "            values=tf.constant([0, 1, 2, 3]),\n",
    "        ),\n",
    "        default_value=tf.constant(-1)\n",
    "    )\n",
    "    chars = tf.strings.bytes_split(seq)\n",
    "    ind = table.lookup(chars)\n",
    "    encoded = tf.one_hot(ind, depth=4)\n",
    "    return encoded\n",
    "\n",
    "# test dna_onehot_tensor\n",
    "# test_oh = ds_all.take(6).map(\n",
    "#     lambda x, y: (dna_onehot_tensor(x), y)\n",
    "# )\n",
    "# for padded_batch in test_oh.padded_batch(3):\n",
    "#     display(padded_batch)"
   ]
  },
  {
   "cell_type": "code",
   "execution_count": 10,
   "id": "4d3ed857-9c79-49b2-8dc7-460ead6006b4",
   "metadata": {
    "tags": []
   },
   "outputs": [],
   "source": [
    "def get_kmer_tensor(seq, k):\n",
    "    chars = tf.strings.bytes_split(seq)\n",
    "    kmers = tf.strings.ngrams(chars, k, separator=\"\")\n",
    "    sentence = tf.strings.reduce_join(kmers, separator=\" \")\n",
    "    return sentence\n",
    "\n",
    "# test get_kmer_tensor()\n",
    "# test_kmer = ds_all.take(3).map(\n",
    "#     lambda x, y: (get_kmer_tensor(x, 3), y)\n",
    "# )\n",
    "# display(test_kmer.batch(3).take(1).get_single_element())"
   ]
  },
  {
   "cell_type": "code",
   "execution_count": 11,
   "id": "062118ea-6e54-49ef-b761-82791c8180b5",
   "metadata": {
    "tags": []
   },
   "outputs": [],
   "source": [
    "def get_kmer_vocab(k):\n",
    "    return [\"\".join(x) for x in product(\"ACGT\", repeat=k)]\n",
    "\n",
    "# test get_kmer_vocab()\n",
    "# vocab_kmer = get_kmer_vocab(3)\n",
    "# \" \".join(vocab_kmer)"
   ]
  },
  {
   "cell_type": "markdown",
   "id": "d946328b-cc7e-4889-ab25-23f5eafb237a",
   "metadata": {},
   "source": [
    "### Prepare datasets"
   ]
  },
  {
   "cell_type": "code",
   "execution_count": 12,
   "id": "d574e8c0-5ceb-4fed-a2a2-356de9878bd8",
   "metadata": {
    "tags": []
   },
   "outputs": [],
   "source": [
    "TRAIN_SIZE = 99000\n",
    "VALID_SIZE = 1000\n",
    "TEST_SIZE = 0"
   ]
  },
  {
   "cell_type": "code",
   "execution_count": 13,
   "id": "0a7c30d1-cb2d-41b8-bd71-559c87c59513",
   "metadata": {},
   "outputs": [],
   "source": [
    "ds_train = ds_all.take(TRAIN_SIZE)\n",
    "ds_not_train = ds_all.skip(TRAIN_SIZE)\n",
    "ds_valid = ds_not_train.take(VALID_SIZE)\n",
    "ds_test = ds_not_train.skip(VALID_SIZE)\n",
    "\n",
    "assert ds_train.cardinality().numpy() == TRAIN_SIZE\n",
    "assert ds_valid.cardinality().numpy() == VALID_SIZE\n",
    "assert ds_test.cardinality().numpy() == TEST_SIZE"
   ]
  },
  {
   "cell_type": "code",
   "execution_count": 14,
   "id": "afd8b5b8-9dda-4e59-b2c1-600cf868930c",
   "metadata": {
    "tags": []
   },
   "outputs": [],
   "source": [
    "def transform_ds(ds, method, scale_factor, batch_size=None, shuffle_buffer=None, shuffle_seed=None):\n",
    "    assert method == \"onehot\" or method.endswith(\"mer\")\n",
    "    assert (shuffle_buffer is not None) ^ (shuffle_seed is None)\n",
    "    if method == \"onehot\":\n",
    "        ds = ds.map(lambda x, y: (dna_onehot_tensor(x), y / scale_factor))\n",
    "    else:\n",
    "        k = int(method[0])\n",
    "        ds = ds.map(lambda x, y: (get_kmer_tensor(x, k), y / scale_factor))\n",
    "    if not batch_size:\n",
    "        return ds\n",
    "    if shuffle_buffer:\n",
    "        ds = ds.shuffle(shuffle_buffer, seed=shuffle_seed, reshuffle_each_iteration=True)\n",
    "    batched = ds.padded_batch(batch_size) if method == \"onehot\" else ds.batch(batch_size)\n",
    "    return batched\n",
    "                    \n",
    "# # test encode_ds()\n",
    "# for batch_seq, batch_pos in transform_ds(ds_train.take(6), \"onehot\", 450, 3, 5, 1):\n",
    "#     display(batch_seq.shape)\n",
    "#     display(batch_pos.shape)   \n",
    "# display(batch_seq)\n",
    "# display(batch_pos)\n",
    "    \n",
    "# for batch_seq, batch_pos in transform_ds(ds_train.take(6), \"3mer\", 450, 3, 5, 1):\n",
    "#     display(batch_seq.shape)\n",
    "#     display(batch_pos.shape)\n",
    "# display(batch_seq)\n",
    "# display(batch_pos)\n",
    "\n",
    "# batched = transform_ds(ds_train, \"3mer\", 450, 32, 128, SEED)\n",
    "# display(batched.cardinality().numpy())\n",
    "# prefetched = batched.prefetch(8)\n",
    "# display(prefetched.cardinality().numpy())"
   ]
  },
  {
   "cell_type": "markdown",
   "id": "a9fec84b-7b68-4494-9f60-9cb9fb30eaa0",
   "metadata": {},
   "source": [
    "### Functions and classes for building model"
   ]
  },
  {
   "cell_type": "code",
   "execution_count": 15,
   "id": "5c3b0688-4244-407c-93d7-ae6d862df669",
   "metadata": {
    "tags": []
   },
   "outputs": [],
   "source": [
    "# Custom metrics\n",
    "class ScaledRMSE(keras.metrics.RootMeanSquaredError):\n",
    "    def __init__(self, scale_factor, name=\"s_rmse\", dtype=None):\n",
    "        super().__init__(name, dtype=dtype)\n",
    "        self.scale_factor = scale_factor\n",
    "        \n",
    "    def update_state(self, y_true, y_pred, sample_weight=None):\n",
    "        y_true = tf.math.rint(tf.cast(y_true, self._dtype) * self.scale_factor)\n",
    "        y_pred = tf.cast(y_pred, self._dtype) * self.scale_factor\n",
    "        super().update_state(y_true, y_pred, sample_weight)\n",
    "        \n",
    "class ScaledMAE(keras.metrics.MeanAbsoluteError):\n",
    "    def __init__(self, scale_factor, name=\"s_mae\", dtype=None):\n",
    "        super().__init__(name, dtype=dtype)\n",
    "        self.scale_factor = scale_factor\n",
    "        \n",
    "    def update_state(self, y_true, y_pred, sample_weight=None):\n",
    "        y_true = tf.math.rint(tf.cast(y_true, self._dtype) * self.scale_factor)\n",
    "        y_pred = tf.cast(y_pred, self._dtype) * self.scale_factor\n",
    "        super().update_state(y_true, y_pred, sample_weight)\n",
    "        \n",
    "class PosAccuracy(keras.metrics.Accuracy):\n",
    "    def __init__(self, scale_factor, name=\"p_acc\", dtype=None):\n",
    "        super().__init__(name, dtype=dtype)\n",
    "        self.scale_factor = scale_factor\n",
    "        \n",
    "    def update_state(self, y_true, y_pred, sample_weight=None):\n",
    "        y_true = tf.math.rint(tf.cast(y_true, self._dtype) * self.scale_factor)\n",
    "        y_pred = tf.math.rint(tf.cast(y_pred, self._dtype) * self.scale_factor)\n",
    "        super().update_state(y_true, y_pred, sample_weight)\n",
    "        \n",
    "class AllAccuracy(keras.metrics.Accuracy):\n",
    "    def __init__(self, scale_factor, name=\"a_acc\", dtype=None):\n",
    "        super().__init__(name, dtype=dtype)\n",
    "        self.scale_factor = scale_factor\n",
    "        \n",
    "    def update_state(self, y_true, y_pred, sample_weight=None):\n",
    "        y_true = tf.math.rint(tf.cast(y_true, self._dtype) * self.scale_factor)\n",
    "        y_pred = tf.math.rint(tf.cast(y_pred, self._dtype) * self.scale_factor)\n",
    "        all_correct_bool = tf.reduce_all(y_true == y_pred, axis=-1)\n",
    "        correct_mat = tf.where(all_correct_bool, 1, 0)\n",
    "        y_pred = tf.reshape(correct_mat, (-1, 1))\n",
    "        y_true = tf.ones(tf.shape(y_true)[0], 1)\n",
    "        super().update_state(y_true, y_pred, sample_weight)\n",
    "        \n",
    "class ClassAccuracy(keras.metrics.Metric):\n",
    "    def __init__(self, scale_factor, name=\"c_acc\", **kwargs):\n",
    "        super().__init__(name=name, **kwargs)\n",
    "        self.scale_factor = scale_factor\n",
    "        self.len_sum = self.add_weight(name=\"len_sum\", initializer=\"zeros\")\n",
    "        self.correct_sum = self.add_weight(name=\"correct_sum\", initializer=\"zeros\")\n",
    "\n",
    "    def update_state(self, y_true, y_pred, sample_weight=None):\n",
    "        y_true = tf.math.rint(tf.cast(y_true, self._dtype) * self.scale_factor)\n",
    "        y_pred = tf.math.rint(tf.cast(y_pred, self._dtype) * self.scale_factor)\n",
    "        incorrect_count = tf.reduce_sum(tf.abs(y_true - y_pred))\n",
    "        batch_len_sum = tf.reduce_sum(tf.gather(y_true, indices=(5), axis=-1))\n",
    "        self.len_sum.assign_add(batch_len_sum)\n",
    "        self.correct_sum.assign_add(batch_len_sum - incorrect_count)\n",
    "\n",
    "    def result(self):\n",
    "        return self.correct_sum / self.len_sum\n",
    "\n",
    "    def reset_state(self):\n",
    "        self.len_sum.assign(0.0)\n",
    "        self.correct_sum.assign(0.0)\n",
    "        \n",
    "class SegmentPosAccuracy(PosAccuracy):\n",
    "    def __init__(self, scale_factor, segment, name=\"p_acc\", dtype=None):\n",
    "        assert segment in (\"V\", \"D\", \"J\")\n",
    "        super().__init__(scale_factor, name=f\"{segment}_{name}\", dtype=dtype)\n",
    "        self.segment = segment\n",
    "        \n",
    "    def update_state(self, y_true, y_pred, sample_weight=None):\n",
    "        seg_idx_dict = {\"V\": (0, 1), \"D\": (2, 3), \"J\": (4, 5)}\n",
    "        seg_idx = seg_idx_dict[self.segment]\n",
    "        y_true_seg = tf.gather(y_true, indices=seg_idx, axis=-1)\n",
    "        y_pred_seg = tf.gather(y_pred, indices=seg_idx, axis=-1)\n",
    "        super().update_state(y_true_seg, y_pred_seg, sample_weight)\n",
    "        \n",
    "class SegmentRMSE(ScaledRMSE):\n",
    "    def __init__(self, scale_factor, segment, name=\"s_rmse\", dtype=None):\n",
    "        assert segment in (\"V\", \"D\", \"J\")\n",
    "        super().__init__(scale_factor, name=f\"{segment}_{name}\", dtype=dtype)\n",
    "        self.segment = segment\n",
    "        \n",
    "    def update_state(self, y_true, y_pred, sample_weight=None):\n",
    "        seg_idx_dict = {\"V\": (0, 1), \"D\": (2, 3), \"J\": (4, 5)}\n",
    "        seg_idx = seg_idx_dict[self.segment]\n",
    "        y_true_seg = tf.gather(y_true, indices=seg_idx, axis=-1)\n",
    "        y_pred_seg = tf.gather(y_pred, indices=seg_idx, axis=-1)\n",
    "        super().update_state(y_true_seg, y_pred_seg, sample_weight)\n",
    "        \n",
    "class SegmentMAE(ScaledMAE):\n",
    "    def __init__(self, scale_factor, segment, name=\"s_mae\", dtype=None):\n",
    "        assert segment in (\"V\", \"D\", \"J\")\n",
    "        super().__init__(scale_factor, name=f\"{segment}_{name}\", dtype=dtype)\n",
    "        self.segment = segment\n",
    "        \n",
    "    def update_state(self, y_true, y_pred, sample_weight=None):\n",
    "        seg_idx_dict = {\"V\": (0, 1), \"D\": (2, 3), \"J\": (4, 5)}\n",
    "        seg_idx = seg_idx_dict[self.segment]\n",
    "        y_true_seg = tf.gather(y_true, indices=seg_idx, axis=-1)\n",
    "        y_pred_seg = tf.gather(y_pred, indices=seg_idx, axis=-1)\n",
    "        super().update_state(y_true_seg, y_pred_seg, sample_weight)"
   ]
  },
  {
   "cell_type": "code",
   "execution_count": 16,
   "id": "7a3b8e50-74ba-4bff-ac01-8a7186ad2019",
   "metadata": {
    "tags": []
   },
   "outputs": [],
   "source": [
    "class CustomEarlyStopping(keras.callbacks.EarlyStopping):\n",
    "    def __init__(self, start_from_epoch=0, **kwargs):\n",
    "        super().__init__(**kwargs)\n",
    "        self.start_from_epoch = start_from_epoch\n",
    "    \n",
    "    def on_epoch_end(self, epoch, logs=None):\n",
    "        if epoch < self.start_from_epoch:\n",
    "            return\n",
    "        super().on_epoch_end(epoch=epoch, logs=logs)"
   ]
  },
  {
   "cell_type": "code",
   "execution_count": 17,
   "id": "ce92db2f-27f7-446f-8695-edd152ab99b9",
   "metadata": {
    "tags": []
   },
   "outputs": [],
   "source": [
    "class WriteLearningRate(keras.callbacks.Callback):\n",
    "    def __init__(self, logdir):\n",
    "        super().__init__()\n",
    "        self.writer = tf.summary.create_file_writer(logdir + \"/lr\")\n",
    "    \n",
    "    def on_batch_begin(self, batch, logs=None):\n",
    "        lr = keras.backend.eval(self.model.optimizer.learning_rate)\n",
    "        step = keras.backend.eval(self.model.optimizer.iterations)\n",
    "        if isinstance(lr, keras.optimizers.schedules.LearningRateSchedule):\n",
    "            val = lr(step)\n",
    "        else:\n",
    "            val = lr\n",
    "        with self.writer.as_default():\n",
    "            tf.summary.scalar(\"learning_rate\", val, step=step)"
   ]
  },
  {
   "cell_type": "code",
   "execution_count": 18,
   "id": "15f242fb-fdd7-43c4-8a14-78d9334c82f3",
   "metadata": {
    "tags": []
   },
   "outputs": [],
   "source": [
    "class PrintLearningRate(keras.callbacks.Callback):\n",
    "    def on_batch_begin(self, batch, logs=None):\n",
    "        lr = keras.backend.eval(self.model.optimizer.learning_rate)\n",
    "        step = keras.backend.eval(self.model.optimizer.iterations)\n",
    "        if isinstance(lr, keras.optimizers.schedules.LearningRateSchedule):\n",
    "            self.val = lr(step)\n",
    "        else:\n",
    "            self.val = lr\n",
    "    def on_epoch_end(self, epoch, logs=None):\n",
    "        tf.print(f\"learning rate: {self.val}\")"
   ]
  },
  {
   "cell_type": "code",
   "execution_count": 19,
   "id": "ac1aac10-4907-4604-8373-06329497f8a4",
   "metadata": {
    "tags": []
   },
   "outputs": [],
   "source": [
    "class CustomModel(keras.Model):\n",
    "    \n",
    "    def set_model(self, replace_nan=None, replace_inf=None, warn=False):\n",
    "        self.replace_nan = tf.cast(replace_nan, dtype=tf.float32) if replace_nan else False\n",
    "        self.replace_inf = tf.cast(replace_inf, dtype=tf.float32) if replace_inf else False\n",
    "        self.warn = warn\n",
    "            \n",
    "    def train_step(self, data):\n",
    "        \n",
    "        # Compute gradients\n",
    "        x, y = data\n",
    "        with tf.GradientTape() as tape:\n",
    "            y_pred = self(x, training=True)\n",
    "            loss = self.compiled_loss(y, y_pred, regularization_losses=self.losses)\n",
    "        trainable_vars = self.trainable_variables\n",
    "        gradients = tape.gradient(loss, trainable_vars)\n",
    "        step = self.optimizer.iterations\n",
    "        \n",
    "        # Check and process nan and Inf\n",
    "        for i in range(len(gradients)):\n",
    "            grad = gradients[i]\n",
    "            var_name = trainable_vars[i].name\n",
    "            \n",
    "            nan_bool = tf.math.is_nan(grad)\n",
    "            if self.warn:\n",
    "                show_nan = f\"Batch {step}: Nan in gradients of {var_name}\"\n",
    "                tf.cond(tf.reduce_any(nan_bool), lambda: tf.print(show_nan), tf.no_op)\n",
    "            if self.replace_nan:\n",
    "                if isinstance(grad, tf.IndexedSlices):\n",
    "                    grad = tf.convert_to_tensor(grad)\n",
    "                grad = tf.where(nan_bool, self.replace_nan, grad)\n",
    "                gradients[i] = grad\n",
    "            \n",
    "            inf_bool = tf.math.is_inf(grad)\n",
    "            if self.warn:\n",
    "                show_inf = f\"Batch {step}: Inf in gradients of {var_name}\"\n",
    "                tf.cond(tf.reduce_any(inf_bool), lambda: tf.print(show_inf), tf.no_op)\n",
    "            if self.replace_inf:\n",
    "                if isinstance(grad, tf.IndexedSlices):\n",
    "                    grad = tf.convert_to_tensor(grad)\n",
    "                pos_bool = inf_bool & (grad > 0)\n",
    "                neg_bool = inf_bool & (grad < 0)\n",
    "                grad = tf.where(pos_bool, self.replace_inf, grad)\n",
    "                grad = tf.where(neg_bool, -1 * self.replace_inf, grad)\n",
    "                gradients[i] = grad\n",
    "                \n",
    "        # Update\n",
    "        self.optimizer.apply_gradients(zip(gradients, trainable_vars))\n",
    "        self.compiled_metrics.update_state(y, y_pred)\n",
    "        \n",
    "        # Return a dict mapping metric names to current value\n",
    "        return {m.name: m.result() for m in self.metrics}"
   ]
  },
  {
   "cell_type": "code",
   "execution_count": 20,
   "id": "7e551c79-c892-41ef-9b70-d29f97ee8266",
   "metadata": {},
   "outputs": [],
   "source": [
    "class CustomHyperModel_2(keras_tuner.HyperModel):\n",
    "    def build(self, hp):\n",
    "        model_input = keras.Input(shape=(1,), dtype=tf.string, name=f\"input\")\n",
    "        \n",
    "        # encoder part\n",
    "        kmer_choice = hp.Choice(\"kmer_choice\", values=[\"3mer\", \"4mer\", \"5mer\"], ordered=False)\n",
    "        embed_dim = hp.Int(\"embed_dim\", min_value=16, max_value=128, step=2, sampling=\"log\")\n",
    "        text_vec_layer = keras.layers.TextVectorization(\n",
    "            standardize=None,\n",
    "            split=\"whitespace\",\n",
    "            vocabulary=get_kmer_vocab(int(kmer_choice[0])),\n",
    "            name=\"text_vectorize\"\n",
    "        )\n",
    "        \n",
    "        embedding_layer = keras.layers.Embedding(\n",
    "            input_dim=text_vec_layer.vocabulary_size(), \n",
    "            output_dim=embed_dim, \n",
    "            mask_zero=True,\n",
    "            name=\"embedding\"\n",
    "        )        \n",
    "        x = text_vec_layer(model_input)\n",
    "        x = embedding_layer(x)\n",
    "        \n",
    "        # gru part\n",
    "        gru_num = hp.Int(\"gru_num\", min_value=2, max_value=8)\n",
    "        gru_unit = hp.Int(\"gru_unit\", min_value=32, max_value=256, step=2, sampling=\"log\")\n",
    "        gru_dropout_rate = hp.Float(\"gru_dropout_rate\", min_value=0.0, max_value=0.5, step=0.1)\n",
    "        for i in range(gru_num):\n",
    "            not_last_gru = (i != (gru_num - 1))\n",
    "            dropout_rate = gru_dropout_rate if i != 0 else 0.0\n",
    "            gru_layer = keras.layers.GRU(\n",
    "                gru_unit, \n",
    "                dropout=dropout_rate,\n",
    "                return_sequences=not_last_gru, \n",
    "                name=f\"gru_{i+1}\"\n",
    "            )\n",
    "            gru_layer = keras.layers.Bidirectional(gru_layer, name=f\"gru_{i+1}\")\n",
    "            x = gru_layer(x)\n",
    "\n",
    "        # dense part\n",
    "        total_layer_num = hp.Int(\"total_layer_num\", min_value=8, max_value=16)\n",
    "        dense_num = total_layer_num - gru_num\n",
    "        dense_unit = hp.Int(f\"dense_unit\", min_value=64, max_value=512, step=2, sampling=\"log\")\n",
    "        leaky_alpha = hp.Float(\"leaky_alpha\", min_value=0.0, max_value=0.3, step=0.05)\n",
    "        dense_dropout_rate = hp.Float(\"dense_dropout_rate\", min_value=0.0, max_value=0.1, step=0.05)\n",
    "        for i in range(dense_num):\n",
    "            dense_layer = keras.layers.Dense(dense_unit, activation=None, name=f\"dense_{i+1}\")\n",
    "            leaky_relu_layer = keras.layers.LeakyReLU(alpha=leaky_alpha, name=f\"dense_{i+1}_leaky_relu\")\n",
    "            dense_dropout_layer = keras.layers.GaussianDropout(dense_dropout_rate, name=f\"dense_{i+1}_dropout\")\n",
    "            x = dense_layer(x)\n",
    "            x = leaky_relu_layer(x)\n",
    "            x = dense_dropout_layer(x)\n",
    "\n",
    "        # build the model\n",
    "        output_layer = keras.layers.Dense(6, activation=None, name=\"output\")\n",
    "        model_output = output_layer(x)\n",
    "        model = CustomModel(model_input, model_output)\n",
    "        model.set_model(replace_nan=1e-5, replace_inf=1e-5)\n",
    "        \n",
    "        return model\n",
    "\n",
    "    def fit(self, hp, model, ds_train, ds_valid, shuffle_seed, **fit_kwargs):\n",
    "        \n",
    "        # prepare dataset\n",
    "        scale_factor = 450\n",
    "        train_batch_size = 192\n",
    "        valid_batch_size = 32\n",
    "        prefetch_size = 16\n",
    "        shuffle_buffer = 256\n",
    "        kmer_choice = hp.get(\"kmer_choice\")\n",
    "        ds_train_input = transform_ds(\n",
    "            ds_train, \n",
    "            kmer_choice, \n",
    "            scale_factor=scale_factor, \n",
    "            batch_size=train_batch_size, \n",
    "            shuffle_buffer=shuffle_buffer, \n",
    "            shuffle_seed=shuffle_seed\n",
    "        )\n",
    "        ds_valid_input = transform_ds(\n",
    "            ds_valid, \n",
    "            kmer_choice, \n",
    "            scale_factor=scale_factor, \n",
    "            batch_size=valid_batch_size\n",
    "        )\n",
    "        ds_train_input = ds_train_input.prefetch(prefetch_size)\n",
    "        ds_valid_input = ds_valid_input.prefetch(prefetch_size)\n",
    "        batch_per_epoch = int(ds_train_input.cardinality().numpy())\n",
    "        \n",
    "        # compile model and fit\n",
    "        decay_epoch = 350\n",
    "        lr_schedule = hp.Choice(\"lr_schedule\", values=[\"cos_decay\", \"exp_decay\"], ordered=False)\n",
    "        weight_decay = hp.Choice(\"weight_decay\", values=[1e-3, 3e-3, 1e-2, 3e-2], ordered=True)\n",
    "        if lr_schedule == \"cos_decay\":\n",
    "            lr_schedule = keras.optimizers.schedules.CosineDecay(\n",
    "                1e-3, decay_steps=batch_per_epoch * decay_epoch, alpha=1e-2, name=\"cos_decay\"\n",
    "            )\n",
    "        else:\n",
    "            decay_rate = 0.95\n",
    "            decay_steps = batch_per_epoch * math.ceil(decay_epoch / math.log(5e-2, decay_rate))\n",
    "            lr_schedule = tf.keras.optimizers.schedules.ExponentialDecay(\n",
    "                1e-3, \n",
    "                decay_steps=decay_steps, \n",
    "                decay_rate=decay_rate,\n",
    "                staircase=False, \n",
    "                name=\"exp_decay\"\n",
    "            )\n",
    "        optimizer = keras.optimizers.experimental.AdamW(\n",
    "            learning_rate=lr_schedule,\n",
    "            weight_decay=weight_decay,\n",
    "            clipnorm=1e-3\n",
    "        )\n",
    "        loss = keras.losses.MeanSquaredError()\n",
    "        metric_list = [\n",
    "            ScaledRMSE(scale_factor),\n",
    "            SegmentRMSE(scale_factor, segment=\"V\"),\n",
    "            SegmentRMSE(scale_factor, segment=\"D\"),\n",
    "            SegmentRMSE(scale_factor, segment=\"J\")\n",
    "        ]\n",
    "        model.compile(optimizer=optimizer, loss=loss, metrics=metric_list)\n",
    "        return model.fit(\n",
    "            x=ds_train_input,\n",
    "            validation_data=ds_valid_input,\n",
    "            **fit_kwargs,\n",
    "        )\n",
    "\n",
    "# test\n",
    "# hp = keras_tuner.HyperParameters()\n",
    "# hypermodel = CustomHyperModel_2()\n",
    "# model = hypermodel.build(hp)\n",
    "# model.summary()"
   ]
  },
  {
   "cell_type": "markdown",
   "id": "af5e3078-0953-4538-8305-c928dea890fe",
   "metadata": {},
   "source": [
    "### Final training"
   ]
  },
  {
   "cell_type": "code",
   "execution_count": 21,
   "id": "026a40ea-d4dc-4c4c-bd23-f434276a4fad",
   "metadata": {
    "tags": []
   },
   "outputs": [
    {
     "name": "stdout",
     "output_type": "stream",
     "text": [
      "INFO:tensorflow:Reloading Tuner from ./tune/final_3/final_3/tuner0.json\n",
      "Results summary\n",
      "Results in ./tune/final_3/final_3\n",
      "Showing 3 best trials\n",
      "Objective(name=\"val_s_rmse\", direction=\"min\")\n",
      "\n",
      "Trial 0413 summary\n",
      "Hyperparameters:\n",
      "kmer_choice: 3mer\n",
      "embed_dim: 16\n",
      "gru_num: 6\n",
      "gru_unit: 64\n",
      "gru_dropout_rate: 0.2\n",
      "total_layer_num: 11\n",
      "dense_unit: 64\n",
      "leaky_alpha: 0.15000000000000002\n",
      "dense_dropout_rate: 0.0\n",
      "lr_schedule: cos_decay\n",
      "weight_decay: 0.001\n",
      "tuner/epochs: 320\n",
      "tuner/initial_epoch: 54\n",
      "tuner/bracket: 1\n",
      "tuner/round: 1\n",
      "tuner/trial_id: 0406\n",
      "Score: 2.036548376083374\n",
      "\n",
      "Trial 0396 summary\n",
      "Hyperparameters:\n",
      "kmer_choice: 4mer\n",
      "embed_dim: 32\n",
      "gru_num: 6\n",
      "gru_unit: 32\n",
      "gru_dropout_rate: 0.0\n",
      "total_layer_num: 12\n",
      "dense_unit: 64\n",
      "leaky_alpha: 0.15000000000000002\n",
      "dense_dropout_rate: 0.05\n",
      "lr_schedule: cos_decay\n",
      "weight_decay: 0.01\n",
      "tuner/epochs: 320\n",
      "tuner/initial_epoch: 54\n",
      "tuner/bracket: 2\n",
      "tuner/round: 2\n",
      "tuner/trial_id: 0392\n",
      "Score: 2.088806629180908\n",
      "\n",
      "Trial 0323 summary\n",
      "Hyperparameters:\n",
      "kmer_choice: 5mer\n",
      "embed_dim: 16\n",
      "gru_num: 8\n",
      "gru_unit: 256\n",
      "gru_dropout_rate: 0.30000000000000004\n",
      "total_layer_num: 13\n",
      "dense_unit: 64\n",
      "leaky_alpha: 0.15000000000000002\n",
      "dense_dropout_rate: 0.1\n",
      "lr_schedule: exp_decay\n",
      "weight_decay: 0.001\n",
      "tuner/epochs: 320\n",
      "tuner/initial_epoch: 54\n",
      "tuner/bracket: 3\n",
      "tuner/round: 3\n",
      "tuner/trial_id: 0317\n",
      "Score: 2.166672706604004\n"
     ]
    }
   ],
   "source": [
    "# load tuner\n",
    "n_top = 3\n",
    "tuner_dir = \"./tune/final_3\"\n",
    "hypermodel = CustomHyperModel_2()\n",
    "tuner = keras_tuner.Hyperband(\n",
    "    hypermodel=hypermodel,\n",
    "    objective=keras_tuner.Objective(\"val_s_rmse\", direction=\"min\"),\n",
    "    max_epochs=320,\n",
    "    factor=6,\n",
    "    hyperband_iterations=1,\n",
    "    seed=SEED,\n",
    "    overwrite=False,\n",
    "    directory=tuner_dir,\n",
    "    project_name=tuner_dir.split(\"/\")[-1],\n",
    ")\n",
    "tuner.results_summary(n_top)"
   ]
  },
  {
   "cell_type": "code",
   "execution_count": 22,
   "id": "5a49f31a-3564-4437-9480-de37ff8c8ef8",
   "metadata": {},
   "outputs": [],
   "source": [
    "def final_train(hp, model, ds_train, ds_valid, shuffle_seed, **fit_kwargs):\n",
    "\n",
    "    # prepare dataset\n",
    "    scale_factor = 450\n",
    "    train_batch_size = 32\n",
    "    valid_batch_size = 32\n",
    "    prefetch_size = 16\n",
    "    shuffle_buffer = 256\n",
    "    kmer_choice = hp.get(\"kmer_choice\")\n",
    "    ds_train_input = transform_ds(\n",
    "        ds_train, \n",
    "        kmer_choice, \n",
    "        scale_factor=scale_factor, \n",
    "        batch_size=train_batch_size, \n",
    "        shuffle_buffer=shuffle_buffer, \n",
    "        shuffle_seed=shuffle_seed\n",
    "    )\n",
    "    ds_valid_input = transform_ds(\n",
    "        ds_valid, \n",
    "        kmer_choice, \n",
    "        scale_factor=scale_factor, \n",
    "        batch_size=valid_batch_size\n",
    "    )\n",
    "    ds_train_input = ds_train_input.prefetch(prefetch_size)\n",
    "    ds_valid_input = ds_valid_input.prefetch(prefetch_size)\n",
    "    batch_per_epoch = int(ds_train_input.cardinality().numpy())\n",
    "\n",
    "    # compile model and fit\n",
    "    decay_epoch = 350\n",
    "    lr_schedule = hp.get(\"lr_schedule\")\n",
    "    weight_decay = hp.get(\"weight_decay\")\n",
    "    if lr_schedule == \"cos_decay\":\n",
    "        lr_schedule = keras.optimizers.schedules.CosineDecay(\n",
    "            1e-3, decay_steps=batch_per_epoch * decay_epoch, alpha=1e-2, name=\"cos_decay\"\n",
    "        )\n",
    "    else:\n",
    "        decay_rate = 0.95\n",
    "        decay_steps = batch_per_epoch * math.ceil(decay_epoch / math.log(5e-2, decay_rate))\n",
    "        lr_schedule = tf.keras.optimizers.schedules.ExponentialDecay(\n",
    "            1e-3, \n",
    "            decay_steps=decay_steps, \n",
    "            decay_rate=decay_rate,\n",
    "            staircase=False, \n",
    "            name=\"exp_decay\"\n",
    "        )\n",
    "\n",
    "    optimizer = keras.optimizers.experimental.AdamW(\n",
    "        learning_rate=lr_schedule,\n",
    "        weight_decay=weight_decay,\n",
    "        clipnorm=1e-3\n",
    "    )\n",
    "    loss = keras.losses.MeanSquaredError()\n",
    "    metric_list = [\n",
    "        ScaledRMSE(scale_factor),\n",
    "        ScaledMAE(scale_factor),\n",
    "        PosAccuracy(scale_factor),\n",
    "        AllAccuracy(scale_factor),\n",
    "        ClassAccuracy(scale_factor),\n",
    "        SegmentRMSE(scale_factor, segment=\"V\"),\n",
    "        SegmentRMSE(scale_factor, segment=\"D\"),\n",
    "        SegmentRMSE(scale_factor, segment=\"J\")\n",
    "    ]\n",
    "    model.compile(optimizer=optimizer, loss=loss, metrics=metric_list)\n",
    "    return model.fit(\n",
    "        x=ds_train_input,\n",
    "        validation_data=ds_valid_input,\n",
    "        **fit_kwargs,\n",
    "    )"
   ]
  },
  {
   "cell_type": "code",
   "execution_count": 23,
   "id": "98bfb403-45df-430a-b1f5-2c800bd9b63a",
   "metadata": {
    "tags": []
   },
   "outputs": [
    {
     "name": "stdout",
     "output_type": "stream",
     "text": [
      "top 1 training\n"
     ]
    },
    {
     "name": "stderr",
     "output_type": "stream",
     "text": [
      "WARNING:absl:Found untraced functions such as gru_cell_1_layer_call_fn, gru_cell_1_layer_call_and_return_conditional_losses, gru_cell_2_layer_call_fn, gru_cell_2_layer_call_and_return_conditional_losses, gru_cell_4_layer_call_fn while saving (showing 5 of 24). These functions will not be directly callable after loading.\n"
     ]
    },
    {
     "name": "stdout",
     "output_type": "stream",
     "text": [
      "INFO:tensorflow:Assets written to: ./logs/final_training/top_1/model/best_V/assets\n"
     ]
    },
    {
     "name": "stderr",
     "output_type": "stream",
     "text": [
      "INFO:tensorflow:Assets written to: ./logs/final_training/top_1/model/best_V/assets\n",
      "WARNING:absl:Found untraced functions such as gru_cell_1_layer_call_fn, gru_cell_1_layer_call_and_return_conditional_losses, gru_cell_2_layer_call_fn, gru_cell_2_layer_call_and_return_conditional_losses, gru_cell_4_layer_call_fn while saving (showing 5 of 24). These functions will not be directly callable after loading.\n"
     ]
    },
    {
     "name": "stdout",
     "output_type": "stream",
     "text": [
      "INFO:tensorflow:Assets written to: ./logs/final_training/top_1/model/best_D/assets\n"
     ]
    },
    {
     "name": "stderr",
     "output_type": "stream",
     "text": [
      "INFO:tensorflow:Assets written to: ./logs/final_training/top_1/model/best_D/assets\n",
      "WARNING:absl:Found untraced functions such as gru_cell_1_layer_call_fn, gru_cell_1_layer_call_and_return_conditional_losses, gru_cell_2_layer_call_fn, gru_cell_2_layer_call_and_return_conditional_losses, gru_cell_4_layer_call_fn while saving (showing 5 of 24). These functions will not be directly callable after loading.\n"
     ]
    },
    {
     "name": "stdout",
     "output_type": "stream",
     "text": [
      "INFO:tensorflow:Assets written to: ./logs/final_training/top_1/model/best_J/assets\n"
     ]
    },
    {
     "name": "stderr",
     "output_type": "stream",
     "text": [
      "INFO:tensorflow:Assets written to: ./logs/final_training/top_1/model/best_J/assets\n",
      "WARNING:absl:Found untraced functions such as gru_cell_1_layer_call_fn, gru_cell_1_layer_call_and_return_conditional_losses, gru_cell_2_layer_call_fn, gru_cell_2_layer_call_and_return_conditional_losses, gru_cell_4_layer_call_fn while saving (showing 5 of 24). These functions will not be directly callable after loading.\n"
     ]
    },
    {
     "name": "stdout",
     "output_type": "stream",
     "text": [
      "INFO:tensorflow:Assets written to: ./logs/final_training/top_1/model/best_V/assets\n"
     ]
    },
    {
     "name": "stderr",
     "output_type": "stream",
     "text": [
      "INFO:tensorflow:Assets written to: ./logs/final_training/top_1/model/best_V/assets\n",
      "WARNING:absl:Found untraced functions such as gru_cell_1_layer_call_fn, gru_cell_1_layer_call_and_return_conditional_losses, gru_cell_2_layer_call_fn, gru_cell_2_layer_call_and_return_conditional_losses, gru_cell_4_layer_call_fn while saving (showing 5 of 24). These functions will not be directly callable after loading.\n"
     ]
    },
    {
     "name": "stdout",
     "output_type": "stream",
     "text": [
      "INFO:tensorflow:Assets written to: ./logs/final_training/top_1/model/best_D/assets\n"
     ]
    },
    {
     "name": "stderr",
     "output_type": "stream",
     "text": [
      "INFO:tensorflow:Assets written to: ./logs/final_training/top_1/model/best_D/assets\n",
      "WARNING:absl:Found untraced functions such as gru_cell_1_layer_call_fn, gru_cell_1_layer_call_and_return_conditional_losses, gru_cell_2_layer_call_fn, gru_cell_2_layer_call_and_return_conditional_losses, gru_cell_4_layer_call_fn while saving (showing 5 of 24). These functions will not be directly callable after loading.\n"
     ]
    },
    {
     "name": "stdout",
     "output_type": "stream",
     "text": [
      "INFO:tensorflow:Assets written to: ./logs/final_training/top_1/model/best_J/assets\n"
     ]
    },
    {
     "name": "stderr",
     "output_type": "stream",
     "text": [
      "INFO:tensorflow:Assets written to: ./logs/final_training/top_1/model/best_J/assets\n",
      "WARNING:absl:Found untraced functions such as gru_cell_1_layer_call_fn, gru_cell_1_layer_call_and_return_conditional_losses, gru_cell_2_layer_call_fn, gru_cell_2_layer_call_and_return_conditional_losses, gru_cell_4_layer_call_fn while saving (showing 5 of 24). These functions will not be directly callable after loading.\n"
     ]
    },
    {
     "name": "stdout",
     "output_type": "stream",
     "text": [
      "INFO:tensorflow:Assets written to: ./logs/final_training/top_1/model/best_V/assets\n"
     ]
    },
    {
     "name": "stderr",
     "output_type": "stream",
     "text": [
      "INFO:tensorflow:Assets written to: ./logs/final_training/top_1/model/best_V/assets\n",
      "WARNING:absl:Found untraced functions such as gru_cell_1_layer_call_fn, gru_cell_1_layer_call_and_return_conditional_losses, gru_cell_2_layer_call_fn, gru_cell_2_layer_call_and_return_conditional_losses, gru_cell_4_layer_call_fn while saving (showing 5 of 24). These functions will not be directly callable after loading.\n"
     ]
    },
    {
     "name": "stdout",
     "output_type": "stream",
     "text": [
      "INFO:tensorflow:Assets written to: ./logs/final_training/top_1/model/best_D/assets\n"
     ]
    },
    {
     "name": "stderr",
     "output_type": "stream",
     "text": [
      "INFO:tensorflow:Assets written to: ./logs/final_training/top_1/model/best_D/assets\n",
      "WARNING:absl:Found untraced functions such as gru_cell_1_layer_call_fn, gru_cell_1_layer_call_and_return_conditional_losses, gru_cell_2_layer_call_fn, gru_cell_2_layer_call_and_return_conditional_losses, gru_cell_4_layer_call_fn while saving (showing 5 of 24). These functions will not be directly callable after loading.\n"
     ]
    },
    {
     "name": "stdout",
     "output_type": "stream",
     "text": [
      "INFO:tensorflow:Assets written to: ./logs/final_training/top_1/model/best_V/assets\n"
     ]
    },
    {
     "name": "stderr",
     "output_type": "stream",
     "text": [
      "INFO:tensorflow:Assets written to: ./logs/final_training/top_1/model/best_V/assets\n",
      "WARNING:absl:Found untraced functions such as gru_cell_1_layer_call_fn, gru_cell_1_layer_call_and_return_conditional_losses, gru_cell_2_layer_call_fn, gru_cell_2_layer_call_and_return_conditional_losses, gru_cell_4_layer_call_fn while saving (showing 5 of 24). These functions will not be directly callable after loading.\n"
     ]
    },
    {
     "name": "stdout",
     "output_type": "stream",
     "text": [
      "INFO:tensorflow:Assets written to: ./logs/final_training/top_1/model/best_J/assets\n"
     ]
    },
    {
     "name": "stderr",
     "output_type": "stream",
     "text": [
      "INFO:tensorflow:Assets written to: ./logs/final_training/top_1/model/best_J/assets\n",
      "WARNING:absl:Found untraced functions such as gru_cell_1_layer_call_fn, gru_cell_1_layer_call_and_return_conditional_losses, gru_cell_2_layer_call_fn, gru_cell_2_layer_call_and_return_conditional_losses, gru_cell_4_layer_call_fn while saving (showing 5 of 24). These functions will not be directly callable after loading.\n"
     ]
    },
    {
     "name": "stdout",
     "output_type": "stream",
     "text": [
      "INFO:tensorflow:Assets written to: ./logs/final_training/top_1/model/best_D/assets\n"
     ]
    },
    {
     "name": "stderr",
     "output_type": "stream",
     "text": [
      "INFO:tensorflow:Assets written to: ./logs/final_training/top_1/model/best_D/assets\n",
      "WARNING:absl:Found untraced functions such as gru_cell_1_layer_call_fn, gru_cell_1_layer_call_and_return_conditional_losses, gru_cell_2_layer_call_fn, gru_cell_2_layer_call_and_return_conditional_losses, gru_cell_4_layer_call_fn while saving (showing 5 of 24). These functions will not be directly callable after loading.\n"
     ]
    },
    {
     "name": "stdout",
     "output_type": "stream",
     "text": [
      "INFO:tensorflow:Assets written to: ./logs/final_training/top_1/model/best_D/assets\n"
     ]
    },
    {
     "name": "stderr",
     "output_type": "stream",
     "text": [
      "INFO:tensorflow:Assets written to: ./logs/final_training/top_1/model/best_D/assets\n",
      "WARNING:absl:Found untraced functions such as gru_cell_1_layer_call_fn, gru_cell_1_layer_call_and_return_conditional_losses, gru_cell_2_layer_call_fn, gru_cell_2_layer_call_and_return_conditional_losses, gru_cell_4_layer_call_fn while saving (showing 5 of 24). These functions will not be directly callable after loading.\n"
     ]
    },
    {
     "name": "stdout",
     "output_type": "stream",
     "text": [
      "INFO:tensorflow:Assets written to: ./logs/final_training/top_1/model/best_J/assets\n"
     ]
    },
    {
     "name": "stderr",
     "output_type": "stream",
     "text": [
      "INFO:tensorflow:Assets written to: ./logs/final_training/top_1/model/best_J/assets\n",
      "WARNING:absl:Found untraced functions such as gru_cell_1_layer_call_fn, gru_cell_1_layer_call_and_return_conditional_losses, gru_cell_2_layer_call_fn, gru_cell_2_layer_call_and_return_conditional_losses, gru_cell_4_layer_call_fn while saving (showing 5 of 24). These functions will not be directly callable after loading.\n"
     ]
    },
    {
     "name": "stdout",
     "output_type": "stream",
     "text": [
      "INFO:tensorflow:Assets written to: ./logs/final_training/top_1/model/best_J/assets\n"
     ]
    },
    {
     "name": "stderr",
     "output_type": "stream",
     "text": [
      "INFO:tensorflow:Assets written to: ./logs/final_training/top_1/model/best_J/assets\n",
      "WARNING:absl:Found untraced functions such as gru_cell_1_layer_call_fn, gru_cell_1_layer_call_and_return_conditional_losses, gru_cell_2_layer_call_fn, gru_cell_2_layer_call_and_return_conditional_losses, gru_cell_4_layer_call_fn while saving (showing 5 of 24). These functions will not be directly callable after loading.\n"
     ]
    },
    {
     "name": "stdout",
     "output_type": "stream",
     "text": [
      "INFO:tensorflow:Assets written to: ./logs/final_training/top_1/model/best_V/assets\n"
     ]
    },
    {
     "name": "stderr",
     "output_type": "stream",
     "text": [
      "INFO:tensorflow:Assets written to: ./logs/final_training/top_1/model/best_V/assets\n",
      "WARNING:absl:Found untraced functions such as gru_cell_1_layer_call_fn, gru_cell_1_layer_call_and_return_conditional_losses, gru_cell_2_layer_call_fn, gru_cell_2_layer_call_and_return_conditional_losses, gru_cell_4_layer_call_fn while saving (showing 5 of 24). These functions will not be directly callable after loading.\n"
     ]
    },
    {
     "name": "stdout",
     "output_type": "stream",
     "text": [
      "INFO:tensorflow:Assets written to: ./logs/final_training/top_1/model/best_V/assets\n"
     ]
    },
    {
     "name": "stderr",
     "output_type": "stream",
     "text": [
      "INFO:tensorflow:Assets written to: ./logs/final_training/top_1/model/best_V/assets\n",
      "WARNING:absl:Found untraced functions such as gru_cell_1_layer_call_fn, gru_cell_1_layer_call_and_return_conditional_losses, gru_cell_2_layer_call_fn, gru_cell_2_layer_call_and_return_conditional_losses, gru_cell_4_layer_call_fn while saving (showing 5 of 24). These functions will not be directly callable after loading.\n"
     ]
    },
    {
     "name": "stdout",
     "output_type": "stream",
     "text": [
      "INFO:tensorflow:Assets written to: ./logs/final_training/top_1/model/best_V/assets\n"
     ]
    },
    {
     "name": "stderr",
     "output_type": "stream",
     "text": [
      "INFO:tensorflow:Assets written to: ./logs/final_training/top_1/model/best_V/assets\n",
      "WARNING:absl:Found untraced functions such as gru_cell_1_layer_call_fn, gru_cell_1_layer_call_and_return_conditional_losses, gru_cell_2_layer_call_fn, gru_cell_2_layer_call_and_return_conditional_losses, gru_cell_4_layer_call_fn while saving (showing 5 of 24). These functions will not be directly callable after loading.\n"
     ]
    },
    {
     "name": "stdout",
     "output_type": "stream",
     "text": [
      "INFO:tensorflow:Assets written to: ./logs/final_training/top_1/model/best_J/assets\n"
     ]
    },
    {
     "name": "stderr",
     "output_type": "stream",
     "text": [
      "INFO:tensorflow:Assets written to: ./logs/final_training/top_1/model/best_J/assets\n",
      "WARNING:absl:Found untraced functions such as gru_cell_1_layer_call_fn, gru_cell_1_layer_call_and_return_conditional_losses, gru_cell_2_layer_call_fn, gru_cell_2_layer_call_and_return_conditional_losses, gru_cell_4_layer_call_fn while saving (showing 5 of 24). These functions will not be directly callable after loading.\n"
     ]
    },
    {
     "name": "stdout",
     "output_type": "stream",
     "text": [
      "INFO:tensorflow:Assets written to: ./logs/final_training/top_1/model/best_D/assets\n"
     ]
    },
    {
     "name": "stderr",
     "output_type": "stream",
     "text": [
      "INFO:tensorflow:Assets written to: ./logs/final_training/top_1/model/best_D/assets\n",
      "WARNING:absl:Found untraced functions such as gru_cell_1_layer_call_fn, gru_cell_1_layer_call_and_return_conditional_losses, gru_cell_2_layer_call_fn, gru_cell_2_layer_call_and_return_conditional_losses, gru_cell_4_layer_call_fn while saving (showing 5 of 24). These functions will not be directly callable after loading.\n"
     ]
    },
    {
     "name": "stdout",
     "output_type": "stream",
     "text": [
      "INFO:tensorflow:Assets written to: ./logs/final_training/top_1/model/best_D/assets\n"
     ]
    },
    {
     "name": "stderr",
     "output_type": "stream",
     "text": [
      "INFO:tensorflow:Assets written to: ./logs/final_training/top_1/model/best_D/assets\n",
      "WARNING:absl:Found untraced functions such as gru_cell_1_layer_call_fn, gru_cell_1_layer_call_and_return_conditional_losses, gru_cell_2_layer_call_fn, gru_cell_2_layer_call_and_return_conditional_losses, gru_cell_4_layer_call_fn while saving (showing 5 of 24). These functions will not be directly callable after loading.\n"
     ]
    },
    {
     "name": "stdout",
     "output_type": "stream",
     "text": [
      "INFO:tensorflow:Assets written to: ./logs/final_training/top_1/model/best_J/assets\n"
     ]
    },
    {
     "name": "stderr",
     "output_type": "stream",
     "text": [
      "INFO:tensorflow:Assets written to: ./logs/final_training/top_1/model/best_J/assets\n",
      "WARNING:absl:Found untraced functions such as gru_cell_1_layer_call_fn, gru_cell_1_layer_call_and_return_conditional_losses, gru_cell_2_layer_call_fn, gru_cell_2_layer_call_and_return_conditional_losses, gru_cell_4_layer_call_fn while saving (showing 5 of 24). These functions will not be directly callable after loading.\n"
     ]
    },
    {
     "name": "stdout",
     "output_type": "stream",
     "text": [
      "INFO:tensorflow:Assets written to: ./logs/final_training/top_1/model/best_V/assets\n"
     ]
    },
    {
     "name": "stderr",
     "output_type": "stream",
     "text": [
      "INFO:tensorflow:Assets written to: ./logs/final_training/top_1/model/best_V/assets\n",
      "WARNING:absl:Found untraced functions such as gru_cell_1_layer_call_fn, gru_cell_1_layer_call_and_return_conditional_losses, gru_cell_2_layer_call_fn, gru_cell_2_layer_call_and_return_conditional_losses, gru_cell_4_layer_call_fn while saving (showing 5 of 24). These functions will not be directly callable after loading.\n"
     ]
    },
    {
     "name": "stdout",
     "output_type": "stream",
     "text": [
      "INFO:tensorflow:Assets written to: ./logs/final_training/top_1/model/best_V/assets\n"
     ]
    },
    {
     "name": "stderr",
     "output_type": "stream",
     "text": [
      "INFO:tensorflow:Assets written to: ./logs/final_training/top_1/model/best_V/assets\n",
      "WARNING:absl:Found untraced functions such as gru_cell_1_layer_call_fn, gru_cell_1_layer_call_and_return_conditional_losses, gru_cell_2_layer_call_fn, gru_cell_2_layer_call_and_return_conditional_losses, gru_cell_4_layer_call_fn while saving (showing 5 of 24). These functions will not be directly callable after loading.\n"
     ]
    },
    {
     "name": "stdout",
     "output_type": "stream",
     "text": [
      "INFO:tensorflow:Assets written to: ./logs/final_training/top_1/model/best_J/assets\n"
     ]
    },
    {
     "name": "stderr",
     "output_type": "stream",
     "text": [
      "INFO:tensorflow:Assets written to: ./logs/final_training/top_1/model/best_J/assets\n",
      "WARNING:absl:Found untraced functions such as gru_cell_1_layer_call_fn, gru_cell_1_layer_call_and_return_conditional_losses, gru_cell_2_layer_call_fn, gru_cell_2_layer_call_and_return_conditional_losses, gru_cell_4_layer_call_fn while saving (showing 5 of 24). These functions will not be directly callable after loading.\n"
     ]
    },
    {
     "name": "stdout",
     "output_type": "stream",
     "text": [
      "INFO:tensorflow:Assets written to: ./logs/final_training/top_1/model/best_J/assets\n"
     ]
    },
    {
     "name": "stderr",
     "output_type": "stream",
     "text": [
      "INFO:tensorflow:Assets written to: ./logs/final_training/top_1/model/best_J/assets\n",
      "WARNING:absl:Found untraced functions such as gru_cell_1_layer_call_fn, gru_cell_1_layer_call_and_return_conditional_losses, gru_cell_2_layer_call_fn, gru_cell_2_layer_call_and_return_conditional_losses, gru_cell_4_layer_call_fn while saving (showing 5 of 24). These functions will not be directly callable after loading.\n"
     ]
    },
    {
     "name": "stdout",
     "output_type": "stream",
     "text": [
      "INFO:tensorflow:Assets written to: ./logs/final_training/top_1/model/best_J/assets\n"
     ]
    },
    {
     "name": "stderr",
     "output_type": "stream",
     "text": [
      "INFO:tensorflow:Assets written to: ./logs/final_training/top_1/model/best_J/assets\n",
      "WARNING:absl:Found untraced functions such as gru_cell_1_layer_call_fn, gru_cell_1_layer_call_and_return_conditional_losses, gru_cell_2_layer_call_fn, gru_cell_2_layer_call_and_return_conditional_losses, gru_cell_4_layer_call_fn while saving (showing 5 of 24). These functions will not be directly callable after loading.\n"
     ]
    },
    {
     "name": "stdout",
     "output_type": "stream",
     "text": [
      "INFO:tensorflow:Assets written to: ./logs/final_training/top_1/model/best_J/assets\n"
     ]
    },
    {
     "name": "stderr",
     "output_type": "stream",
     "text": [
      "INFO:tensorflow:Assets written to: ./logs/final_training/top_1/model/best_J/assets\n",
      "WARNING:absl:Found untraced functions such as gru_cell_1_layer_call_fn, gru_cell_1_layer_call_and_return_conditional_losses, gru_cell_2_layer_call_fn, gru_cell_2_layer_call_and_return_conditional_losses, gru_cell_4_layer_call_fn while saving (showing 5 of 24). These functions will not be directly callable after loading.\n"
     ]
    },
    {
     "name": "stdout",
     "output_type": "stream",
     "text": [
      "INFO:tensorflow:Assets written to: ./logs/final_training/top_1/model/best_V/assets\n"
     ]
    },
    {
     "name": "stderr",
     "output_type": "stream",
     "text": [
      "INFO:tensorflow:Assets written to: ./logs/final_training/top_1/model/best_V/assets\n",
      "WARNING:absl:Found untraced functions such as gru_cell_1_layer_call_fn, gru_cell_1_layer_call_and_return_conditional_losses, gru_cell_2_layer_call_fn, gru_cell_2_layer_call_and_return_conditional_losses, gru_cell_4_layer_call_fn while saving (showing 5 of 24). These functions will not be directly callable after loading.\n"
     ]
    },
    {
     "name": "stdout",
     "output_type": "stream",
     "text": [
      "INFO:tensorflow:Assets written to: ./logs/final_training/top_1/model/best_V/assets\n"
     ]
    },
    {
     "name": "stderr",
     "output_type": "stream",
     "text": [
      "INFO:tensorflow:Assets written to: ./logs/final_training/top_1/model/best_V/assets\n",
      "WARNING:absl:Found untraced functions such as gru_cell_1_layer_call_fn, gru_cell_1_layer_call_and_return_conditional_losses, gru_cell_2_layer_call_fn, gru_cell_2_layer_call_and_return_conditional_losses, gru_cell_4_layer_call_fn while saving (showing 5 of 24). These functions will not be directly callable after loading.\n"
     ]
    },
    {
     "name": "stdout",
     "output_type": "stream",
     "text": [
      "INFO:tensorflow:Assets written to: ./logs/final_training/top_1/model/best_J/assets\n"
     ]
    },
    {
     "name": "stderr",
     "output_type": "stream",
     "text": [
      "INFO:tensorflow:Assets written to: ./logs/final_training/top_1/model/best_J/assets\n",
      "WARNING:absl:Found untraced functions such as gru_cell_1_layer_call_fn, gru_cell_1_layer_call_and_return_conditional_losses, gru_cell_2_layer_call_fn, gru_cell_2_layer_call_and_return_conditional_losses, gru_cell_4_layer_call_fn while saving (showing 5 of 24). These functions will not be directly callable after loading.\n"
     ]
    },
    {
     "name": "stdout",
     "output_type": "stream",
     "text": [
      "INFO:tensorflow:Assets written to: ./logs/final_training/top_1/model/best_V/assets\n"
     ]
    },
    {
     "name": "stderr",
     "output_type": "stream",
     "text": [
      "INFO:tensorflow:Assets written to: ./logs/final_training/top_1/model/best_V/assets\n",
      "WARNING:absl:Found untraced functions such as gru_cell_1_layer_call_fn, gru_cell_1_layer_call_and_return_conditional_losses, gru_cell_2_layer_call_fn, gru_cell_2_layer_call_and_return_conditional_losses, gru_cell_4_layer_call_fn while saving (showing 5 of 24). These functions will not be directly callable after loading.\n"
     ]
    },
    {
     "name": "stdout",
     "output_type": "stream",
     "text": [
      "INFO:tensorflow:Assets written to: ./logs/final_training/top_1/model/best_V/assets\n"
     ]
    },
    {
     "name": "stderr",
     "output_type": "stream",
     "text": [
      "INFO:tensorflow:Assets written to: ./logs/final_training/top_1/model/best_V/assets\n",
      "WARNING:absl:Found untraced functions such as gru_cell_1_layer_call_fn, gru_cell_1_layer_call_and_return_conditional_losses, gru_cell_2_layer_call_fn, gru_cell_2_layer_call_and_return_conditional_losses, gru_cell_4_layer_call_fn while saving (showing 5 of 24). These functions will not be directly callable after loading.\n"
     ]
    },
    {
     "name": "stdout",
     "output_type": "stream",
     "text": [
      "INFO:tensorflow:Assets written to: ./logs/final_training/top_1/model/best_V/assets\n"
     ]
    },
    {
     "name": "stderr",
     "output_type": "stream",
     "text": [
      "INFO:tensorflow:Assets written to: ./logs/final_training/top_1/model/best_V/assets\n",
      "WARNING:absl:Found untraced functions such as gru_cell_1_layer_call_fn, gru_cell_1_layer_call_and_return_conditional_losses, gru_cell_2_layer_call_fn, gru_cell_2_layer_call_and_return_conditional_losses, gru_cell_4_layer_call_fn while saving (showing 5 of 24). These functions will not be directly callable after loading.\n"
     ]
    },
    {
     "name": "stdout",
     "output_type": "stream",
     "text": [
      "INFO:tensorflow:Assets written to: ./logs/final_training/top_1/model/best_V/assets\n"
     ]
    },
    {
     "name": "stderr",
     "output_type": "stream",
     "text": [
      "INFO:tensorflow:Assets written to: ./logs/final_training/top_1/model/best_V/assets\n",
      "WARNING:absl:Found untraced functions such as gru_cell_1_layer_call_fn, gru_cell_1_layer_call_and_return_conditional_losses, gru_cell_2_layer_call_fn, gru_cell_2_layer_call_and_return_conditional_losses, gru_cell_4_layer_call_fn while saving (showing 5 of 24). These functions will not be directly callable after loading.\n"
     ]
    },
    {
     "name": "stdout",
     "output_type": "stream",
     "text": [
      "INFO:tensorflow:Assets written to: ./logs/final_training/top_1/model/best_J/assets\n"
     ]
    },
    {
     "name": "stderr",
     "output_type": "stream",
     "text": [
      "INFO:tensorflow:Assets written to: ./logs/final_training/top_1/model/best_J/assets\n",
      "WARNING:absl:Found untraced functions such as gru_cell_1_layer_call_fn, gru_cell_1_layer_call_and_return_conditional_losses, gru_cell_2_layer_call_fn, gru_cell_2_layer_call_and_return_conditional_losses, gru_cell_4_layer_call_fn while saving (showing 5 of 24). These functions will not be directly callable after loading.\n"
     ]
    },
    {
     "name": "stdout",
     "output_type": "stream",
     "text": [
      "INFO:tensorflow:Assets written to: ./logs/final_training/top_1/model/best_J/assets\n"
     ]
    },
    {
     "name": "stderr",
     "output_type": "stream",
     "text": [
      "INFO:tensorflow:Assets written to: ./logs/final_training/top_1/model/best_J/assets\n",
      "WARNING:absl:Found untraced functions such as gru_cell_1_layer_call_fn, gru_cell_1_layer_call_and_return_conditional_losses, gru_cell_2_layer_call_fn, gru_cell_2_layer_call_and_return_conditional_losses, gru_cell_4_layer_call_fn while saving (showing 5 of 24). These functions will not be directly callable after loading.\n"
     ]
    },
    {
     "name": "stdout",
     "output_type": "stream",
     "text": [
      "INFO:tensorflow:Assets written to: ./logs/final_training/top_1/model/best_J/assets\n"
     ]
    },
    {
     "name": "stderr",
     "output_type": "stream",
     "text": [
      "INFO:tensorflow:Assets written to: ./logs/final_training/top_1/model/best_J/assets\n",
      "WARNING:absl:Found untraced functions such as gru_cell_1_layer_call_fn, gru_cell_1_layer_call_and_return_conditional_losses, gru_cell_2_layer_call_fn, gru_cell_2_layer_call_and_return_conditional_losses, gru_cell_4_layer_call_fn while saving (showing 5 of 24). These functions will not be directly callable after loading.\n"
     ]
    },
    {
     "name": "stdout",
     "output_type": "stream",
     "text": [
      "INFO:tensorflow:Assets written to: ./logs/final_training/top_1/model/best_J/assets\n"
     ]
    },
    {
     "name": "stderr",
     "output_type": "stream",
     "text": [
      "INFO:tensorflow:Assets written to: ./logs/final_training/top_1/model/best_J/assets\n",
      "WARNING:absl:Found untraced functions such as gru_cell_1_layer_call_fn, gru_cell_1_layer_call_and_return_conditional_losses, gru_cell_2_layer_call_fn, gru_cell_2_layer_call_and_return_conditional_losses, gru_cell_4_layer_call_fn while saving (showing 5 of 24). These functions will not be directly callable after loading.\n"
     ]
    },
    {
     "name": "stdout",
     "output_type": "stream",
     "text": [
      "INFO:tensorflow:Assets written to: ./logs/final_training/top_1/model/best_V/assets\n"
     ]
    },
    {
     "name": "stderr",
     "output_type": "stream",
     "text": [
      "INFO:tensorflow:Assets written to: ./logs/final_training/top_1/model/best_V/assets\n",
      "WARNING:absl:Found untraced functions such as gru_cell_1_layer_call_fn, gru_cell_1_layer_call_and_return_conditional_losses, gru_cell_2_layer_call_fn, gru_cell_2_layer_call_and_return_conditional_losses, gru_cell_4_layer_call_fn while saving (showing 5 of 24). These functions will not be directly callable after loading.\n"
     ]
    },
    {
     "name": "stdout",
     "output_type": "stream",
     "text": [
      "INFO:tensorflow:Assets written to: ./logs/final_training/top_1/model/best_J/assets\n"
     ]
    },
    {
     "name": "stderr",
     "output_type": "stream",
     "text": [
      "INFO:tensorflow:Assets written to: ./logs/final_training/top_1/model/best_J/assets\n",
      "WARNING:absl:Found untraced functions such as gru_cell_1_layer_call_fn, gru_cell_1_layer_call_and_return_conditional_losses, gru_cell_2_layer_call_fn, gru_cell_2_layer_call_and_return_conditional_losses, gru_cell_4_layer_call_fn while saving (showing 5 of 24). These functions will not be directly callable after loading.\n"
     ]
    },
    {
     "name": "stdout",
     "output_type": "stream",
     "text": [
      "INFO:tensorflow:Assets written to: ./logs/final_training/top_1/model/best_V/assets\n"
     ]
    },
    {
     "name": "stderr",
     "output_type": "stream",
     "text": [
      "INFO:tensorflow:Assets written to: ./logs/final_training/top_1/model/best_V/assets\n",
      "WARNING:absl:Found untraced functions such as gru_cell_1_layer_call_fn, gru_cell_1_layer_call_and_return_conditional_losses, gru_cell_2_layer_call_fn, gru_cell_2_layer_call_and_return_conditional_losses, gru_cell_4_layer_call_fn while saving (showing 5 of 24). These functions will not be directly callable after loading.\n"
     ]
    },
    {
     "name": "stdout",
     "output_type": "stream",
     "text": [
      "INFO:tensorflow:Assets written to: ./logs/final_training/top_1/model/best_V/assets\n"
     ]
    },
    {
     "name": "stderr",
     "output_type": "stream",
     "text": [
      "INFO:tensorflow:Assets written to: ./logs/final_training/top_1/model/best_V/assets\n",
      "WARNING:absl:Found untraced functions such as gru_cell_1_layer_call_fn, gru_cell_1_layer_call_and_return_conditional_losses, gru_cell_2_layer_call_fn, gru_cell_2_layer_call_and_return_conditional_losses, gru_cell_4_layer_call_fn while saving (showing 5 of 24). These functions will not be directly callable after loading.\n"
     ]
    },
    {
     "name": "stdout",
     "output_type": "stream",
     "text": [
      "INFO:tensorflow:Assets written to: ./logs/final_training/top_1/model/best_V/assets\n"
     ]
    },
    {
     "name": "stderr",
     "output_type": "stream",
     "text": [
      "INFO:tensorflow:Assets written to: ./logs/final_training/top_1/model/best_V/assets\n",
      "WARNING:absl:Found untraced functions such as gru_cell_1_layer_call_fn, gru_cell_1_layer_call_and_return_conditional_losses, gru_cell_2_layer_call_fn, gru_cell_2_layer_call_and_return_conditional_losses, gru_cell_4_layer_call_fn while saving (showing 5 of 24). These functions will not be directly callable after loading.\n"
     ]
    },
    {
     "name": "stdout",
     "output_type": "stream",
     "text": [
      "INFO:tensorflow:Assets written to: ./logs/final_training/top_1/model/best_D/assets\n"
     ]
    },
    {
     "name": "stderr",
     "output_type": "stream",
     "text": [
      "INFO:tensorflow:Assets written to: ./logs/final_training/top_1/model/best_D/assets\n",
      "WARNING:absl:Found untraced functions such as gru_cell_1_layer_call_fn, gru_cell_1_layer_call_and_return_conditional_losses, gru_cell_2_layer_call_fn, gru_cell_2_layer_call_and_return_conditional_losses, gru_cell_4_layer_call_fn while saving (showing 5 of 24). These functions will not be directly callable after loading.\n"
     ]
    },
    {
     "name": "stdout",
     "output_type": "stream",
     "text": [
      "INFO:tensorflow:Assets written to: ./logs/final_training/top_1/model/best_D/assets\n"
     ]
    },
    {
     "name": "stderr",
     "output_type": "stream",
     "text": [
      "INFO:tensorflow:Assets written to: ./logs/final_training/top_1/model/best_D/assets\n",
      "WARNING:absl:Found untraced functions such as gru_cell_1_layer_call_fn, gru_cell_1_layer_call_and_return_conditional_losses, gru_cell_2_layer_call_fn, gru_cell_2_layer_call_and_return_conditional_losses, gru_cell_4_layer_call_fn while saving (showing 5 of 24). These functions will not be directly callable after loading.\n"
     ]
    },
    {
     "name": "stdout",
     "output_type": "stream",
     "text": [
      "INFO:tensorflow:Assets written to: ./logs/final_training/top_1/model/best_V/assets\n"
     ]
    },
    {
     "name": "stderr",
     "output_type": "stream",
     "text": [
      "INFO:tensorflow:Assets written to: ./logs/final_training/top_1/model/best_V/assets\n",
      "WARNING:absl:Found untraced functions such as gru_cell_1_layer_call_fn, gru_cell_1_layer_call_and_return_conditional_losses, gru_cell_2_layer_call_fn, gru_cell_2_layer_call_and_return_conditional_losses, gru_cell_4_layer_call_fn while saving (showing 5 of 24). These functions will not be directly callable after loading.\n"
     ]
    },
    {
     "name": "stdout",
     "output_type": "stream",
     "text": [
      "INFO:tensorflow:Assets written to: ./logs/final_training/top_1/model/best_D/assets\n"
     ]
    },
    {
     "name": "stderr",
     "output_type": "stream",
     "text": [
      "INFO:tensorflow:Assets written to: ./logs/final_training/top_1/model/best_D/assets\n",
      "WARNING:absl:Found untraced functions such as gru_cell_1_layer_call_fn, gru_cell_1_layer_call_and_return_conditional_losses, gru_cell_2_layer_call_fn, gru_cell_2_layer_call_and_return_conditional_losses, gru_cell_4_layer_call_fn while saving (showing 5 of 24). These functions will not be directly callable after loading.\n"
     ]
    },
    {
     "name": "stdout",
     "output_type": "stream",
     "text": [
      "INFO:tensorflow:Assets written to: ./logs/final_training/top_1/model/best_V/assets\n"
     ]
    },
    {
     "name": "stderr",
     "output_type": "stream",
     "text": [
      "INFO:tensorflow:Assets written to: ./logs/final_training/top_1/model/best_V/assets\n",
      "WARNING:absl:Found untraced functions such as gru_cell_1_layer_call_fn, gru_cell_1_layer_call_and_return_conditional_losses, gru_cell_2_layer_call_fn, gru_cell_2_layer_call_and_return_conditional_losses, gru_cell_4_layer_call_fn while saving (showing 5 of 24). These functions will not be directly callable after loading.\n"
     ]
    },
    {
     "name": "stdout",
     "output_type": "stream",
     "text": [
      "INFO:tensorflow:Assets written to: ./logs/final_training/top_1/model/best_J/assets\n"
     ]
    },
    {
     "name": "stderr",
     "output_type": "stream",
     "text": [
      "INFO:tensorflow:Assets written to: ./logs/final_training/top_1/model/best_J/assets\n",
      "WARNING:absl:Found untraced functions such as gru_cell_1_layer_call_fn, gru_cell_1_layer_call_and_return_conditional_losses, gru_cell_2_layer_call_fn, gru_cell_2_layer_call_and_return_conditional_losses, gru_cell_4_layer_call_fn while saving (showing 5 of 24). These functions will not be directly callable after loading.\n"
     ]
    },
    {
     "name": "stdout",
     "output_type": "stream",
     "text": [
      "INFO:tensorflow:Assets written to: ./logs/final_training/top_1/model/best_J/assets\n"
     ]
    },
    {
     "name": "stderr",
     "output_type": "stream",
     "text": [
      "INFO:tensorflow:Assets written to: ./logs/final_training/top_1/model/best_J/assets\n",
      "WARNING:absl:Found untraced functions such as gru_cell_1_layer_call_fn, gru_cell_1_layer_call_and_return_conditional_losses, gru_cell_2_layer_call_fn, gru_cell_2_layer_call_and_return_conditional_losses, gru_cell_4_layer_call_fn while saving (showing 5 of 24). These functions will not be directly callable after loading.\n"
     ]
    },
    {
     "name": "stdout",
     "output_type": "stream",
     "text": [
      "INFO:tensorflow:Assets written to: ./logs/final_training/top_1/model/best_J/assets\n"
     ]
    },
    {
     "name": "stderr",
     "output_type": "stream",
     "text": [
      "INFO:tensorflow:Assets written to: ./logs/final_training/top_1/model/best_J/assets\n",
      "WARNING:absl:Found untraced functions such as gru_cell_1_layer_call_fn, gru_cell_1_layer_call_and_return_conditional_losses, gru_cell_2_layer_call_fn, gru_cell_2_layer_call_and_return_conditional_losses, gru_cell_4_layer_call_fn while saving (showing 5 of 24). These functions will not be directly callable after loading.\n"
     ]
    },
    {
     "name": "stdout",
     "output_type": "stream",
     "text": [
      "INFO:tensorflow:Assets written to: ./logs/final_training/top_1/model/best_D/assets\n"
     ]
    },
    {
     "name": "stderr",
     "output_type": "stream",
     "text": [
      "INFO:tensorflow:Assets written to: ./logs/final_training/top_1/model/best_D/assets\n",
      "WARNING:absl:Found untraced functions such as gru_cell_1_layer_call_fn, gru_cell_1_layer_call_and_return_conditional_losses, gru_cell_2_layer_call_fn, gru_cell_2_layer_call_and_return_conditional_losses, gru_cell_4_layer_call_fn while saving (showing 5 of 24). These functions will not be directly callable after loading.\n"
     ]
    },
    {
     "name": "stdout",
     "output_type": "stream",
     "text": [
      "INFO:tensorflow:Assets written to: ./logs/final_training/top_1/model/best_J/assets\n"
     ]
    },
    {
     "name": "stderr",
     "output_type": "stream",
     "text": [
      "INFO:tensorflow:Assets written to: ./logs/final_training/top_1/model/best_J/assets\n"
     ]
    },
    {
     "name": "stdout",
     "output_type": "stream",
     "text": [
      "top 2 training\n"
     ]
    },
    {
     "name": "stderr",
     "output_type": "stream",
     "text": [
      "WARNING:absl:Found untraced functions such as gru_cell_1_layer_call_fn, gru_cell_1_layer_call_and_return_conditional_losses, gru_cell_2_layer_call_fn, gru_cell_2_layer_call_and_return_conditional_losses, gru_cell_4_layer_call_fn while saving (showing 5 of 24). These functions will not be directly callable after loading.\n"
     ]
    },
    {
     "name": "stdout",
     "output_type": "stream",
     "text": [
      "INFO:tensorflow:Assets written to: ./logs/final_training/top_2/model/best_V/assets\n"
     ]
    },
    {
     "name": "stderr",
     "output_type": "stream",
     "text": [
      "INFO:tensorflow:Assets written to: ./logs/final_training/top_2/model/best_V/assets\n",
      "WARNING:absl:Found untraced functions such as gru_cell_1_layer_call_fn, gru_cell_1_layer_call_and_return_conditional_losses, gru_cell_2_layer_call_fn, gru_cell_2_layer_call_and_return_conditional_losses, gru_cell_4_layer_call_fn while saving (showing 5 of 24). These functions will not be directly callable after loading.\n"
     ]
    },
    {
     "name": "stdout",
     "output_type": "stream",
     "text": [
      "INFO:tensorflow:Assets written to: ./logs/final_training/top_2/model/best_D/assets\n"
     ]
    },
    {
     "name": "stderr",
     "output_type": "stream",
     "text": [
      "INFO:tensorflow:Assets written to: ./logs/final_training/top_2/model/best_D/assets\n",
      "WARNING:absl:Found untraced functions such as gru_cell_1_layer_call_fn, gru_cell_1_layer_call_and_return_conditional_losses, gru_cell_2_layer_call_fn, gru_cell_2_layer_call_and_return_conditional_losses, gru_cell_4_layer_call_fn while saving (showing 5 of 24). These functions will not be directly callable after loading.\n"
     ]
    },
    {
     "name": "stdout",
     "output_type": "stream",
     "text": [
      "INFO:tensorflow:Assets written to: ./logs/final_training/top_2/model/best_J/assets\n"
     ]
    },
    {
     "name": "stderr",
     "output_type": "stream",
     "text": [
      "INFO:tensorflow:Assets written to: ./logs/final_training/top_2/model/best_J/assets\n",
      "WARNING:absl:Found untraced functions such as gru_cell_1_layer_call_fn, gru_cell_1_layer_call_and_return_conditional_losses, gru_cell_2_layer_call_fn, gru_cell_2_layer_call_and_return_conditional_losses, gru_cell_4_layer_call_fn while saving (showing 5 of 24). These functions will not be directly callable after loading.\n"
     ]
    },
    {
     "name": "stdout",
     "output_type": "stream",
     "text": [
      "INFO:tensorflow:Assets written to: ./logs/final_training/top_2/model/best_V/assets\n"
     ]
    },
    {
     "name": "stderr",
     "output_type": "stream",
     "text": [
      "INFO:tensorflow:Assets written to: ./logs/final_training/top_2/model/best_V/assets\n",
      "WARNING:absl:Found untraced functions such as gru_cell_1_layer_call_fn, gru_cell_1_layer_call_and_return_conditional_losses, gru_cell_2_layer_call_fn, gru_cell_2_layer_call_and_return_conditional_losses, gru_cell_4_layer_call_fn while saving (showing 5 of 24). These functions will not be directly callable after loading.\n"
     ]
    },
    {
     "name": "stdout",
     "output_type": "stream",
     "text": [
      "INFO:tensorflow:Assets written to: ./logs/final_training/top_2/model/best_J/assets\n"
     ]
    },
    {
     "name": "stderr",
     "output_type": "stream",
     "text": [
      "INFO:tensorflow:Assets written to: ./logs/final_training/top_2/model/best_J/assets\n",
      "WARNING:absl:Found untraced functions such as gru_cell_1_layer_call_fn, gru_cell_1_layer_call_and_return_conditional_losses, gru_cell_2_layer_call_fn, gru_cell_2_layer_call_and_return_conditional_losses, gru_cell_4_layer_call_fn while saving (showing 5 of 24). These functions will not be directly callable after loading.\n"
     ]
    },
    {
     "name": "stdout",
     "output_type": "stream",
     "text": [
      "INFO:tensorflow:Assets written to: ./logs/final_training/top_2/model/best_V/assets\n"
     ]
    },
    {
     "name": "stderr",
     "output_type": "stream",
     "text": [
      "INFO:tensorflow:Assets written to: ./logs/final_training/top_2/model/best_V/assets\n",
      "WARNING:absl:Found untraced functions such as gru_cell_1_layer_call_fn, gru_cell_1_layer_call_and_return_conditional_losses, gru_cell_2_layer_call_fn, gru_cell_2_layer_call_and_return_conditional_losses, gru_cell_4_layer_call_fn while saving (showing 5 of 24). These functions will not be directly callable after loading.\n"
     ]
    },
    {
     "name": "stdout",
     "output_type": "stream",
     "text": [
      "INFO:tensorflow:Assets written to: ./logs/final_training/top_2/model/best_D/assets\n"
     ]
    },
    {
     "name": "stderr",
     "output_type": "stream",
     "text": [
      "INFO:tensorflow:Assets written to: ./logs/final_training/top_2/model/best_D/assets\n",
      "WARNING:absl:Found untraced functions such as gru_cell_1_layer_call_fn, gru_cell_1_layer_call_and_return_conditional_losses, gru_cell_2_layer_call_fn, gru_cell_2_layer_call_and_return_conditional_losses, gru_cell_4_layer_call_fn while saving (showing 5 of 24). These functions will not be directly callable after loading.\n"
     ]
    },
    {
     "name": "stdout",
     "output_type": "stream",
     "text": [
      "INFO:tensorflow:Assets written to: ./logs/final_training/top_2/model/best_V/assets\n"
     ]
    },
    {
     "name": "stderr",
     "output_type": "stream",
     "text": [
      "INFO:tensorflow:Assets written to: ./logs/final_training/top_2/model/best_V/assets\n",
      "WARNING:absl:Found untraced functions such as gru_cell_1_layer_call_fn, gru_cell_1_layer_call_and_return_conditional_losses, gru_cell_2_layer_call_fn, gru_cell_2_layer_call_and_return_conditional_losses, gru_cell_4_layer_call_fn while saving (showing 5 of 24). These functions will not be directly callable after loading.\n"
     ]
    },
    {
     "name": "stdout",
     "output_type": "stream",
     "text": [
      "INFO:tensorflow:Assets written to: ./logs/final_training/top_2/model/best_V/assets\n"
     ]
    },
    {
     "name": "stderr",
     "output_type": "stream",
     "text": [
      "INFO:tensorflow:Assets written to: ./logs/final_training/top_2/model/best_V/assets\n",
      "WARNING:absl:Found untraced functions such as gru_cell_1_layer_call_fn, gru_cell_1_layer_call_and_return_conditional_losses, gru_cell_2_layer_call_fn, gru_cell_2_layer_call_and_return_conditional_losses, gru_cell_4_layer_call_fn while saving (showing 5 of 24). These functions will not be directly callable after loading.\n"
     ]
    },
    {
     "name": "stdout",
     "output_type": "stream",
     "text": [
      "INFO:tensorflow:Assets written to: ./logs/final_training/top_2/model/best_D/assets\n"
     ]
    },
    {
     "name": "stderr",
     "output_type": "stream",
     "text": [
      "INFO:tensorflow:Assets written to: ./logs/final_training/top_2/model/best_D/assets\n",
      "WARNING:absl:Found untraced functions such as gru_cell_1_layer_call_fn, gru_cell_1_layer_call_and_return_conditional_losses, gru_cell_2_layer_call_fn, gru_cell_2_layer_call_and_return_conditional_losses, gru_cell_4_layer_call_fn while saving (showing 5 of 24). These functions will not be directly callable after loading.\n"
     ]
    },
    {
     "name": "stdout",
     "output_type": "stream",
     "text": [
      "INFO:tensorflow:Assets written to: ./logs/final_training/top_2/model/best_J/assets\n"
     ]
    },
    {
     "name": "stderr",
     "output_type": "stream",
     "text": [
      "INFO:tensorflow:Assets written to: ./logs/final_training/top_2/model/best_J/assets\n",
      "WARNING:absl:Found untraced functions such as gru_cell_1_layer_call_fn, gru_cell_1_layer_call_and_return_conditional_losses, gru_cell_2_layer_call_fn, gru_cell_2_layer_call_and_return_conditional_losses, gru_cell_4_layer_call_fn while saving (showing 5 of 24). These functions will not be directly callable after loading.\n"
     ]
    },
    {
     "name": "stdout",
     "output_type": "stream",
     "text": [
      "INFO:tensorflow:Assets written to: ./logs/final_training/top_2/model/best_V/assets\n"
     ]
    },
    {
     "name": "stderr",
     "output_type": "stream",
     "text": [
      "INFO:tensorflow:Assets written to: ./logs/final_training/top_2/model/best_V/assets\n",
      "WARNING:absl:Found untraced functions such as gru_cell_1_layer_call_fn, gru_cell_1_layer_call_and_return_conditional_losses, gru_cell_2_layer_call_fn, gru_cell_2_layer_call_and_return_conditional_losses, gru_cell_4_layer_call_fn while saving (showing 5 of 24). These functions will not be directly callable after loading.\n"
     ]
    },
    {
     "name": "stdout",
     "output_type": "stream",
     "text": [
      "INFO:tensorflow:Assets written to: ./logs/final_training/top_2/model/best_J/assets\n"
     ]
    },
    {
     "name": "stderr",
     "output_type": "stream",
     "text": [
      "INFO:tensorflow:Assets written to: ./logs/final_training/top_2/model/best_J/assets\n",
      "WARNING:absl:Found untraced functions such as gru_cell_1_layer_call_fn, gru_cell_1_layer_call_and_return_conditional_losses, gru_cell_2_layer_call_fn, gru_cell_2_layer_call_and_return_conditional_losses, gru_cell_4_layer_call_fn while saving (showing 5 of 24). These functions will not be directly callable after loading.\n"
     ]
    },
    {
     "name": "stdout",
     "output_type": "stream",
     "text": [
      "INFO:tensorflow:Assets written to: ./logs/final_training/top_2/model/best_V/assets\n"
     ]
    },
    {
     "name": "stderr",
     "output_type": "stream",
     "text": [
      "INFO:tensorflow:Assets written to: ./logs/final_training/top_2/model/best_V/assets\n",
      "WARNING:absl:Found untraced functions such as gru_cell_1_layer_call_fn, gru_cell_1_layer_call_and_return_conditional_losses, gru_cell_2_layer_call_fn, gru_cell_2_layer_call_and_return_conditional_losses, gru_cell_4_layer_call_fn while saving (showing 5 of 24). These functions will not be directly callable after loading.\n"
     ]
    },
    {
     "name": "stdout",
     "output_type": "stream",
     "text": [
      "INFO:tensorflow:Assets written to: ./logs/final_training/top_2/model/best_D/assets\n"
     ]
    },
    {
     "name": "stderr",
     "output_type": "stream",
     "text": [
      "INFO:tensorflow:Assets written to: ./logs/final_training/top_2/model/best_D/assets\n",
      "WARNING:absl:Found untraced functions such as gru_cell_1_layer_call_fn, gru_cell_1_layer_call_and_return_conditional_losses, gru_cell_2_layer_call_fn, gru_cell_2_layer_call_and_return_conditional_losses, gru_cell_4_layer_call_fn while saving (showing 5 of 24). These functions will not be directly callable after loading.\n"
     ]
    },
    {
     "name": "stdout",
     "output_type": "stream",
     "text": [
      "INFO:tensorflow:Assets written to: ./logs/final_training/top_2/model/best_D/assets\n"
     ]
    },
    {
     "name": "stderr",
     "output_type": "stream",
     "text": [
      "INFO:tensorflow:Assets written to: ./logs/final_training/top_2/model/best_D/assets\n",
      "WARNING:absl:Found untraced functions such as gru_cell_1_layer_call_fn, gru_cell_1_layer_call_and_return_conditional_losses, gru_cell_2_layer_call_fn, gru_cell_2_layer_call_and_return_conditional_losses, gru_cell_4_layer_call_fn while saving (showing 5 of 24). These functions will not be directly callable after loading.\n"
     ]
    },
    {
     "name": "stdout",
     "output_type": "stream",
     "text": [
      "INFO:tensorflow:Assets written to: ./logs/final_training/top_2/model/best_V/assets\n"
     ]
    },
    {
     "name": "stderr",
     "output_type": "stream",
     "text": [
      "INFO:tensorflow:Assets written to: ./logs/final_training/top_2/model/best_V/assets\n",
      "WARNING:absl:Found untraced functions such as gru_cell_1_layer_call_fn, gru_cell_1_layer_call_and_return_conditional_losses, gru_cell_2_layer_call_fn, gru_cell_2_layer_call_and_return_conditional_losses, gru_cell_4_layer_call_fn while saving (showing 5 of 24). These functions will not be directly callable after loading.\n"
     ]
    },
    {
     "name": "stdout",
     "output_type": "stream",
     "text": [
      "INFO:tensorflow:Assets written to: ./logs/final_training/top_2/model/best_V/assets\n"
     ]
    },
    {
     "name": "stderr",
     "output_type": "stream",
     "text": [
      "INFO:tensorflow:Assets written to: ./logs/final_training/top_2/model/best_V/assets\n",
      "WARNING:absl:Found untraced functions such as gru_cell_1_layer_call_fn, gru_cell_1_layer_call_and_return_conditional_losses, gru_cell_2_layer_call_fn, gru_cell_2_layer_call_and_return_conditional_losses, gru_cell_4_layer_call_fn while saving (showing 5 of 24). These functions will not be directly callable after loading.\n"
     ]
    },
    {
     "name": "stdout",
     "output_type": "stream",
     "text": [
      "INFO:tensorflow:Assets written to: ./logs/final_training/top_2/model/best_J/assets\n"
     ]
    },
    {
     "name": "stderr",
     "output_type": "stream",
     "text": [
      "INFO:tensorflow:Assets written to: ./logs/final_training/top_2/model/best_J/assets\n",
      "WARNING:absl:Found untraced functions such as gru_cell_1_layer_call_fn, gru_cell_1_layer_call_and_return_conditional_losses, gru_cell_2_layer_call_fn, gru_cell_2_layer_call_and_return_conditional_losses, gru_cell_4_layer_call_fn while saving (showing 5 of 24). These functions will not be directly callable after loading.\n"
     ]
    },
    {
     "name": "stdout",
     "output_type": "stream",
     "text": [
      "INFO:tensorflow:Assets written to: ./logs/final_training/top_2/model/best_V/assets\n"
     ]
    },
    {
     "name": "stderr",
     "output_type": "stream",
     "text": [
      "INFO:tensorflow:Assets written to: ./logs/final_training/top_2/model/best_V/assets\n",
      "WARNING:absl:Found untraced functions such as gru_cell_1_layer_call_fn, gru_cell_1_layer_call_and_return_conditional_losses, gru_cell_2_layer_call_fn, gru_cell_2_layer_call_and_return_conditional_losses, gru_cell_4_layer_call_fn while saving (showing 5 of 24). These functions will not be directly callable after loading.\n"
     ]
    },
    {
     "name": "stdout",
     "output_type": "stream",
     "text": [
      "INFO:tensorflow:Assets written to: ./logs/final_training/top_2/model/best_D/assets\n"
     ]
    },
    {
     "name": "stderr",
     "output_type": "stream",
     "text": [
      "INFO:tensorflow:Assets written to: ./logs/final_training/top_2/model/best_D/assets\n",
      "WARNING:absl:Found untraced functions such as gru_cell_1_layer_call_fn, gru_cell_1_layer_call_and_return_conditional_losses, gru_cell_2_layer_call_fn, gru_cell_2_layer_call_and_return_conditional_losses, gru_cell_4_layer_call_fn while saving (showing 5 of 24). These functions will not be directly callable after loading.\n"
     ]
    },
    {
     "name": "stdout",
     "output_type": "stream",
     "text": [
      "INFO:tensorflow:Assets written to: ./logs/final_training/top_2/model/best_J/assets\n"
     ]
    },
    {
     "name": "stderr",
     "output_type": "stream",
     "text": [
      "INFO:tensorflow:Assets written to: ./logs/final_training/top_2/model/best_J/assets\n",
      "WARNING:absl:Found untraced functions such as gru_cell_1_layer_call_fn, gru_cell_1_layer_call_and_return_conditional_losses, gru_cell_2_layer_call_fn, gru_cell_2_layer_call_and_return_conditional_losses, gru_cell_4_layer_call_fn while saving (showing 5 of 24). These functions will not be directly callable after loading.\n"
     ]
    },
    {
     "name": "stdout",
     "output_type": "stream",
     "text": [
      "INFO:tensorflow:Assets written to: ./logs/final_training/top_2/model/best_V/assets\n"
     ]
    },
    {
     "name": "stderr",
     "output_type": "stream",
     "text": [
      "INFO:tensorflow:Assets written to: ./logs/final_training/top_2/model/best_V/assets\n",
      "WARNING:absl:Found untraced functions such as gru_cell_1_layer_call_fn, gru_cell_1_layer_call_and_return_conditional_losses, gru_cell_2_layer_call_fn, gru_cell_2_layer_call_and_return_conditional_losses, gru_cell_4_layer_call_fn while saving (showing 5 of 24). These functions will not be directly callable after loading.\n"
     ]
    },
    {
     "name": "stdout",
     "output_type": "stream",
     "text": [
      "INFO:tensorflow:Assets written to: ./logs/final_training/top_2/model/best_V/assets\n"
     ]
    },
    {
     "name": "stderr",
     "output_type": "stream",
     "text": [
      "INFO:tensorflow:Assets written to: ./logs/final_training/top_2/model/best_V/assets\n",
      "WARNING:absl:Found untraced functions such as gru_cell_1_layer_call_fn, gru_cell_1_layer_call_and_return_conditional_losses, gru_cell_2_layer_call_fn, gru_cell_2_layer_call_and_return_conditional_losses, gru_cell_4_layer_call_fn while saving (showing 5 of 24). These functions will not be directly callable after loading.\n"
     ]
    },
    {
     "name": "stdout",
     "output_type": "stream",
     "text": [
      "INFO:tensorflow:Assets written to: ./logs/final_training/top_2/model/best_D/assets\n"
     ]
    },
    {
     "name": "stderr",
     "output_type": "stream",
     "text": [
      "INFO:tensorflow:Assets written to: ./logs/final_training/top_2/model/best_D/assets\n",
      "WARNING:absl:Found untraced functions such as gru_cell_1_layer_call_fn, gru_cell_1_layer_call_and_return_conditional_losses, gru_cell_2_layer_call_fn, gru_cell_2_layer_call_and_return_conditional_losses, gru_cell_4_layer_call_fn while saving (showing 5 of 24). These functions will not be directly callable after loading.\n"
     ]
    },
    {
     "name": "stdout",
     "output_type": "stream",
     "text": [
      "INFO:tensorflow:Assets written to: ./logs/final_training/top_2/model/best_J/assets\n"
     ]
    },
    {
     "name": "stderr",
     "output_type": "stream",
     "text": [
      "INFO:tensorflow:Assets written to: ./logs/final_training/top_2/model/best_J/assets\n",
      "WARNING:absl:Found untraced functions such as gru_cell_1_layer_call_fn, gru_cell_1_layer_call_and_return_conditional_losses, gru_cell_2_layer_call_fn, gru_cell_2_layer_call_and_return_conditional_losses, gru_cell_4_layer_call_fn while saving (showing 5 of 24). These functions will not be directly callable after loading.\n"
     ]
    },
    {
     "name": "stdout",
     "output_type": "stream",
     "text": [
      "INFO:tensorflow:Assets written to: ./logs/final_training/top_2/model/best_V/assets\n"
     ]
    },
    {
     "name": "stderr",
     "output_type": "stream",
     "text": [
      "INFO:tensorflow:Assets written to: ./logs/final_training/top_2/model/best_V/assets\n",
      "WARNING:absl:Found untraced functions such as gru_cell_1_layer_call_fn, gru_cell_1_layer_call_and_return_conditional_losses, gru_cell_2_layer_call_fn, gru_cell_2_layer_call_and_return_conditional_losses, gru_cell_4_layer_call_fn while saving (showing 5 of 24). These functions will not be directly callable after loading.\n"
     ]
    },
    {
     "name": "stdout",
     "output_type": "stream",
     "text": [
      "INFO:tensorflow:Assets written to: ./logs/final_training/top_2/model/best_J/assets\n"
     ]
    },
    {
     "name": "stderr",
     "output_type": "stream",
     "text": [
      "INFO:tensorflow:Assets written to: ./logs/final_training/top_2/model/best_J/assets\n",
      "WARNING:absl:Found untraced functions such as gru_cell_1_layer_call_fn, gru_cell_1_layer_call_and_return_conditional_losses, gru_cell_2_layer_call_fn, gru_cell_2_layer_call_and_return_conditional_losses, gru_cell_4_layer_call_fn while saving (showing 5 of 24). These functions will not be directly callable after loading.\n"
     ]
    },
    {
     "name": "stdout",
     "output_type": "stream",
     "text": [
      "INFO:tensorflow:Assets written to: ./logs/final_training/top_2/model/best_J/assets\n"
     ]
    },
    {
     "name": "stderr",
     "output_type": "stream",
     "text": [
      "INFO:tensorflow:Assets written to: ./logs/final_training/top_2/model/best_J/assets\n",
      "WARNING:absl:Found untraced functions such as gru_cell_1_layer_call_fn, gru_cell_1_layer_call_and_return_conditional_losses, gru_cell_2_layer_call_fn, gru_cell_2_layer_call_and_return_conditional_losses, gru_cell_4_layer_call_fn while saving (showing 5 of 24). These functions will not be directly callable after loading.\n"
     ]
    },
    {
     "name": "stdout",
     "output_type": "stream",
     "text": [
      "INFO:tensorflow:Assets written to: ./logs/final_training/top_2/model/best_J/assets\n"
     ]
    },
    {
     "name": "stderr",
     "output_type": "stream",
     "text": [
      "INFO:tensorflow:Assets written to: ./logs/final_training/top_2/model/best_J/assets\n",
      "WARNING:absl:Found untraced functions such as gru_cell_1_layer_call_fn, gru_cell_1_layer_call_and_return_conditional_losses, gru_cell_2_layer_call_fn, gru_cell_2_layer_call_and_return_conditional_losses, gru_cell_4_layer_call_fn while saving (showing 5 of 24). These functions will not be directly callable after loading.\n"
     ]
    },
    {
     "name": "stdout",
     "output_type": "stream",
     "text": [
      "INFO:tensorflow:Assets written to: ./logs/final_training/top_2/model/best_J/assets\n"
     ]
    },
    {
     "name": "stderr",
     "output_type": "stream",
     "text": [
      "INFO:tensorflow:Assets written to: ./logs/final_training/top_2/model/best_J/assets\n",
      "WARNING:absl:Found untraced functions such as gru_cell_1_layer_call_fn, gru_cell_1_layer_call_and_return_conditional_losses, gru_cell_2_layer_call_fn, gru_cell_2_layer_call_and_return_conditional_losses, gru_cell_4_layer_call_fn while saving (showing 5 of 24). These functions will not be directly callable after loading.\n"
     ]
    },
    {
     "name": "stdout",
     "output_type": "stream",
     "text": [
      "INFO:tensorflow:Assets written to: ./logs/final_training/top_2/model/best_J/assets\n"
     ]
    },
    {
     "name": "stderr",
     "output_type": "stream",
     "text": [
      "INFO:tensorflow:Assets written to: ./logs/final_training/top_2/model/best_J/assets\n",
      "WARNING:absl:Found untraced functions such as gru_cell_1_layer_call_fn, gru_cell_1_layer_call_and_return_conditional_losses, gru_cell_2_layer_call_fn, gru_cell_2_layer_call_and_return_conditional_losses, gru_cell_4_layer_call_fn while saving (showing 5 of 24). These functions will not be directly callable after loading.\n"
     ]
    },
    {
     "name": "stdout",
     "output_type": "stream",
     "text": [
      "INFO:tensorflow:Assets written to: ./logs/final_training/top_2/model/best_V/assets\n"
     ]
    },
    {
     "name": "stderr",
     "output_type": "stream",
     "text": [
      "INFO:tensorflow:Assets written to: ./logs/final_training/top_2/model/best_V/assets\n",
      "WARNING:absl:Found untraced functions such as gru_cell_1_layer_call_fn, gru_cell_1_layer_call_and_return_conditional_losses, gru_cell_2_layer_call_fn, gru_cell_2_layer_call_and_return_conditional_losses, gru_cell_4_layer_call_fn while saving (showing 5 of 24). These functions will not be directly callable after loading.\n"
     ]
    },
    {
     "name": "stdout",
     "output_type": "stream",
     "text": [
      "INFO:tensorflow:Assets written to: ./logs/final_training/top_2/model/best_V/assets\n"
     ]
    },
    {
     "name": "stderr",
     "output_type": "stream",
     "text": [
      "INFO:tensorflow:Assets written to: ./logs/final_training/top_2/model/best_V/assets\n",
      "WARNING:absl:Found untraced functions such as gru_cell_1_layer_call_fn, gru_cell_1_layer_call_and_return_conditional_losses, gru_cell_2_layer_call_fn, gru_cell_2_layer_call_and_return_conditional_losses, gru_cell_4_layer_call_fn while saving (showing 5 of 24). These functions will not be directly callable after loading.\n"
     ]
    },
    {
     "name": "stdout",
     "output_type": "stream",
     "text": [
      "INFO:tensorflow:Assets written to: ./logs/final_training/top_2/model/best_V/assets\n"
     ]
    },
    {
     "name": "stderr",
     "output_type": "stream",
     "text": [
      "INFO:tensorflow:Assets written to: ./logs/final_training/top_2/model/best_V/assets\n",
      "WARNING:absl:Found untraced functions such as gru_cell_1_layer_call_fn, gru_cell_1_layer_call_and_return_conditional_losses, gru_cell_2_layer_call_fn, gru_cell_2_layer_call_and_return_conditional_losses, gru_cell_4_layer_call_fn while saving (showing 5 of 24). These functions will not be directly callable after loading.\n"
     ]
    },
    {
     "name": "stdout",
     "output_type": "stream",
     "text": [
      "INFO:tensorflow:Assets written to: ./logs/final_training/top_2/model/best_V/assets\n"
     ]
    },
    {
     "name": "stderr",
     "output_type": "stream",
     "text": [
      "INFO:tensorflow:Assets written to: ./logs/final_training/top_2/model/best_V/assets\n",
      "WARNING:absl:Found untraced functions such as gru_cell_1_layer_call_fn, gru_cell_1_layer_call_and_return_conditional_losses, gru_cell_2_layer_call_fn, gru_cell_2_layer_call_and_return_conditional_losses, gru_cell_4_layer_call_fn while saving (showing 5 of 24). These functions will not be directly callable after loading.\n"
     ]
    },
    {
     "name": "stdout",
     "output_type": "stream",
     "text": [
      "INFO:tensorflow:Assets written to: ./logs/final_training/top_2/model/best_V/assets\n"
     ]
    },
    {
     "name": "stderr",
     "output_type": "stream",
     "text": [
      "INFO:tensorflow:Assets written to: ./logs/final_training/top_2/model/best_V/assets\n",
      "WARNING:absl:Found untraced functions such as gru_cell_1_layer_call_fn, gru_cell_1_layer_call_and_return_conditional_losses, gru_cell_2_layer_call_fn, gru_cell_2_layer_call_and_return_conditional_losses, gru_cell_4_layer_call_fn while saving (showing 5 of 24). These functions will not be directly callable after loading.\n"
     ]
    },
    {
     "name": "stdout",
     "output_type": "stream",
     "text": [
      "INFO:tensorflow:Assets written to: ./logs/final_training/top_2/model/best_J/assets\n"
     ]
    },
    {
     "name": "stderr",
     "output_type": "stream",
     "text": [
      "INFO:tensorflow:Assets written to: ./logs/final_training/top_2/model/best_J/assets\n",
      "WARNING:absl:Found untraced functions such as gru_cell_1_layer_call_fn, gru_cell_1_layer_call_and_return_conditional_losses, gru_cell_2_layer_call_fn, gru_cell_2_layer_call_and_return_conditional_losses, gru_cell_4_layer_call_fn while saving (showing 5 of 24). These functions will not be directly callable after loading.\n"
     ]
    },
    {
     "name": "stdout",
     "output_type": "stream",
     "text": [
      "INFO:tensorflow:Assets written to: ./logs/final_training/top_2/model/best_J/assets\n"
     ]
    },
    {
     "name": "stderr",
     "output_type": "stream",
     "text": [
      "INFO:tensorflow:Assets written to: ./logs/final_training/top_2/model/best_J/assets\n",
      "WARNING:absl:Found untraced functions such as gru_cell_1_layer_call_fn, gru_cell_1_layer_call_and_return_conditional_losses, gru_cell_2_layer_call_fn, gru_cell_2_layer_call_and_return_conditional_losses, gru_cell_4_layer_call_fn while saving (showing 5 of 24). These functions will not be directly callable after loading.\n"
     ]
    },
    {
     "name": "stdout",
     "output_type": "stream",
     "text": [
      "INFO:tensorflow:Assets written to: ./logs/final_training/top_2/model/best_V/assets\n"
     ]
    },
    {
     "name": "stderr",
     "output_type": "stream",
     "text": [
      "INFO:tensorflow:Assets written to: ./logs/final_training/top_2/model/best_V/assets\n"
     ]
    },
    {
     "name": "stdout",
     "output_type": "stream",
     "text": [
      "top 3 training\n"
     ]
    },
    {
     "name": "stderr",
     "output_type": "stream",
     "text": [
      "WARNING:absl:Found untraced functions such as gru_cell_1_layer_call_fn, gru_cell_1_layer_call_and_return_conditional_losses, gru_cell_2_layer_call_fn, gru_cell_2_layer_call_and_return_conditional_losses, gru_cell_4_layer_call_fn while saving (showing 5 of 32). These functions will not be directly callable after loading.\n"
     ]
    },
    {
     "name": "stdout",
     "output_type": "stream",
     "text": [
      "INFO:tensorflow:Assets written to: ./logs/final_training/top_3/model/best_V/assets\n"
     ]
    },
    {
     "name": "stderr",
     "output_type": "stream",
     "text": [
      "INFO:tensorflow:Assets written to: ./logs/final_training/top_3/model/best_V/assets\n",
      "WARNING:absl:Found untraced functions such as gru_cell_1_layer_call_fn, gru_cell_1_layer_call_and_return_conditional_losses, gru_cell_2_layer_call_fn, gru_cell_2_layer_call_and_return_conditional_losses, gru_cell_4_layer_call_fn while saving (showing 5 of 32). These functions will not be directly callable after loading.\n"
     ]
    },
    {
     "name": "stdout",
     "output_type": "stream",
     "text": [
      "INFO:tensorflow:Assets written to: ./logs/final_training/top_3/model/best_D/assets\n"
     ]
    },
    {
     "name": "stderr",
     "output_type": "stream",
     "text": [
      "INFO:tensorflow:Assets written to: ./logs/final_training/top_3/model/best_D/assets\n",
      "WARNING:absl:Found untraced functions such as gru_cell_1_layer_call_fn, gru_cell_1_layer_call_and_return_conditional_losses, gru_cell_2_layer_call_fn, gru_cell_2_layer_call_and_return_conditional_losses, gru_cell_4_layer_call_fn while saving (showing 5 of 32). These functions will not be directly callable after loading.\n"
     ]
    },
    {
     "name": "stdout",
     "output_type": "stream",
     "text": [
      "INFO:tensorflow:Assets written to: ./logs/final_training/top_3/model/best_J/assets\n"
     ]
    },
    {
     "name": "stderr",
     "output_type": "stream",
     "text": [
      "INFO:tensorflow:Assets written to: ./logs/final_training/top_3/model/best_J/assets\n"
     ]
    },
    {
     "name": "stdout",
     "output_type": "stream",
     "text": [
      "Epoch 11: early stopping\n"
     ]
    }
   ],
   "source": [
    "main_logdir = \"./logs/final_training\"\n",
    "best_hps = tuner.get_best_hyperparameters(n_top)\n",
    "best_models = tuner.get_best_models(n_top)\n",
    "history_list = []\n",
    "for i, hp, model in zip(range(n_top), best_hps, best_models):\n",
    "    print(f\"top {i+1} training\")\n",
    "    logdir = main_logdir + f\"/top_{i+1}\"\n",
    "    tensorboard_cb = keras.callbacks.TensorBoard(\n",
    "        logdir, \n",
    "        histogram_freq=10,\n",
    "        write_graph=False\n",
    "    )\n",
    "    early_stop_cb = keras.callbacks.EarlyStopping(\n",
    "        monitor=\"loss\",\n",
    "        patience=10,\n",
    "        verbose=1,\n",
    "        mode=\"min\"\n",
    "    )\n",
    "    print_lr_cb = PrintLearningRate()\n",
    "    cb_list = [\n",
    "        tensorboard_cb, \n",
    "        # print_lr_cb,\n",
    "        early_stop_cb\n",
    "    ]\n",
    "    for seg in \"VDJ\":\n",
    "        save_model_cb = keras.callbacks.ModelCheckpoint(\n",
    "            logdir + f\"/model/best_{seg}\",\n",
    "            monitor=f\"val_{seg}_s_rmse\",\n",
    "            verbose=0,\n",
    "            save_best_only=True,\n",
    "            save_weights_only=False,\n",
    "            mode=\"min\",\n",
    "            save_freq=\"epoch\"\n",
    "        )\n",
    "        cb_list.append(save_model_cb)\n",
    "    history = final_train(hp, model, ds_train, ds_valid, SEED, epochs=150, verbose=0, callbacks=cb_list)\n",
    "    history_list.append(history)"
   ]
  },
  {
   "cell_type": "code",
   "execution_count": 27,
   "id": "cc1b89eb-1a7e-4369-887a-ba6151ba6fad",
   "metadata": {
    "tags": []
   },
   "outputs": [],
   "source": [
    "for i, history in zip(range(n_top), history_list):\n",
    "    df_history = pd.DataFrame(history.history)\n",
    "    df_history.to_csv(main_logdir + f\"/top_{i+1}.tsv\", sep=\"\\t\")"
   ]
  }
 ],
 "metadata": {
  "kernelspec": {
   "display_name": "tf210",
   "language": "python",
   "name": "tf210"
  },
  "language_info": {
   "codemirror_mode": {
    "name": "ipython",
    "version": 3
   },
   "file_extension": ".py",
   "mimetype": "text/x-python",
   "name": "python",
   "nbconvert_exporter": "python",
   "pygments_lexer": "ipython3",
   "version": "3.10.8"
  }
 },
 "nbformat": 4,
 "nbformat_minor": 5
}
