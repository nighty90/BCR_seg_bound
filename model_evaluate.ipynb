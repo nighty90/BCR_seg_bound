{
 "cells": [
  {
   "cell_type": "markdown",
   "id": "7e5652e8-1f1a-411c-a2f1-c1ef2d93c55a",
   "metadata": {
    "tags": []
   },
   "source": [
    "### Import and global config"
   ]
  },
  {
   "cell_type": "code",
   "execution_count": 1,
   "id": "943ef651-7fe0-492c-89a9-f665efcc2a0b",
   "metadata": {
    "tags": []
   },
   "outputs": [
    {
     "name": "stdout",
     "output_type": "stream",
     "text": [
      "env: TF_CPP_MIN_LOG_LEVEL=2\n"
     ]
    }
   ],
   "source": [
    "%env TF_CPP_MIN_LOG_LEVEL=2"
   ]
  },
  {
   "cell_type": "code",
   "execution_count": 74,
   "id": "9a6af7db-52e6-46d4-806c-96981841fa31",
   "metadata": {
    "tags": []
   },
   "outputs": [],
   "source": [
    "from datetime import datetime\n",
    "from itertools import product\n",
    "import re\n",
    "import json\n",
    "import math\n",
    "import pandas as pd\n",
    "import numpy as np\n",
    "import tensorflow as tf\n",
    "from tensorflow import keras\n",
    "from tensorflow.data import Dataset\n",
    "from tensorflow.keras import backend\n",
    "import sklearn.metrics as sk_metrics"
   ]
  },
  {
   "cell_type": "code",
   "execution_count": 4,
   "id": "68c5f770-0386-4422-b6e7-ad8fa3dc9ef8",
   "metadata": {
    "tags": []
   },
   "outputs": [
    {
     "name": "stdout",
     "output_type": "stream",
     "text": [
      "Enable VRAM growth\n"
     ]
    }
   ],
   "source": [
    "def check_and_set_gpu():\n",
    "    gpu_list = tf.config.list_physical_devices('GPU')\n",
    "    if len(gpu_list) == 0:\n",
    "        print(\"No available GPU!\")\n",
    "    else:\n",
    "        try:\n",
    "            tf.config.experimental.set_memory_growth(gpu_list[0], True)\n",
    "            print(\"Enable VRAM growth\")\n",
    "        except e:\n",
    "            print(e)\n",
    "check_and_set_gpu()"
   ]
  },
  {
   "cell_type": "code",
   "execution_count": 5,
   "id": "3d8bfa5c-8ab2-419e-ac83-e6cd3c5037ed",
   "metadata": {},
   "outputs": [],
   "source": [
    "# for reproducibility\n",
    "SEED = 42\n",
    "keras.utils.set_random_seed(SEED)\n",
    "tf.config.experimental.enable_op_determinism()\n",
    "\n",
    "# for network debugging\n",
    "# tf.debugging.enable_check_numerics()\n",
    "# tf.debugging.experimental.enable_dump_debug_info(  #  incompatible with enable_op_determinism()\n",
    "#     f\"./logs/tfdbg2_logdir\",\n",
    "#     tensor_debug_mode=\"FULL_HEALTH\",\n",
    "#     circular_buffer_size=-1\n",
    "# )"
   ]
  },
  {
   "cell_type": "markdown",
   "id": "d92a2ca6-d645-48db-b8ee-0867f99257ca",
   "metadata": {},
   "source": [
    "### load data"
   ]
  },
  {
   "cell_type": "code",
   "execution_count": 6,
   "id": "1ed16530-65c3-4aa3-acec-66fbe0d5aa84",
   "metadata": {
    "tags": []
   },
   "outputs": [
    {
     "data": {
      "text/html": [
       "<div>\n",
       "<style scoped>\n",
       "    .dataframe tbody tr th:only-of-type {\n",
       "        vertical-align: middle;\n",
       "    }\n",
       "\n",
       "    .dataframe tbody tr th {\n",
       "        vertical-align: top;\n",
       "    }\n",
       "\n",
       "    .dataframe thead th {\n",
       "        text-align: right;\n",
       "    }\n",
       "</style>\n",
       "<table border=\"1\" class=\"dataframe\">\n",
       "  <thead>\n",
       "    <tr style=\"text-align: right;\">\n",
       "      <th></th>\n",
       "      <th>sequence_id</th>\n",
       "      <th>sequence</th>\n",
       "      <th>productive</th>\n",
       "      <th>stop_codon</th>\n",
       "      <th>vj_in_frame</th>\n",
       "      <th>v_call</th>\n",
       "      <th>d_call</th>\n",
       "      <th>j_call</th>\n",
       "      <th>junction</th>\n",
       "      <th>junction_aa</th>\n",
       "      <th>...</th>\n",
       "      <th>d_sequence_start</th>\n",
       "      <th>d_sequence_end</th>\n",
       "      <th>j_sequence_start</th>\n",
       "      <th>j_sequence_end</th>\n",
       "      <th>shm_events</th>\n",
       "      <th>shm_count</th>\n",
       "      <th>shm_freq</th>\n",
       "      <th>unmutated_sequence</th>\n",
       "      <th>gapped_unmutated_sequence</th>\n",
       "      <th>gapped_mutated_sequence</th>\n",
       "    </tr>\n",
       "  </thead>\n",
       "  <tbody>\n",
       "    <tr>\n",
       "      <th>0</th>\n",
       "      <td>0</td>\n",
       "      <td>CAGGTGCAGCTGCGGGAGTCGGGCCCAGGGCTGGTGAAGCCTTTGG...</td>\n",
       "      <td>T</td>\n",
       "      <td>T</td>\n",
       "      <td>F</td>\n",
       "      <td>IGHV4-61*08</td>\n",
       "      <td>IGHD3-3*02</td>\n",
       "      <td>IGHJ4*01</td>\n",
       "      <td>TGCGCGAGGCCGCCAGGTGTATCAGCATTTAGGAGGACACCCGCTT...</td>\n",
       "      <td>CARPPGVSAFRRTPAWDFDPW</td>\n",
       "      <td>...</td>\n",
       "      <td>307</td>\n",
       "      <td>318</td>\n",
       "      <td>338</td>\n",
       "      <td>382</td>\n",
       "      <td>14:A&gt;G,30:A&gt;G,44:C&gt;T,68:C&gt;A,84:C&gt;T,89:G&gt;C,90:C...</td>\n",
       "      <td>28</td>\n",
       "      <td>0.073298</td>\n",
       "      <td>CAGGTGCAGCTGCAGGAGTCGGGCCCAGGACTGGTGAAGCCTTCGG...</td>\n",
       "      <td>CAGGTGCAGCTGCAGGAGTCGGGCCCA...GGACTGGTGAAGCCTT...</td>\n",
       "      <td>CAGGTGCAGCTGCGGGAGTCGGGCCCA...GGGCTGGTGAAGCCTT...</td>\n",
       "    </tr>\n",
       "    <tr>\n",
       "      <th>1</th>\n",
       "      <td>1</td>\n",
       "      <td>CAGGTCACTTTGAGGGAGTCTGGTCCTGCGCTGGTGAAACCCACAC...</td>\n",
       "      <td>T</td>\n",
       "      <td>T</td>\n",
       "      <td>F</td>\n",
       "      <td>IGHV2-70*19</td>\n",
       "      <td>IGHD2-8*02</td>\n",
       "      <td>IGHJ4*01</td>\n",
       "      <td>TGTGCACGGGGGCATGTCCACGATAGGGTCTTTCCGAGAGTTGACT...</td>\n",
       "      <td>CARGHVHDRVFPRVDFW</td>\n",
       "      <td>...</td>\n",
       "      <td>310</td>\n",
       "      <td>313</td>\n",
       "      <td>329</td>\n",
       "      <td>370</td>\n",
       "      <td>9:C&gt;T,72:C&gt;T,82:T&gt;C,85:C&gt;A,88:A&gt;T,100:A&gt;G,105:...</td>\n",
       "      <td>20</td>\n",
       "      <td>0.054054</td>\n",
       "      <td>CAGGTCACCTTGAGGGAGTCTGGTCCTGCGCTGGTGAAACCCACAC...</td>\n",
       "      <td>CAGGTCACCTTGAGGGAGTCTGGTCCT...GCGCTGGTGAAACCCA...</td>\n",
       "      <td>CAGGTCACTTTGAGGGAGTCTGGTCCT...GCGCTGGTGAAACCCA...</td>\n",
       "    </tr>\n",
       "    <tr>\n",
       "      <th>2</th>\n",
       "      <td>2</td>\n",
       "      <td>GAGGTGCAGCTCCCGGAGTCTGGGGGCGGCCTGGTACAGCCTGGGG...</td>\n",
       "      <td>T</td>\n",
       "      <td>T</td>\n",
       "      <td>F</td>\n",
       "      <td>IGHV3-23*03</td>\n",
       "      <td>IGHD5-24*01</td>\n",
       "      <td>IGHJ4*01</td>\n",
       "      <td>TGTGCGAGAGACGGAAAAAAGAGACCCGACTGG</td>\n",
       "      <td>CARDGKKRPDW</td>\n",
       "      <td>...</td>\n",
       "      <td>305</td>\n",
       "      <td>309</td>\n",
       "      <td>314</td>\n",
       "      <td>349</td>\n",
       "      <td>12:G&gt;C,13:T&gt;C,14:T&gt;C,27:A&gt;C,31:T&gt;C,71:C&gt;T,90:C...</td>\n",
       "      <td>34</td>\n",
       "      <td>0.097421</td>\n",
       "      <td>GAGGTGCAGCTGTTGGAGTCTGGGGGAGGCTTGGTACAGCCTGGGG...</td>\n",
       "      <td>GAGGTGCAGCTGTTGGAGTCTGGGGGA...GGCTTGGTACAGCCTG...</td>\n",
       "      <td>GAGGTGCAGCTCCCGGAGTCTGGGGGC...GGCCTGGTACAGCCTG...</td>\n",
       "    </tr>\n",
       "    <tr>\n",
       "      <th>3</th>\n",
       "      <td>3</td>\n",
       "      <td>CAGGTGCAGCTGGTGGAGTCTGGGGGAGGCGTGGACCAGCCTGGGA...</td>\n",
       "      <td>T</td>\n",
       "      <td>T</td>\n",
       "      <td>F</td>\n",
       "      <td>IGHV3-33*05</td>\n",
       "      <td>IGHD3/OR15-3a*01</td>\n",
       "      <td>IGHJ4*01</td>\n",
       "      <td>TGTGCGAGAGACAAAAATTTGGGACTGGCCGGGAACTTCTTTGACT...</td>\n",
       "      <td>CARDKNLGLAGNFFDYW</td>\n",
       "      <td>...</td>\n",
       "      <td>304</td>\n",
       "      <td>313</td>\n",
       "      <td>326</td>\n",
       "      <td>367</td>\n",
       "      <td>35:T&gt;A,72:G&gt;T,92:G&gt;C,98:G&gt;A,132:G&gt;A,151:A&gt;T,15...</td>\n",
       "      <td>17</td>\n",
       "      <td>0.046322</td>\n",
       "      <td>CAGGTGCAGCTGGTGGAGTCTGGGGGAGGCGTGGTCCAGCCTGGGA...</td>\n",
       "      <td>CAGGTGCAGCTGGTGGAGTCTGGGGGA...GGCGTGGTCCAGCCTG...</td>\n",
       "      <td>CAGGTGCAGCTGGTGGAGTCTGGGGGA...GGCGTGGACCAGCCTG...</td>\n",
       "    </tr>\n",
       "    <tr>\n",
       "      <th>4</th>\n",
       "      <td>4</td>\n",
       "      <td>GAGGTGCAGCTGGTGGAGTCTGGGGGAGGCTTAGTTCAGCCTGGGG...</td>\n",
       "      <td>T</td>\n",
       "      <td>T</td>\n",
       "      <td>F</td>\n",
       "      <td>IGHV3-74*02</td>\n",
       "      <td>IGHD1-26*01</td>\n",
       "      <td>IGHJ4*01</td>\n",
       "      <td>TGTGCAAGACAAGTGGGGGGCAATATCGACCACCTTTCGAAATACT...</td>\n",
       "      <td>CARQVGGNIDHLSKYYW</td>\n",
       "      <td>...</td>\n",
       "      <td>298</td>\n",
       "      <td>301</td>\n",
       "      <td>329</td>\n",
       "      <td>367</td>\n",
       "      <td>89:G&gt;C,93:C&gt;T,97:T&gt;C,119:C&gt;T,138:G&gt;A,147:A&gt;C,1...</td>\n",
       "      <td>14</td>\n",
       "      <td>0.038147</td>\n",
       "      <td>GAGGTGCAGCTGGTGGAGTCTGGGGGAGGCTTAGTTCAGCCTGGGG...</td>\n",
       "      <td>GAGGTGCAGCTGGTGGAGTCTGGGGGA...GGCTTAGTTCAGCCTG...</td>\n",
       "      <td>GAGGTGCAGCTGGTGGAGTCTGGGGGA...GGCTTAGTTCAGCCTG...</td>\n",
       "    </tr>\n",
       "  </tbody>\n",
       "</table>\n",
       "<p>5 rows × 34 columns</p>\n",
       "</div>"
      ],
      "text/plain": [
       "   sequence_id                                           sequence productive  \\\n",
       "0            0  CAGGTGCAGCTGCGGGAGTCGGGCCCAGGGCTGGTGAAGCCTTTGG...          T   \n",
       "1            1  CAGGTCACTTTGAGGGAGTCTGGTCCTGCGCTGGTGAAACCCACAC...          T   \n",
       "2            2  GAGGTGCAGCTCCCGGAGTCTGGGGGCGGCCTGGTACAGCCTGGGG...          T   \n",
       "3            3  CAGGTGCAGCTGGTGGAGTCTGGGGGAGGCGTGGACCAGCCTGGGA...          T   \n",
       "4            4  GAGGTGCAGCTGGTGGAGTCTGGGGGAGGCTTAGTTCAGCCTGGGG...          T   \n",
       "\n",
       "  stop_codon vj_in_frame       v_call            d_call    j_call  \\\n",
       "0          T           F  IGHV4-61*08        IGHD3-3*02  IGHJ4*01   \n",
       "1          T           F  IGHV2-70*19        IGHD2-8*02  IGHJ4*01   \n",
       "2          T           F  IGHV3-23*03       IGHD5-24*01  IGHJ4*01   \n",
       "3          T           F  IGHV3-33*05  IGHD3/OR15-3a*01  IGHJ4*01   \n",
       "4          T           F  IGHV3-74*02       IGHD1-26*01  IGHJ4*01   \n",
       "\n",
       "                                            junction            junction_aa  \\\n",
       "0  TGCGCGAGGCCGCCAGGTGTATCAGCATTTAGGAGGACACCCGCTT...  CARPPGVSAFRRTPAWDFDPW   \n",
       "1  TGTGCACGGGGGCATGTCCACGATAGGGTCTTTCCGAGAGTTGACT...      CARGHVHDRVFPRVDFW   \n",
       "2                  TGTGCGAGAGACGGAAAAAAGAGACCCGACTGG            CARDGKKRPDW   \n",
       "3  TGTGCGAGAGACAAAAATTTGGGACTGGCCGGGAACTTCTTTGACT...      CARDKNLGLAGNFFDYW   \n",
       "4  TGTGCAAGACAAGTGGGGGGCAATATCGACCACCTTTCGAAATACT...      CARQVGGNIDHLSKYYW   \n",
       "\n",
       "   ...  d_sequence_start  d_sequence_end j_sequence_start  j_sequence_end  \\\n",
       "0  ...               307             318              338             382   \n",
       "1  ...               310             313              329             370   \n",
       "2  ...               305             309              314             349   \n",
       "3  ...               304             313              326             367   \n",
       "4  ...               298             301              329             367   \n",
       "\n",
       "                                          shm_events  shm_count  shm_freq  \\\n",
       "0  14:A>G,30:A>G,44:C>T,68:C>A,84:C>T,89:G>C,90:C...         28  0.073298   \n",
       "1  9:C>T,72:C>T,82:T>C,85:C>A,88:A>T,100:A>G,105:...         20  0.054054   \n",
       "2  12:G>C,13:T>C,14:T>C,27:A>C,31:T>C,71:C>T,90:C...         34  0.097421   \n",
       "3  35:T>A,72:G>T,92:G>C,98:G>A,132:G>A,151:A>T,15...         17  0.046322   \n",
       "4  89:G>C,93:C>T,97:T>C,119:C>T,138:G>A,147:A>C,1...         14  0.038147   \n",
       "\n",
       "                                  unmutated_sequence  \\\n",
       "0  CAGGTGCAGCTGCAGGAGTCGGGCCCAGGACTGGTGAAGCCTTCGG...   \n",
       "1  CAGGTCACCTTGAGGGAGTCTGGTCCTGCGCTGGTGAAACCCACAC...   \n",
       "2  GAGGTGCAGCTGTTGGAGTCTGGGGGAGGCTTGGTACAGCCTGGGG...   \n",
       "3  CAGGTGCAGCTGGTGGAGTCTGGGGGAGGCGTGGTCCAGCCTGGGA...   \n",
       "4  GAGGTGCAGCTGGTGGAGTCTGGGGGAGGCTTAGTTCAGCCTGGGG...   \n",
       "\n",
       "                           gapped_unmutated_sequence  \\\n",
       "0  CAGGTGCAGCTGCAGGAGTCGGGCCCA...GGACTGGTGAAGCCTT...   \n",
       "1  CAGGTCACCTTGAGGGAGTCTGGTCCT...GCGCTGGTGAAACCCA...   \n",
       "2  GAGGTGCAGCTGTTGGAGTCTGGGGGA...GGCTTGGTACAGCCTG...   \n",
       "3  CAGGTGCAGCTGGTGGAGTCTGGGGGA...GGCGTGGTCCAGCCTG...   \n",
       "4  GAGGTGCAGCTGGTGGAGTCTGGGGGA...GGCTTAGTTCAGCCTG...   \n",
       "\n",
       "                             gapped_mutated_sequence  \n",
       "0  CAGGTGCAGCTGCGGGAGTCGGGCCCA...GGGCTGGTGAAGCCTT...  \n",
       "1  CAGGTCACTTTGAGGGAGTCTGGTCCT...GCGCTGGTGAAACCCA...  \n",
       "2  GAGGTGCAGCTCCCGGAGTCTGGGGGC...GGCCTGGTACAGCCTG...  \n",
       "3  CAGGTGCAGCTGGTGGAGTCTGGGGGA...GGCGTGGACCAGCCTG...  \n",
       "4  GAGGTGCAGCTGGTGGAGTCTGGGGGA...GGCTTAGTTCAGCCTG...  \n",
       "\n",
       "[5 rows x 34 columns]"
      ]
     },
     "execution_count": 6,
     "metadata": {},
     "output_type": "execute_result"
    }
   ],
   "source": [
    "DATA_PATH = \"./data/airrship_shm_seed42_100_000.tsv\"\n",
    "df_data = pd.read_csv(DATA_PATH, sep=\"\\t\")\n",
    "df_data.head()"
   ]
  },
  {
   "cell_type": "code",
   "execution_count": 7,
   "id": "26ae4531-c3f0-403f-b8b1-5472bd2f3c33",
   "metadata": {
    "tags": []
   },
   "outputs": [
    {
     "data": {
      "text/plain": [
       "True"
      ]
     },
     "metadata": {},
     "output_type": "display_data"
    },
    {
     "data": {
      "text/plain": [
       "v_sequence_start    True\n",
       "v_sequence_end      True\n",
       "d_sequence_start    True\n",
       "d_sequence_end      True\n",
       "j_sequence_start    True\n",
       "j_sequence_end      True\n",
       "dtype: bool"
      ]
     },
     "metadata": {},
     "output_type": "display_data"
    }
   ],
   "source": [
    "pos_names = [f\"{seg}_sequence_{pos}\" for seg in \"vdj\" for pos in (\"start\", \"end\")]\n",
    "sequences = df_data[\"sequence\"]\n",
    "positions = df_data[pos_names]\n",
    "\n",
    "display(sequences.notna().all())\n",
    "display(positions.notna().all())"
   ]
  },
  {
   "cell_type": "code",
   "execution_count": 8,
   "id": "54249d2f-1e4b-478a-98f4-25fbd944aabf",
   "metadata": {
    "tags": []
   },
   "outputs": [
    {
     "data": {
      "text/plain": [
       "(<tf.Tensor: shape=(), dtype=string, numpy=b'CAGGTGCAGCTGCGGGAGTCGGGCCCAGGGCTGGTGAAGCCTTTGGAGACCCTGTCCCTCACCTGCAATGTCTCTGGTGGCTCTGTCACTAGTGGTGGTTACTACTGGAGTTGGGTCCGGCTGACCCCAGGGAAGGGACTGGACTGGATTGGTTTTCTTTATTACAGTGGGAGTACCAATTACAACCCCTCCCTCGAGACTCGAGTCACCATATCAGTAGACACGGCCAAGAACCAGTTCTCTCTGAAGGTGAGCTCTGTGACCGCTGCGGACACGGCCGTGTATTACTGCGCGAGGCCGCCAGGTGTATCAGCATTTAGGAGGACACCCGCTTGGGACTTTGACCCCTGGGGCCATGGAACCCTGGTCACCGTCTCCTCAG'>,\n",
       " <tf.Tensor: shape=(6,), dtype=int64, numpy=array([  1, 296, 307, 318, 338, 382])>)"
      ]
     },
     "metadata": {},
     "output_type": "display_data"
    },
    {
     "data": {
      "text/plain": [
       "100000"
      ]
     },
     "metadata": {},
     "output_type": "display_data"
    }
   ],
   "source": [
    "ds_seq = Dataset.from_tensor_slices(sequences.to_numpy())\n",
    "ds_pos = Dataset.from_tensor_slices(positions.to_numpy())\n",
    "ds_all = Dataset.zip((ds_seq, ds_pos))\n",
    "\n",
    "display(ds_all.take(1).get_single_element())\n",
    "display(ds_all.cardinality().numpy())"
   ]
  },
  {
   "cell_type": "markdown",
   "id": "e26440fe-c4fc-4d68-8bf2-49be52fba8e7",
   "metadata": {},
   "source": [
    "### Functions for encoding"
   ]
  },
  {
   "cell_type": "code",
   "execution_count": 9,
   "id": "2078e6a0-d0ae-4f65-869f-3fe525925a4e",
   "metadata": {
    "tags": []
   },
   "outputs": [],
   "source": [
    "def dna_onehot_tensor(seq):\n",
    "    table = tf.lookup.StaticHashTable(\n",
    "        initializer=tf.lookup.KeyValueTensorInitializer(\n",
    "            keys=tf.constant([\"A\", \"C\", \"G\", \"T\"], dtype=tf.string),\n",
    "            values=tf.constant([0, 1, 2, 3]),\n",
    "        ),\n",
    "        default_value=tf.constant(-1)\n",
    "    )\n",
    "    chars = tf.strings.bytes_split(seq)\n",
    "    ind = table.lookup(chars)\n",
    "    encoded = tf.one_hot(ind, depth=4)\n",
    "    return encoded\n",
    "\n",
    "# test dna_onehot_tensor\n",
    "# test_oh = ds_all.take(6).map(\n",
    "#     lambda x, y: (dna_onehot_tensor(x), y)\n",
    "# )\n",
    "# for padded_batch in test_oh.padded_batch(3):\n",
    "#     display(padded_batch)"
   ]
  },
  {
   "cell_type": "code",
   "execution_count": 10,
   "id": "4d3ed857-9c79-49b2-8dc7-460ead6006b4",
   "metadata": {
    "tags": []
   },
   "outputs": [],
   "source": [
    "def get_kmer_tensor(seq, k):\n",
    "    chars = tf.strings.bytes_split(seq)\n",
    "    kmers = tf.strings.ngrams(chars, k, separator=\"\")\n",
    "    sentence = tf.strings.reduce_join(kmers, separator=\" \")\n",
    "    return sentence\n",
    "\n",
    "# test get_kmer_tensor()\n",
    "# test_kmer = ds_all.take(3).map(\n",
    "#     lambda x, y: (get_kmer_tensor(x, 3), y)\n",
    "# )\n",
    "# display(test_kmer.batch(3).take(1).get_single_element())"
   ]
  },
  {
   "cell_type": "code",
   "execution_count": 11,
   "id": "062118ea-6e54-49ef-b761-82791c8180b5",
   "metadata": {
    "tags": []
   },
   "outputs": [],
   "source": [
    "def get_kmer_vocab(k):\n",
    "    return [\"\".join(x) for x in product(\"ACGT\", repeat=k)]\n",
    "\n",
    "# test get_kmer_vocab()\n",
    "# vocab_kmer = get_kmer_vocab(3)\n",
    "# \" \".join(vocab_kmer)"
   ]
  },
  {
   "cell_type": "markdown",
   "id": "d946328b-cc7e-4889-ab25-23f5eafb237a",
   "metadata": {},
   "source": [
    "### Prepare datasets"
   ]
  },
  {
   "cell_type": "code",
   "execution_count": 12,
   "id": "d574e8c0-5ceb-4fed-a2a2-356de9878bd8",
   "metadata": {
    "tags": []
   },
   "outputs": [],
   "source": [
    "TRAIN_SIZE = 99000\n",
    "VALID_SIZE = 1000\n",
    "TEST_SIZE = 0"
   ]
  },
  {
   "cell_type": "code",
   "execution_count": 13,
   "id": "0a7c30d1-cb2d-41b8-bd71-559c87c59513",
   "metadata": {},
   "outputs": [],
   "source": [
    "ds_train = ds_all.take(TRAIN_SIZE)\n",
    "ds_not_train = ds_all.skip(TRAIN_SIZE)\n",
    "ds_valid = ds_not_train.take(VALID_SIZE)\n",
    "ds_test = ds_not_train.skip(VALID_SIZE)\n",
    "\n",
    "assert ds_train.cardinality().numpy() == TRAIN_SIZE\n",
    "assert ds_valid.cardinality().numpy() == VALID_SIZE\n",
    "assert ds_test.cardinality().numpy() == TEST_SIZE"
   ]
  },
  {
   "cell_type": "code",
   "execution_count": 14,
   "id": "afd8b5b8-9dda-4e59-b2c1-600cf868930c",
   "metadata": {
    "tags": []
   },
   "outputs": [],
   "source": [
    "def transform_ds(ds, method, scale_factor, batch_size=None, shuffle_buffer=None, shuffle_seed=None):\n",
    "    assert method == \"onehot\" or method.endswith(\"mer\")\n",
    "    assert (shuffle_buffer is not None) ^ (shuffle_seed is None)\n",
    "    if method == \"onehot\":\n",
    "        ds = ds.map(lambda x, y: (dna_onehot_tensor(x), y / scale_factor))\n",
    "    else:\n",
    "        k = int(method[0])\n",
    "        ds = ds.map(lambda x, y: (get_kmer_tensor(x, k), y / scale_factor))\n",
    "    if not batch_size:\n",
    "        return ds\n",
    "    if shuffle_buffer:\n",
    "        ds = ds.shuffle(shuffle_buffer, seed=shuffle_seed, reshuffle_each_iteration=True)\n",
    "    batched = ds.padded_batch(batch_size) if method == \"onehot\" else ds.batch(batch_size)\n",
    "    return batched\n",
    "                    \n",
    "# # test encode_ds()\n",
    "# for batch_seq, batch_pos in transform_ds(ds_train.take(6), \"onehot\", 450, 3, 5, 1):\n",
    "#     display(batch_seq.shape)\n",
    "#     display(batch_pos.shape)   \n",
    "# display(batch_seq)\n",
    "# display(batch_pos)\n",
    "    \n",
    "# for batch_seq, batch_pos in transform_ds(ds_train.take(6), \"3mer\", 450, 3, 5, 1):\n",
    "#     display(batch_seq.shape)\n",
    "#     display(batch_pos.shape)\n",
    "# display(batch_seq)\n",
    "# display(batch_pos)\n",
    "\n",
    "# batched = transform_ds(ds_train, \"3mer\", 450, 32, 128, SEED)\n",
    "# display(batched.cardinality().numpy())\n",
    "# prefetched = batched.prefetch(8)\n",
    "# display(prefetched.cardinality().numpy())"
   ]
  },
  {
   "cell_type": "markdown",
   "id": "a9fec84b-7b68-4494-9f60-9cb9fb30eaa0",
   "metadata": {},
   "source": [
    "### Functions and classes for building model"
   ]
  },
  {
   "cell_type": "code",
   "execution_count": 15,
   "id": "5c3b0688-4244-407c-93d7-ae6d862df669",
   "metadata": {
    "tags": []
   },
   "outputs": [],
   "source": [
    "# Custom metrics\n",
    "class ScaledRMSE(keras.metrics.RootMeanSquaredError):\n",
    "    def __init__(self, scale_factor, name=\"s_rmse\", dtype=None):\n",
    "        super().__init__(name, dtype=dtype)\n",
    "        self.scale_factor = scale_factor\n",
    "        \n",
    "    def update_state(self, y_true, y_pred, sample_weight=None):\n",
    "        y_true = tf.math.rint(tf.cast(y_true, self._dtype) * self.scale_factor)\n",
    "        y_pred = tf.cast(y_pred, self._dtype) * self.scale_factor\n",
    "        super().update_state(y_true, y_pred, sample_weight)\n",
    "        \n",
    "class ScaledMAE(keras.metrics.MeanAbsoluteError):\n",
    "    def __init__(self, scale_factor, name=\"s_mae\", dtype=None):\n",
    "        super().__init__(name, dtype=dtype)\n",
    "        self.scale_factor = scale_factor\n",
    "        \n",
    "    def update_state(self, y_true, y_pred, sample_weight=None):\n",
    "        y_true = tf.math.rint(tf.cast(y_true, self._dtype) * self.scale_factor)\n",
    "        y_pred = tf.cast(y_pred, self._dtype) * self.scale_factor\n",
    "        super().update_state(y_true, y_pred, sample_weight)\n",
    "        \n",
    "class PosAccuracy(keras.metrics.Accuracy):\n",
    "    def __init__(self, scale_factor, name=\"p_acc\", dtype=None):\n",
    "        super().__init__(name, dtype=dtype)\n",
    "        self.scale_factor = scale_factor\n",
    "        \n",
    "    def update_state(self, y_true, y_pred, sample_weight=None):\n",
    "        y_true = tf.math.rint(tf.cast(y_true, self._dtype) * self.scale_factor)\n",
    "        y_pred = tf.math.rint(tf.cast(y_pred, self._dtype) * self.scale_factor)\n",
    "        super().update_state(y_true, y_pred, sample_weight)\n",
    "        \n",
    "class AllAccuracy(keras.metrics.Accuracy):\n",
    "    def __init__(self, scale_factor, name=\"a_acc\", dtype=None):\n",
    "        super().__init__(name, dtype=dtype)\n",
    "        self.scale_factor = scale_factor\n",
    "        \n",
    "    def update_state(self, y_true, y_pred, sample_weight=None):\n",
    "        y_true = tf.math.rint(tf.cast(y_true, self._dtype) * self.scale_factor)\n",
    "        y_pred = tf.math.rint(tf.cast(y_pred, self._dtype) * self.scale_factor)\n",
    "        all_correct_bool = tf.reduce_all(y_true == y_pred, axis=-1)\n",
    "        correct_mat = tf.where(all_correct_bool, 1, 0)\n",
    "        y_pred = tf.reshape(correct_mat, (-1, 1))\n",
    "        y_true = tf.ones(tf.shape(y_true)[0], 1)\n",
    "        super().update_state(y_true, y_pred, sample_weight)\n",
    "        \n",
    "class ClassAccuracy(keras.metrics.Metric):\n",
    "    def __init__(self, scale_factor, name=\"c_acc\", **kwargs):\n",
    "        super().__init__(name=name, **kwargs)\n",
    "        self.scale_factor = scale_factor\n",
    "        self.len_sum = self.add_weight(name=\"len_sum\", initializer=\"zeros\")\n",
    "        self.correct_sum = self.add_weight(name=\"correct_sum\", initializer=\"zeros\")\n",
    "\n",
    "    def update_state(self, y_true, y_pred, sample_weight=None):\n",
    "        y_true = tf.math.rint(tf.cast(y_true, self._dtype) * self.scale_factor)\n",
    "        y_pred = tf.math.rint(tf.cast(y_pred, self._dtype) * self.scale_factor)\n",
    "        incorrect_count = tf.reduce_sum(tf.abs(y_true - y_pred))\n",
    "        batch_len_sum = tf.reduce_sum(tf.gather(y_true, indices=(5), axis=-1))\n",
    "        self.len_sum.assign_add(batch_len_sum)\n",
    "        self.correct_sum.assign_add(batch_len_sum - incorrect_count)\n",
    "\n",
    "    def result(self):\n",
    "        return self.correct_sum / self.len_sum\n",
    "\n",
    "    def reset_state(self):\n",
    "        self.len_sum.assign(0.0)\n",
    "        self.correct_sum.assign(0.0)\n",
    "        \n",
    "class SegmentPosAccuracy(PosAccuracy):\n",
    "    def __init__(self, scale_factor, segment, name=\"p_acc\", dtype=None):\n",
    "        assert segment in (\"V\", \"D\", \"J\")\n",
    "        super().__init__(scale_factor, name=f\"{segment}_{name}\", dtype=dtype)\n",
    "        self.segment = segment\n",
    "        \n",
    "    def update_state(self, y_true, y_pred, sample_weight=None):\n",
    "        seg_idx_dict = {\"V\": (0, 1), \"D\": (2, 3), \"J\": (4, 5)}\n",
    "        seg_idx = seg_idx_dict[self.segment]\n",
    "        y_true_seg = tf.gather(y_true, indices=seg_idx, axis=-1)\n",
    "        y_pred_seg = tf.gather(y_pred, indices=seg_idx, axis=-1)\n",
    "        super().update_state(y_true_seg, y_pred_seg, sample_weight)\n",
    "        \n",
    "class SegmentRMSE(ScaledRMSE):\n",
    "    def __init__(self, scale_factor, segment, name=\"s_rmse\", dtype=None):\n",
    "        assert segment in (\"V\", \"D\", \"J\")\n",
    "        super().__init__(scale_factor, name=f\"{segment}_{name}\", dtype=dtype)\n",
    "        self.segment = segment\n",
    "        \n",
    "    def update_state(self, y_true, y_pred, sample_weight=None):\n",
    "        seg_idx_dict = {\"V\": (0, 1), \"D\": (2, 3), \"J\": (4, 5)}\n",
    "        seg_idx = seg_idx_dict[self.segment]\n",
    "        y_true_seg = tf.gather(y_true, indices=seg_idx, axis=-1)\n",
    "        y_pred_seg = tf.gather(y_pred, indices=seg_idx, axis=-1)\n",
    "        super().update_state(y_true_seg, y_pred_seg, sample_weight)\n",
    "        \n",
    "class SegmentMAE(ScaledMAE):\n",
    "    def __init__(self, scale_factor, segment, name=\"s_mae\", dtype=None):\n",
    "        assert segment in (\"V\", \"D\", \"J\")\n",
    "        super().__init__(scale_factor, name=f\"{segment}_{name}\", dtype=dtype)\n",
    "        self.segment = segment\n",
    "        \n",
    "    def update_state(self, y_true, y_pred, sample_weight=None):\n",
    "        seg_idx_dict = {\"V\": (0, 1), \"D\": (2, 3), \"J\": (4, 5)}\n",
    "        seg_idx = seg_idx_dict[self.segment]\n",
    "        y_true_seg = tf.gather(y_true, indices=seg_idx, axis=-1)\n",
    "        y_pred_seg = tf.gather(y_pred, indices=seg_idx, axis=-1)\n",
    "        super().update_state(y_true_seg, y_pred_seg, sample_weight)"
   ]
  },
  {
   "cell_type": "markdown",
   "id": "af5e3078-0953-4538-8305-c928dea890fe",
   "metadata": {},
   "source": [
    "### Evaluate"
   ]
  },
  {
   "cell_type": "code",
   "execution_count": 37,
   "id": "3fa585d6-68c2-49d5-b107-261177999a53",
   "metadata": {
    "tags": []
   },
   "outputs": [],
   "source": [
    "def prepare_ds(data_path):\n",
    "    df_test = pd.read_csv(data_path, sep=\"\\t\")\n",
    "    pos_names = [f\"{seg}_sequence_{pos}\" for seg in \"vdj\" for pos in (\"start\", \"end\")]\n",
    "    sequences = df_test[\"sequence\"]\n",
    "    positions = df_test[pos_names]\n",
    "    ds_seq = Dataset.from_tensor_slices(sequences.to_numpy())\n",
    "    ds_pos = Dataset.from_tensor_slices(positions.to_numpy())\n",
    "    ds_all = Dataset.zip((ds_seq, ds_pos))\n",
    "    ds_input = transform_ds(ds_all, \"3mer\", scale_factor=450, batch_size=512)\n",
    "    return ds_input"
   ]
  },
  {
   "cell_type": "code",
   "execution_count": 75,
   "id": "c6fdbb4d-31ca-4b1e-8427-3e7707ce6bd1",
   "metadata": {
    "tags": []
   },
   "outputs": [],
   "source": [
    "def calculate_r2(ds, model):\n",
    "    x = np.hstack([x for x, y in ds])\n",
    "    y_true = np.vstack([y for x, y in ds])\n",
    "    y_true = np.rint(y_true * 450)\n",
    "    y_pred = model.predict(x, batch_size=512) * 450\n",
    "    return sk_metrics.r2_score(y_true, y_pred)"
   ]
  },
  {
   "cell_type": "code",
   "execution_count": 16,
   "id": "3dc5aa20-db52-4937-8a10-f89463bac172",
   "metadata": {
    "tags": []
   },
   "outputs": [
    {
     "name": "stdout",
     "output_type": "stream",
     "text": [
      "WARNING:tensorflow:Unable to restore custom metric. Please ensure that the layer implements `get_config` and `from_config` when saving. In addition, please use the `custom_objects` arg when calling `load_model()`.\n",
      "WARNING:tensorflow:Unable to restore custom metric. Please ensure that the layer implements `get_config` and `from_config` when saving. In addition, please use the `custom_objects` arg when calling `load_model()`.\n",
      "WARNING:tensorflow:Unable to restore custom metric. Please ensure that the layer implements `get_config` and `from_config` when saving. In addition, please use the `custom_objects` arg when calling `load_model()`.\n",
      "WARNING:tensorflow:Unable to restore custom metric. Please ensure that the layer implements `get_config` and `from_config` when saving. In addition, please use the `custom_objects` arg when calling `load_model()`.\n",
      "WARNING:tensorflow:Unable to restore custom metric. Please ensure that the layer implements `get_config` and `from_config` when saving. In addition, please use the `custom_objects` arg when calling `load_model()`.\n",
      "WARNING:tensorflow:Unable to restore custom metric. Please ensure that the layer implements `get_config` and `from_config` when saving. In addition, please use the `custom_objects` arg when calling `load_model()`.\n",
      "WARNING:tensorflow:Unable to restore custom metric. Please ensure that the layer implements `get_config` and `from_config` when saving. In addition, please use the `custom_objects` arg when calling `load_model()`.\n",
      "WARNING:tensorflow:Unable to restore custom metric. Please ensure that the layer implements `get_config` and `from_config` when saving. In addition, please use the `custom_objects` arg when calling `load_model()`.\n"
     ]
    }
   ],
   "source": [
    "best_model = keras.models.load_model(\"./logs/final_training/top_1/model/best_V\", compile=False)"
   ]
  },
  {
   "cell_type": "code",
   "execution_count": 17,
   "id": "5dbfc829-62fc-4c24-a25b-d0b2bfb0bde4",
   "metadata": {
    "tags": []
   },
   "outputs": [],
   "source": [
    "scale_factor = 450\n",
    "metric_list = [\n",
    "    ScaledRMSE(scale_factor),\n",
    "    ScaledMAE(scale_factor),\n",
    "    PosAccuracy(scale_factor),\n",
    "    AllAccuracy(scale_factor),\n",
    "    ClassAccuracy(scale_factor),\n",
    "    SegmentRMSE(scale_factor, segment=\"V\"),\n",
    "    SegmentRMSE(scale_factor, segment=\"D\"),\n",
    "    SegmentRMSE(scale_factor, segment=\"J\"),\n",
    "    SegmentMAE(scale_factor, segment=\"V\"),\n",
    "    SegmentMAE(scale_factor, segment=\"D\"),\n",
    "    SegmentMAE(scale_factor, segment=\"J\")\n",
    "]\n",
    "best_model.compile(metrics=metric_list)"
   ]
  },
  {
   "cell_type": "code",
   "execution_count": 66,
   "id": "61ff217b-bbfa-4619-8702-113fe82b57ea",
   "metadata": {
    "tags": []
   },
   "outputs": [
    {
     "name": "stdout",
     "output_type": "stream",
     "text": [
      "194/194 [==============================] - 12s 64ms/step - loss: 0.0000e+00 - s_rmse: 1.1156 - s_mae: 0.6563 - p_acc: 0.6059 - a_acc: 0.0352 - c_acc: 0.9903 - V_s_rmse: 0.5059 - D_s_rmse: 1.6607 - J_s_rmse: 0.8486 - V_s_mae: 0.2293 - D_s_mae: 1.1928 - J_s_mae: 0.5468\n",
      "194/194 [==============================] - 17s 88ms/step\n"
     ]
    },
    {
     "data": {
      "text/plain": [
       "0.8044098275618138"
      ]
     },
     "execution_count": 66,
     "metadata": {},
     "output_type": "execute_result"
    }
   ],
   "source": [
    "ds_train_input = transform_ds(ds_train, \"3mer\", scale_factor, batch_size=512)\n",
    "result = best_model.evaluate(ds_train_input)\n",
    "calculate_r2(ds_train_input, best_model)"
   ]
  },
  {
   "cell_type": "code",
   "execution_count": 67,
   "id": "ac143a0a-9c01-4ac9-a6b2-57646f6bb024",
   "metadata": {
    "tags": []
   },
   "outputs": [
    {
     "name": "stdout",
     "output_type": "stream",
     "text": [
      "2/2 [==============================] - 0s 62ms/step - loss: 0.0000e+00 - s_rmse: 1.7902 - s_mae: 0.8415 - p_acc: 0.5963 - a_acc: 0.0270 - c_acc: 0.9873 - V_s_rmse: 0.4953 - D_s_rmse: 2.8942 - J_s_rmse: 0.9963 - V_s_mae: 0.2229 - D_s_mae: 1.7117 - J_s_mae: 0.5899\n",
      "2/2 [==============================] - 0s 63ms/step\n"
     ]
    },
    {
     "data": {
      "text/plain": [
       "0.7743021615918613"
      ]
     },
     "execution_count": 67,
     "metadata": {},
     "output_type": "execute_result"
    }
   ],
   "source": [
    "ds_valid_input = transform_ds(ds_valid, \"3mer\", scale_factor, batch_size=512)\n",
    "result = best_model.evaluate(ds_valid_input)\n",
    "calculate_r2(ds_valid_input, best_model)"
   ]
  },
  {
   "cell_type": "code",
   "execution_count": 68,
   "id": "644de6dd-530a-42e0-9cc0-2794c37feb66",
   "metadata": {
    "tags": []
   },
   "outputs": [
    {
     "name": "stdout",
     "output_type": "stream",
     "text": [
      "196/196 [==============================] - 12s 63ms/step - loss: 0.0000e+00 - s_rmse: 1.9394 - s_mae: 0.9188 - p_acc: 0.5778 - a_acc: 0.0252 - c_acc: 0.9859 - V_s_rmse: 0.5814 - D_s_rmse: 3.1261 - J_s_rmse: 1.0832 - V_s_mae: 0.2595 - D_s_mae: 1.8773 - J_s_mae: 0.6197\n",
      "196/196 [==============================] - 17s 89ms/step\n"
     ]
    },
    {
     "data": {
      "text/plain": [
       "0.7597032598433578"
      ]
     },
     "execution_count": 68,
     "metadata": {},
     "output_type": "execute_result"
    }
   ],
   "source": [
    "ds_airrship = prepare_ds(\"./data/airrship_shm_seed24_100_000.tsv\")\n",
    "result = best_model.evaluate(ds_airrship)\n",
    "calculate_r2(ds_airrship, best_model)"
   ]
  },
  {
   "cell_type": "code",
   "execution_count": 69,
   "id": "b200ddc3-10e3-4c83-a082-43d839eb9ee7",
   "metadata": {
    "tags": []
   },
   "outputs": [
    {
     "name": "stdout",
     "output_type": "stream",
     "text": [
      "42/42 [==============================] - 3s 63ms/step - loss: 0.0000e+00 - s_rmse: 1.8905 - s_mae: 1.0156 - p_acc: 0.5052 - a_acc: 0.0108 - c_acc: 0.9842 - V_s_rmse: 1.3305 - D_s_rmse: 2.6164 - J_s_rmse: 1.4513 - V_s_mae: 0.5759 - D_s_mae: 1.6563 - J_s_mae: 0.8146\n",
      "42/42 [==============================] - 4s 89ms/step\n"
     ]
    },
    {
     "data": {
      "text/plain": [
       "0.7372856453095048"
      ]
     },
     "execution_count": 69,
     "metadata": {},
     "output_type": "execute_result"
    }
   ],
   "source": [
    "ds_implant = prepare_ds(\"./data/implant_shm_seed24_100_000.tsv\")\n",
    "result = best_model.evaluate(ds_implant)\n",
    "calculate_r2(ds_implant, best_model)"
   ]
  },
  {
   "cell_type": "code",
   "execution_count": 71,
   "id": "86dc0b49-21aa-42c7-b126-9735c86cb110",
   "metadata": {
    "tags": []
   },
   "outputs": [
    {
     "name": "stdout",
     "output_type": "stream",
     "text": [
      "196/196 [==============================] - 13s 68ms/step - loss: 0.0000e+00 - s_rmse: 12.9481 - s_mae: 12.6015 - p_acc: 6.9667e-04 - a_acc: 0.0000e+00 - c_acc: 0.8017 - V_s_rmse: 12.7170 - D_s_rmse: 12.3350 - J_s_rmse: 13.7509 - V_s_mae: 12.5606 - D_s_mae: 11.7961 - J_s_mae: 13.4479\n",
      "196/196 [==============================] - 17s 87ms/step\n"
     ]
    },
    {
     "data": {
      "text/plain": [
       "-11.937032459795487"
      ]
     },
     "execution_count": 71,
     "metadata": {},
     "output_type": "execute_result"
    }
   ],
   "source": [
    "ds_rand_end = prepare_ds(\"./data/airrship_shm_seed24_100_000_random_ends.tsv\")\n",
    "result = best_model.evaluate(ds_rand_end)\n",
    "calculate_r2(ds_rand_end, best_model)"
   ]
  },
  {
   "cell_type": "code",
   "execution_count": 72,
   "id": "1ccb73cb-a4d3-473d-a53d-86f3f25008a1",
   "metadata": {
    "tags": []
   },
   "outputs": [
    {
     "name": "stdout",
     "output_type": "stream",
     "text": [
      "196/196 [==============================] - 12s 63ms/step - loss: 0.0000e+00 - s_rmse: 1.6214 - s_mae: 0.7519 - p_acc: 0.6006 - a_acc: 0.0382 - c_acc: 0.9887 - V_s_rmse: 0.4648 - D_s_rmse: 2.6482 - J_s_rmse: 0.8112 - V_s_mae: 0.2155 - D_s_mae: 1.4963 - J_s_mae: 0.5439\n",
      "196/196 [==============================] - 17s 88ms/step\n"
     ]
    },
    {
     "data": {
      "text/plain": [
       "0.7830434386833991"
      ]
     },
     "execution_count": 72,
     "metadata": {},
     "output_type": "execute_result"
    }
   ],
   "source": [
    "ds_no_shm = prepare_ds(\"./data/airrship_seed24_100_000.tsv\")\n",
    "result = best_model.evaluate(ds_no_shm)\n",
    "calculate_r2(ds_no_shm, best_model)"
   ]
  },
  {
   "cell_type": "markdown",
   "id": "c3709d35-07ba-4f8d-8233-bbf01a5cae01",
   "metadata": {
    "tags": []
   },
   "source": [
    "### Compare with IgBlast"
   ]
  },
  {
   "cell_type": "code",
   "execution_count": 102,
   "id": "dcf8ca20-cbf3-4c44-8145-53533db10338",
   "metadata": {
    "tags": []
   },
   "outputs": [
    {
     "name": "stdout",
     "output_type": "stream",
     "text": [
      "airrship_seed24_100_000.tsv\n",
      "v_sequence_start       0\n",
      "v_sequence_end         0\n",
      "d_sequence_start    2397\n",
      "d_sequence_end      2397\n",
      "j_sequence_start       0\n",
      "j_sequence_end         0\n",
      "dtype: int64\n",
      "s_rmse: 1.780578851699829\n",
      "s_mae: 0.4715617001056671\n",
      "p_acc: 0.8244674801826477\n",
      "a_acc: 0.3391494154930115\n",
      "c_acc: 0.9923363924026489\n",
      "V_s_rmse: 0.3858412802219391\n",
      "D_s_rmse: 3.0084450244903564\n",
      "J_s_rmse: 0.5583619475364685\n",
      "V_s_mae: 0.07760519534349442\n",
      "D_s_mae: 1.192437767982483\n",
      "J_s_mae: 0.14464206993579865\n",
      "r2: 0.9407354397961037\n",
      "\n",
      "airrship_shm_seed24_100_000.tsv\n",
      "v_sequence_start       0\n",
      "v_sequence_end         0\n",
      "d_sequence_start    2353\n",
      "d_sequence_end      2353\n",
      "j_sequence_start       3\n",
      "j_sequence_end         3\n",
      "dtype: int64\n",
      "s_rmse: 2.4425885677337646\n",
      "s_mae: 0.795991837978363\n",
      "p_acc: 0.7648106217384338\n",
      "a_acc: 0.21679775416851044\n",
      "c_acc: 0.9870631694793701\n",
      "V_s_rmse: 0.7011434435844421\n",
      "D_s_rmse: 3.8311054706573486\n",
      "J_s_rmse: 1.652194857597351\n",
      "V_s_mae: 0.13926099240779877\n",
      "D_s_mae: 1.7772828340530396\n",
      "J_s_mae: 0.4714319407939911\n",
      "r2: 0.7292128920782391\n",
      "\n",
      "airrship_shm_seed24_100_000_random_ends.tsv\n",
      "v_sequence_start       0\n",
      "v_sequence_end         0\n",
      "d_sequence_start    2353\n",
      "d_sequence_end      2353\n",
      "j_sequence_start       3\n",
      "j_sequence_end         3\n",
      "dtype: int64\n",
      "s_rmse: 2.4425885677337646\n",
      "s_mae: 0.795991837978363\n",
      "p_acc: 0.7648106217384338\n",
      "a_acc: 0.21679775416851044\n",
      "c_acc: 0.9874866008758545\n",
      "V_s_rmse: 0.7011434435844421\n",
      "D_s_rmse: 3.8311054706573486\n",
      "J_s_rmse: 1.652194857597351\n",
      "V_s_mae: 0.13926099240779877\n",
      "D_s_mae: 1.7772828340530396\n",
      "J_s_mae: 0.4714319407939911\n",
      "r2: 0.8774313386536615\n",
      "\n",
      "implant_shm_seed24_100_000.tsv\n",
      "v_sequence_start      0\n",
      "v_sequence_end        0\n",
      "d_sequence_start    546\n",
      "d_sequence_end      546\n",
      "j_sequence_start      0\n",
      "j_sequence_end        0\n",
      "dtype: int64\n",
      "s_rmse: 1.6766935586929321\n",
      "s_mae: 0.6271656155586243\n",
      "p_acc: 0.7096918821334839\n",
      "a_acc: 0.12979477643966675\n",
      "c_acc: 0.9898144006729126\n",
      "V_s_rmse: 1.259134292602539\n",
      "D_s_rmse: 2.3813419342041016\n",
      "J_s_rmse: 1.0852164030075073\n",
      "V_s_mae: 0.45619964599609375\n",
      "D_s_mae: 1.062619924545288\n",
      "J_s_mae: 0.3626773953437805\n",
      "r2: 0.9175632380147597\n",
      "\n"
     ]
    }
   ],
   "source": [
    "scale_factor = 1\n",
    "metric_list = [\n",
    "    ScaledRMSE(scale_factor),\n",
    "    ScaledMAE(scale_factor),\n",
    "    PosAccuracy(scale_factor),\n",
    "    AllAccuracy(scale_factor),\n",
    "    ClassAccuracy(scale_factor),\n",
    "    SegmentRMSE(scale_factor, segment=\"V\"),\n",
    "    SegmentRMSE(scale_factor, segment=\"D\"),\n",
    "    SegmentRMSE(scale_factor, segment=\"J\"),\n",
    "    SegmentMAE(scale_factor, segment=\"V\"),\n",
    "    SegmentMAE(scale_factor, segment=\"D\"),\n",
    "    SegmentMAE(scale_factor, segment=\"J\")\n",
    "]\n",
    "\n",
    "data_list = [\n",
    "    \"airrship_seed24_100_000.tsv\",\n",
    "    \"airrship_shm_seed24_100_000.tsv\",\n",
    "    \"airrship_shm_seed24_100_000_random_ends.tsv\",\n",
    "    \"implant_shm_seed24_100_000.tsv\"\n",
    "]\n",
    "\n",
    "for data_path in data_list:\n",
    "    print(data_path)\n",
    "    df_true = pd.read_csv(\"./data/\" + data_path, sep=\"\\t\")\n",
    "    df_pred = pd.read_csv(\"./data/igblast_\" + data_path, sep=\"\\t\")\n",
    "    assert (df_true[\"sequence\"] == df_pred[\"sequence\"]).all()\n",
    "    df_true = df_true[pos_names]\n",
    "    df_pred = df_pred[pos_names]\n",
    "    \n",
    "    pred_nan = df_pred.isna()\n",
    "    if pred_nan.any().any():\n",
    "        print(pred_nan.sum())\n",
    "        df_pred.dropna(inplace=True)\n",
    "    df_true = df_true.loc[df_pred.index]\n",
    "    \n",
    "    y_true = df_true.to_numpy()\n",
    "    y_pred = df_pred.to_numpy()\n",
    "    for metric in metric_list:\n",
    "        metric.reset_states()\n",
    "        metric.update_state(y_true, y_pred)\n",
    "        result = metric.result()\n",
    "        print(f\"{metric.name}: {result}\")\n",
    "    print(f\"r2: {sk_metrics.r2_score(y_true, y_pred)}\")\n",
    "    print()"
   ]
  }
 ],
 "metadata": {
  "kernelspec": {
   "display_name": "tf210",
   "language": "python",
   "name": "tf210"
  },
  "language_info": {
   "codemirror_mode": {
    "name": "ipython",
    "version": 3
   },
   "file_extension": ".py",
   "mimetype": "text/x-python",
   "name": "python",
   "nbconvert_exporter": "python",
   "pygments_lexer": "ipython3",
   "version": "3.10.8"
  }
 },
 "nbformat": 4,
 "nbformat_minor": 5
}
